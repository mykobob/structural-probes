{
 "cells": [
  {
   "cell_type": "code",
   "execution_count": 1,
   "metadata": {},
   "outputs": [
    {
     "name": "stderr",
     "output_type": "stream",
     "text": [
      "INFO:transformers.file_utils:PyTorch version 1.5.0 available.\n"
     ]
    }
   ],
   "source": [
    "import sys\n",
    "sys.path.append('../structural-probes/')\n",
    "import torch\n",
    "import numpy as np\n",
    "from pytorch_lightning import Trainer\n",
    "from pytorch_lightning.loggers.comet import CometLogger\n",
    "from pytorch_lightning.callbacks import ModelCheckpoint, EarlyStopping\n",
    "\n",
    "from utils.setup_runs import parse_args, get_default_args, get_comet_key\n",
    "from finetune_bert_module import SST_Test\n",
    "\n",
    "import os\n",
    "import random"
   ]
  },
  {
   "cell_type": "code",
   "execution_count": 2,
   "metadata": {},
   "outputs": [],
   "source": [
    "desired_hparams = {\n",
    "    'lr': 1e-4,\n",
    "    'batch_size': 32,\n",
    "}\n",
    "desired_params = {\n",
    "    'sst_train_path': os.path.join(\"data\", \"SST-2\", \"sentence_splits\", \"train_cat.tsv\"),\n",
    "    'sst_val_path': os.path.join(\"data\", \"SST-2\", \"sentence_splits\", \"dev_cat.tsv\"),\n",
    "    'run_name': 'proper_classification'\n",
    "}\n",
    "hparams, args = get_default_args(desired_hparams, desired_params)"
   ]
  },
  {
   "cell_type": "code",
   "execution_count": 3,
   "metadata": {},
   "outputs": [],
   "source": [
    "# Set device to cuda if available unless explicitly disabled\n",
    "if args.device == torch.device('cuda'):\n",
    "    num_gpus = 1\n",
    "else:\n",
    "    num_gpus = 0\n",
    "\n",
    "# Output debug logs in debug mode\n",
    "if args.debug:\n",
    "    args.log_level = \"debug\""
   ]
  },
  {
   "cell_type": "code",
   "execution_count": 4,
   "metadata": {},
   "outputs": [],
   "source": [
    "# Set all seeds manually for consistent results\n",
    "torch.manual_seed(hparams.seed)\n",
    "np.random.seed(hparams.seed)\n",
    "random.seed(hparams.seed)"
   ]
  },
  {
   "cell_type": "code",
   "execution_count": 5,
   "metadata": {},
   "outputs": [
    {
     "name": "stderr",
     "output_type": "stream",
     "text": [
      "INFO:lightning:CometLogger will be initialized in online mode\n",
      "COMET INFO: Experiment is live on comet.ml https://www.comet.ml/mykobob/structural-probes-extension/4e189296c87f48bda80ec112b0a67999\n",
      "\n"
     ]
    }
   ],
   "source": [
    "###############\n",
    "# CometLogger configuration\n",
    "###############\n",
    "\n",
    "comet_key = get_comet_key()\n",
    "comet_logger = CometLogger(\n",
    "    api_key = comet_key,\n",
    "    workspace = \"mykobob\",\n",
    "    project_name = \"structural-probes-extension\",\n",
    "    experiment_name = args.run_name\n",
    ")\n",
    "# Log args to comet\n",
    "comet_logger.log_hyperparams(hparams)\n",
    "comet_logger.experiment.set_name(args.run_name)\n",
    "comet_logger.experiment.add_tag(\"sst-tests\")"
   ]
  },
  {
   "cell_type": "code",
   "execution_count": 6,
   "metadata": {},
   "outputs": [],
   "source": [
    "###############\n",
    "# Other callback configuration\n",
    "###############\n",
    "\n",
    "checkpoint_callback = ModelCheckpoint(\n",
    "    filepath=os.path.join(\"lightning_logs\", args.run_name, \"checkpoints\"),\n",
    "    save_top_k=args.num_saved_models,\n",
    "    verbose=True,\n",
    "    monitor=\"val_loss\",\n",
    "    mode=\"min\",\n",
    ")"
   ]
  },
  {
   "cell_type": "code",
   "execution_count": 7,
   "metadata": {},
   "outputs": [],
   "source": [
    "if args.early_stopping:\n",
    "    early_stopping = EarlyStopping(\n",
    "        monitor='val_loss',\n",
    "        min_delta=0.00,\n",
    "        patience=args.early_stopping,\n",
    "        verbose=False,\n",
    "        mode='min'\n",
    "        #mode='max'\n",
    "    )\n",
    "else:\n",
    "    early_stopping = None"
   ]
  },
  {
   "cell_type": "code",
   "execution_count": 8,
   "metadata": {},
   "outputs": [
    {
     "name": "stdout",
     "output_type": "stream",
     "text": [
      "/home1/06129/mbli/structural-probes\n"
     ]
    }
   ],
   "source": [
    "%cd .."
   ]
  },
  {
   "cell_type": "code",
   "execution_count": 9,
   "metadata": {},
   "outputs": [
    {
     "name": "stderr",
     "output_type": "stream",
     "text": [
      "INFO:transformers.tokenization_utils:loading file https://s3.amazonaws.com/models.huggingface.co/bert/bert-base-cased-vocab.txt from cache at /home1/06129/mbli/.cache/torch/transformers/5e8a2b4893d13790ed4150ca1906be5f7a03d6c4ddf62296c383f6db42814db2.e13dbb970cb325137104fb2e5f36fe865f27746c6b526f6352861b1980eb80b1\n",
      "INFO:transformers.configuration_utils:loading configuration file https://s3.amazonaws.com/models.huggingface.co/bert/bert-base-cased-config.json from cache at /home1/06129/mbli/.cache/torch/transformers/b945b69218e98b3e2c95acf911789741307dec43c698d35fad11c1ae28bda352.9da767be51e1327499df13488672789394e2ca38b877837e52618a67d7002391\n",
      "INFO:transformers.configuration_utils:Model config BertConfig {\n",
      "  \"_num_labels\": 2,\n",
      "  \"architectures\": [\n",
      "    \"BertForMaskedLM\"\n",
      "  ],\n",
      "  \"attention_probs_dropout_prob\": 0.1,\n",
      "  \"bad_words_ids\": null,\n",
      "  \"bos_token_id\": null,\n",
      "  \"decoder_start_token_id\": null,\n",
      "  \"do_sample\": false,\n",
      "  \"early_stopping\": false,\n",
      "  \"eos_token_id\": null,\n",
      "  \"finetuning_task\": null,\n",
      "  \"hidden_act\": \"gelu\",\n",
      "  \"hidden_dropout_prob\": 0.1,\n",
      "  \"hidden_size\": 768,\n",
      "  \"id2label\": {\n",
      "    \"0\": \"LABEL_0\",\n",
      "    \"1\": \"LABEL_1\"\n",
      "  },\n",
      "  \"initializer_range\": 0.02,\n",
      "  \"intermediate_size\": 3072,\n",
      "  \"is_decoder\": false,\n",
      "  \"is_encoder_decoder\": false,\n",
      "  \"label2id\": {\n",
      "    \"LABEL_0\": 0,\n",
      "    \"LABEL_1\": 1\n",
      "  },\n",
      "  \"layer_norm_eps\": 1e-12,\n",
      "  \"length_penalty\": 1.0,\n",
      "  \"max_length\": 20,\n",
      "  \"max_position_embeddings\": 512,\n",
      "  \"min_length\": 0,\n",
      "  \"model_type\": \"bert\",\n",
      "  \"no_repeat_ngram_size\": 0,\n",
      "  \"num_attention_heads\": 12,\n",
      "  \"num_beams\": 1,\n",
      "  \"num_hidden_layers\": 12,\n",
      "  \"num_return_sequences\": 1,\n",
      "  \"output_attentions\": false,\n",
      "  \"output_hidden_states\": false,\n",
      "  \"output_past\": true,\n",
      "  \"pad_token_id\": 0,\n",
      "  \"prefix\": null,\n",
      "  \"pruned_heads\": {},\n",
      "  \"repetition_penalty\": 1.0,\n",
      "  \"task_specific_params\": null,\n",
      "  \"temperature\": 1.0,\n",
      "  \"top_k\": 50,\n",
      "  \"top_p\": 1.0,\n",
      "  \"torchscript\": false,\n",
      "  \"type_vocab_size\": 2,\n",
      "  \"use_bfloat16\": false,\n",
      "  \"vocab_size\": 28996\n",
      "}\n",
      "\n",
      "INFO:transformers.modeling_utils:loading weights file https://s3.amazonaws.com/models.huggingface.co/bert/bert-base-cased-pytorch_model.bin from cache at /home1/06129/mbli/.cache/torch/transformers/35d8b9d36faaf46728a0192d82bf7d00137490cd6074e8500778afed552a67e5.3fadbea36527ae472139fe84cddaa65454d7429f12d543d80bfc3ad70de55ac2\n",
      "INFO:transformers.modeling_utils:Weights of BertForSequenceClassification not initialized from pretrained model: ['classifier.weight', 'classifier.bias']\n",
      "INFO:transformers.modeling_utils:Weights from pretrained model not used in BertForSequenceClassification: ['cls.predictions.bias', 'cls.predictions.transform.dense.weight', 'cls.predictions.transform.dense.bias', 'cls.predictions.decoder.weight', 'cls.seq_relationship.weight', 'cls.seq_relationship.bias', 'cls.predictions.transform.LayerNorm.weight', 'cls.predictions.transform.LayerNorm.bias']\n"
     ]
    }
   ],
   "source": [
    "###############\n",
    "# Model creation\n",
    "###############\n",
    "\n",
    "testing = False\n",
    "if testing:\n",
    "    model = SST_Test.load_from_checkpoint(\n",
    "        'finetuning/lightning_logs/default/_ckpt_epoch_2.ckpt', None, None, params).to(args.device)\n",
    "else:\n",
    "    model = SST_Test(hparams, args).to(args.device)\n",
    "\n",
    "comet_logger.experiment.add_tag(\"SST\")"
   ]
  },
  {
   "cell_type": "code",
   "execution_count": 10,
   "metadata": {},
   "outputs": [
    {
     "name": "stderr",
     "output_type": "stream",
     "text": [
      "INFO:lightning:GPU available: True, used: True\n",
      "INFO:lightning:CUDA_VISIBLE_DEVICES: [0]\n"
     ]
    }
   ],
   "source": [
    "###############\n",
    "# Create Trainer with specified attributes\n",
    "###############\n",
    "\n",
    "trainer = Trainer(\n",
    "    fast_dev_run=args.debug,\n",
    "    max_nb_epochs=hparams.epochs,\n",
    "    gpus=num_gpus,\n",
    "    train_percent_check=hparams.train_pct,\n",
    "    val_percent_check=hparams.val_pct,\n",
    "    checkpoint_callback=checkpoint_callback,\n",
    "    early_stop_callback=early_stopping,\n",
    "    logger=comet_logger,\n",
    ")"
   ]
  },
  {
   "cell_type": "code",
   "execution_count": 11,
   "metadata": {},
   "outputs": [
    {
     "name": "stderr",
     "output_type": "stream",
     "text": [
      "INFO:lightning:Set SLURM handle signals.\n",
      "INFO:lightning:\n",
      "    | Name                                                  | Type                          | Params\n",
      "----------------------------------------------------------------------------------------------------\n",
      "0   | loss                                                  | CrossEntropyLoss              | 0     \n",
      "1   | bert                                                  | BertForSequenceClassification | 108 M \n",
      "2   | bert.bert                                             | BertModel                     | 108 M \n",
      "3   | bert.bert.embeddings                                  | BertEmbeddings                | 22 M  \n",
      "4   | bert.bert.embeddings.word_embeddings                  | Embedding                     | 22 M  \n",
      "5   | bert.bert.embeddings.position_embeddings              | Embedding                     | 393 K \n",
      "6   | bert.bert.embeddings.token_type_embeddings            | Embedding                     | 1 K   \n",
      "7   | bert.bert.embeddings.LayerNorm                        | LayerNorm                     | 1 K   \n",
      "8   | bert.bert.embeddings.dropout                          | Dropout                       | 0     \n",
      "9   | bert.bert.encoder                                     | BertEncoder                   | 85 M  \n",
      "10  | bert.bert.encoder.layer                               | ModuleList                    | 85 M  \n",
      "11  | bert.bert.encoder.layer.0                             | BertLayer                     | 7 M   \n",
      "12  | bert.bert.encoder.layer.0.attention                   | BertAttention                 | 2 M   \n",
      "13  | bert.bert.encoder.layer.0.attention.self              | BertSelfAttention             | 1 M   \n",
      "14  | bert.bert.encoder.layer.0.attention.self.query        | Linear                        | 590 K \n",
      "15  | bert.bert.encoder.layer.0.attention.self.key          | Linear                        | 590 K \n",
      "16  | bert.bert.encoder.layer.0.attention.self.value        | Linear                        | 590 K \n",
      "17  | bert.bert.encoder.layer.0.attention.self.dropout      | Dropout                       | 0     \n",
      "18  | bert.bert.encoder.layer.0.attention.output            | BertSelfOutput                | 592 K \n",
      "19  | bert.bert.encoder.layer.0.attention.output.dense      | Linear                        | 590 K \n",
      "20  | bert.bert.encoder.layer.0.attention.output.LayerNorm  | LayerNorm                     | 1 K   \n",
      "21  | bert.bert.encoder.layer.0.attention.output.dropout    | Dropout                       | 0     \n",
      "22  | bert.bert.encoder.layer.0.intermediate                | BertIntermediate              | 2 M   \n",
      "23  | bert.bert.encoder.layer.0.intermediate.dense          | Linear                        | 2 M   \n",
      "24  | bert.bert.encoder.layer.0.output                      | BertOutput                    | 2 M   \n",
      "25  | bert.bert.encoder.layer.0.output.dense                | Linear                        | 2 M   \n",
      "26  | bert.bert.encoder.layer.0.output.LayerNorm            | LayerNorm                     | 1 K   \n",
      "27  | bert.bert.encoder.layer.0.output.dropout              | Dropout                       | 0     \n",
      "28  | bert.bert.encoder.layer.1                             | BertLayer                     | 7 M   \n",
      "29  | bert.bert.encoder.layer.1.attention                   | BertAttention                 | 2 M   \n",
      "30  | bert.bert.encoder.layer.1.attention.self              | BertSelfAttention             | 1 M   \n",
      "31  | bert.bert.encoder.layer.1.attention.self.query        | Linear                        | 590 K \n",
      "32  | bert.bert.encoder.layer.1.attention.self.key          | Linear                        | 590 K \n",
      "33  | bert.bert.encoder.layer.1.attention.self.value        | Linear                        | 590 K \n",
      "34  | bert.bert.encoder.layer.1.attention.self.dropout      | Dropout                       | 0     \n",
      "35  | bert.bert.encoder.layer.1.attention.output            | BertSelfOutput                | 592 K \n",
      "36  | bert.bert.encoder.layer.1.attention.output.dense      | Linear                        | 590 K \n",
      "37  | bert.bert.encoder.layer.1.attention.output.LayerNorm  | LayerNorm                     | 1 K   \n",
      "38  | bert.bert.encoder.layer.1.attention.output.dropout    | Dropout                       | 0     \n",
      "39  | bert.bert.encoder.layer.1.intermediate                | BertIntermediate              | 2 M   \n",
      "40  | bert.bert.encoder.layer.1.intermediate.dense          | Linear                        | 2 M   \n",
      "41  | bert.bert.encoder.layer.1.output                      | BertOutput                    | 2 M   \n",
      "42  | bert.bert.encoder.layer.1.output.dense                | Linear                        | 2 M   \n",
      "43  | bert.bert.encoder.layer.1.output.LayerNorm            | LayerNorm                     | 1 K   \n",
      "44  | bert.bert.encoder.layer.1.output.dropout              | Dropout                       | 0     \n",
      "45  | bert.bert.encoder.layer.2                             | BertLayer                     | 7 M   \n",
      "46  | bert.bert.encoder.layer.2.attention                   | BertAttention                 | 2 M   \n",
      "47  | bert.bert.encoder.layer.2.attention.self              | BertSelfAttention             | 1 M   \n",
      "48  | bert.bert.encoder.layer.2.attention.self.query        | Linear                        | 590 K \n",
      "49  | bert.bert.encoder.layer.2.attention.self.key          | Linear                        | 590 K \n",
      "50  | bert.bert.encoder.layer.2.attention.self.value        | Linear                        | 590 K \n",
      "51  | bert.bert.encoder.layer.2.attention.self.dropout      | Dropout                       | 0     \n",
      "52  | bert.bert.encoder.layer.2.attention.output            | BertSelfOutput                | 592 K \n",
      "53  | bert.bert.encoder.layer.2.attention.output.dense      | Linear                        | 590 K \n",
      "54  | bert.bert.encoder.layer.2.attention.output.LayerNorm  | LayerNorm                     | 1 K   \n",
      "55  | bert.bert.encoder.layer.2.attention.output.dropout    | Dropout                       | 0     \n",
      "56  | bert.bert.encoder.layer.2.intermediate                | BertIntermediate              | 2 M   \n",
      "57  | bert.bert.encoder.layer.2.intermediate.dense          | Linear                        | 2 M   \n",
      "58  | bert.bert.encoder.layer.2.output                      | BertOutput                    | 2 M   \n",
      "59  | bert.bert.encoder.layer.2.output.dense                | Linear                        | 2 M   \n",
      "60  | bert.bert.encoder.layer.2.output.LayerNorm            | LayerNorm                     | 1 K   \n",
      "61  | bert.bert.encoder.layer.2.output.dropout              | Dropout                       | 0     \n",
      "62  | bert.bert.encoder.layer.3                             | BertLayer                     | 7 M   \n",
      "63  | bert.bert.encoder.layer.3.attention                   | BertAttention                 | 2 M   \n",
      "64  | bert.bert.encoder.layer.3.attention.self              | BertSelfAttention             | 1 M   \n",
      "65  | bert.bert.encoder.layer.3.attention.self.query        | Linear                        | 590 K \n",
      "66  | bert.bert.encoder.layer.3.attention.self.key          | Linear                        | 590 K \n",
      "67  | bert.bert.encoder.layer.3.attention.self.value        | Linear                        | 590 K \n",
      "68  | bert.bert.encoder.layer.3.attention.self.dropout      | Dropout                       | 0     \n",
      "69  | bert.bert.encoder.layer.3.attention.output            | BertSelfOutput                | 592 K \n",
      "70  | bert.bert.encoder.layer.3.attention.output.dense      | Linear                        | 590 K \n",
      "71  | bert.bert.encoder.layer.3.attention.output.LayerNorm  | LayerNorm                     | 1 K   \n",
      "72  | bert.bert.encoder.layer.3.attention.output.dropout    | Dropout                       | 0     \n",
      "73  | bert.bert.encoder.layer.3.intermediate                | BertIntermediate              | 2 M   \n",
      "74  | bert.bert.encoder.layer.3.intermediate.dense          | Linear                        | 2 M   \n",
      "75  | bert.bert.encoder.layer.3.output                      | BertOutput                    | 2 M   \n",
      "76  | bert.bert.encoder.layer.3.output.dense                | Linear                        | 2 M   \n",
      "77  | bert.bert.encoder.layer.3.output.LayerNorm            | LayerNorm                     | 1 K   \n",
      "78  | bert.bert.encoder.layer.3.output.dropout              | Dropout                       | 0     \n",
      "79  | bert.bert.encoder.layer.4                             | BertLayer                     | 7 M   \n",
      "80  | bert.bert.encoder.layer.4.attention                   | BertAttention                 | 2 M   \n",
      "81  | bert.bert.encoder.layer.4.attention.self              | BertSelfAttention             | 1 M   \n",
      "82  | bert.bert.encoder.layer.4.attention.self.query        | Linear                        | 590 K \n",
      "83  | bert.bert.encoder.layer.4.attention.self.key          | Linear                        | 590 K \n",
      "84  | bert.bert.encoder.layer.4.attention.self.value        | Linear                        | 590 K \n",
      "85  | bert.bert.encoder.layer.4.attention.self.dropout      | Dropout                       | 0     \n",
      "86  | bert.bert.encoder.layer.4.attention.output            | BertSelfOutput                | 592 K \n",
      "87  | bert.bert.encoder.layer.4.attention.output.dense      | Linear                        | 590 K \n",
      "88  | bert.bert.encoder.layer.4.attention.output.LayerNorm  | LayerNorm                     | 1 K   \n",
      "89  | bert.bert.encoder.layer.4.attention.output.dropout    | Dropout                       | 0     \n",
      "90  | bert.bert.encoder.layer.4.intermediate                | BertIntermediate              | 2 M   \n",
      "91  | bert.bert.encoder.layer.4.intermediate.dense          | Linear                        | 2 M   \n",
      "92  | bert.bert.encoder.layer.4.output                      | BertOutput                    | 2 M   \n",
      "93  | bert.bert.encoder.layer.4.output.dense                | Linear                        | 2 M   \n",
      "94  | bert.bert.encoder.layer.4.output.LayerNorm            | LayerNorm                     | 1 K   \n",
      "95  | bert.bert.encoder.layer.4.output.dropout              | Dropout                       | 0     \n",
      "96  | bert.bert.encoder.layer.5                             | BertLayer                     | 7 M   \n",
      "97  | bert.bert.encoder.layer.5.attention                   | BertAttention                 | 2 M   \n",
      "98  | bert.bert.encoder.layer.5.attention.self              | BertSelfAttention             | 1 M   \n",
      "99  | bert.bert.encoder.layer.5.attention.self.query        | Linear                        | 590 K \n",
      "100 | bert.bert.encoder.layer.5.attention.self.key          | Linear                        | 590 K \n",
      "101 | bert.bert.encoder.layer.5.attention.self.value        | Linear                        | 590 K \n",
      "102 | bert.bert.encoder.layer.5.attention.self.dropout      | Dropout                       | 0     \n",
      "103 | bert.bert.encoder.layer.5.attention.output            | BertSelfOutput                | 592 K \n",
      "104 | bert.bert.encoder.layer.5.attention.output.dense      | Linear                        | 590 K \n",
      "105 | bert.bert.encoder.layer.5.attention.output.LayerNorm  | LayerNorm                     | 1 K   \n",
      "106 | bert.bert.encoder.layer.5.attention.output.dropout    | Dropout                       | 0     \n",
      "107 | bert.bert.encoder.layer.5.intermediate                | BertIntermediate              | 2 M   \n",
      "108 | bert.bert.encoder.layer.5.intermediate.dense          | Linear                        | 2 M   \n",
      "109 | bert.bert.encoder.layer.5.output                      | BertOutput                    | 2 M   \n",
      "110 | bert.bert.encoder.layer.5.output.dense                | Linear                        | 2 M   \n",
      "111 | bert.bert.encoder.layer.5.output.LayerNorm            | LayerNorm                     | 1 K   \n",
      "112 | bert.bert.encoder.layer.5.output.dropout              | Dropout                       | 0     \n",
      "113 | bert.bert.encoder.layer.6                             | BertLayer                     | 7 M   \n",
      "114 | bert.bert.encoder.layer.6.attention                   | BertAttention                 | 2 M   \n",
      "115 | bert.bert.encoder.layer.6.attention.self              | BertSelfAttention             | 1 M   \n",
      "116 | bert.bert.encoder.layer.6.attention.self.query        | Linear                        | 590 K \n",
      "117 | bert.bert.encoder.layer.6.attention.self.key          | Linear                        | 590 K \n",
      "118 | bert.bert.encoder.layer.6.attention.self.value        | Linear                        | 590 K \n",
      "119 | bert.bert.encoder.layer.6.attention.self.dropout      | Dropout                       | 0     \n",
      "120 | bert.bert.encoder.layer.6.attention.output            | BertSelfOutput                | 592 K \n",
      "121 | bert.bert.encoder.layer.6.attention.output.dense      | Linear                        | 590 K \n",
      "122 | bert.bert.encoder.layer.6.attention.output.LayerNorm  | LayerNorm                     | 1 K   \n",
      "123 | bert.bert.encoder.layer.6.attention.output.dropout    | Dropout                       | 0     \n",
      "124 | bert.bert.encoder.layer.6.intermediate                | BertIntermediate              | 2 M   \n",
      "125 | bert.bert.encoder.layer.6.intermediate.dense          | Linear                        | 2 M   \n",
      "126 | bert.bert.encoder.layer.6.output                      | BertOutput                    | 2 M   \n",
      "127 | bert.bert.encoder.layer.6.output.dense                | Linear                        | 2 M   \n",
      "128 | bert.bert.encoder.layer.6.output.LayerNorm            | LayerNorm                     | 1 K   \n",
      "129 | bert.bert.encoder.layer.6.output.dropout              | Dropout                       | 0     \n",
      "130 | bert.bert.encoder.layer.7                             | BertLayer                     | 7 M   \n",
      "131 | bert.bert.encoder.layer.7.attention                   | BertAttention                 | 2 M   \n",
      "132 | bert.bert.encoder.layer.7.attention.self              | BertSelfAttention             | 1 M   \n",
      "133 | bert.bert.encoder.layer.7.attention.self.query        | Linear                        | 590 K \n",
      "134 | bert.bert.encoder.layer.7.attention.self.key          | Linear                        | 590 K \n",
      "135 | bert.bert.encoder.layer.7.attention.self.value        | Linear                        | 590 K \n",
      "136 | bert.bert.encoder.layer.7.attention.self.dropout      | Dropout                       | 0     \n",
      "137 | bert.bert.encoder.layer.7.attention.output            | BertSelfOutput                | 592 K \n",
      "138 | bert.bert.encoder.layer.7.attention.output.dense      | Linear                        | 590 K \n",
      "139 | bert.bert.encoder.layer.7.attention.output.LayerNorm  | LayerNorm                     | 1 K   \n",
      "140 | bert.bert.encoder.layer.7.attention.output.dropout    | Dropout                       | 0     \n",
      "141 | bert.bert.encoder.layer.7.intermediate                | BertIntermediate              | 2 M   \n",
      "142 | bert.bert.encoder.layer.7.intermediate.dense          | Linear                        | 2 M   \n",
      "143 | bert.bert.encoder.layer.7.output                      | BertOutput                    | 2 M   \n",
      "144 | bert.bert.encoder.layer.7.output.dense                | Linear                        | 2 M   \n",
      "145 | bert.bert.encoder.layer.7.output.LayerNorm            | LayerNorm                     | 1 K   \n",
      "146 | bert.bert.encoder.layer.7.output.dropout              | Dropout                       | 0     \n",
      "147 | bert.bert.encoder.layer.8                             | BertLayer                     | 7 M   \n",
      "148 | bert.bert.encoder.layer.8.attention                   | BertAttention                 | 2 M   \n",
      "149 | bert.bert.encoder.layer.8.attention.self              | BertSelfAttention             | 1 M   \n",
      "150 | bert.bert.encoder.layer.8.attention.self.query        | Linear                        | 590 K \n",
      "151 | bert.bert.encoder.layer.8.attention.self.key          | Linear                        | 590 K \n",
      "152 | bert.bert.encoder.layer.8.attention.self.value        | Linear                        | 590 K \n",
      "153 | bert.bert.encoder.layer.8.attention.self.dropout      | Dropout                       | 0     \n",
      "154 | bert.bert.encoder.layer.8.attention.output            | BertSelfOutput                | 592 K \n",
      "155 | bert.bert.encoder.layer.8.attention.output.dense      | Linear                        | 590 K \n",
      "156 | bert.bert.encoder.layer.8.attention.output.LayerNorm  | LayerNorm                     | 1 K   \n",
      "157 | bert.bert.encoder.layer.8.attention.output.dropout    | Dropout                       | 0     \n",
      "158 | bert.bert.encoder.layer.8.intermediate                | BertIntermediate              | 2 M   \n",
      "159 | bert.bert.encoder.layer.8.intermediate.dense          | Linear                        | 2 M   \n",
      "160 | bert.bert.encoder.layer.8.output                      | BertOutput                    | 2 M   \n",
      "161 | bert.bert.encoder.layer.8.output.dense                | Linear                        | 2 M   \n",
      "162 | bert.bert.encoder.layer.8.output.LayerNorm            | LayerNorm                     | 1 K   \n",
      "163 | bert.bert.encoder.layer.8.output.dropout              | Dropout                       | 0     \n",
      "164 | bert.bert.encoder.layer.9                             | BertLayer                     | 7 M   \n",
      "165 | bert.bert.encoder.layer.9.attention                   | BertAttention                 | 2 M   \n",
      "166 | bert.bert.encoder.layer.9.attention.self              | BertSelfAttention             | 1 M   \n",
      "167 | bert.bert.encoder.layer.9.attention.self.query        | Linear                        | 590 K \n",
      "168 | bert.bert.encoder.layer.9.attention.self.key          | Linear                        | 590 K \n",
      "169 | bert.bert.encoder.layer.9.attention.self.value        | Linear                        | 590 K \n",
      "170 | bert.bert.encoder.layer.9.attention.self.dropout      | Dropout                       | 0     \n",
      "171 | bert.bert.encoder.layer.9.attention.output            | BertSelfOutput                | 592 K \n",
      "172 | bert.bert.encoder.layer.9.attention.output.dense      | Linear                        | 590 K \n",
      "173 | bert.bert.encoder.layer.9.attention.output.LayerNorm  | LayerNorm                     | 1 K   \n",
      "174 | bert.bert.encoder.layer.9.attention.output.dropout    | Dropout                       | 0     \n",
      "175 | bert.bert.encoder.layer.9.intermediate                | BertIntermediate              | 2 M   \n",
      "176 | bert.bert.encoder.layer.9.intermediate.dense          | Linear                        | 2 M   \n",
      "177 | bert.bert.encoder.layer.9.output                      | BertOutput                    | 2 M   \n",
      "178 | bert.bert.encoder.layer.9.output.dense                | Linear                        | 2 M   \n",
      "179 | bert.bert.encoder.layer.9.output.LayerNorm            | LayerNorm                     | 1 K   \n",
      "180 | bert.bert.encoder.layer.9.output.dropout              | Dropout                       | 0     \n",
      "181 | bert.bert.encoder.layer.10                            | BertLayer                     | 7 M   \n",
      "182 | bert.bert.encoder.layer.10.attention                  | BertAttention                 | 2 M   \n",
      "183 | bert.bert.encoder.layer.10.attention.self             | BertSelfAttention             | 1 M   \n",
      "184 | bert.bert.encoder.layer.10.attention.self.query       | Linear                        | 590 K \n",
      "185 | bert.bert.encoder.layer.10.attention.self.key         | Linear                        | 590 K \n",
      "186 | bert.bert.encoder.layer.10.attention.self.value       | Linear                        | 590 K \n",
      "187 | bert.bert.encoder.layer.10.attention.self.dropout     | Dropout                       | 0     \n",
      "188 | bert.bert.encoder.layer.10.attention.output           | BertSelfOutput                | 592 K \n",
      "189 | bert.bert.encoder.layer.10.attention.output.dense     | Linear                        | 590 K \n",
      "190 | bert.bert.encoder.layer.10.attention.output.LayerNorm | LayerNorm                     | 1 K   \n",
      "191 | bert.bert.encoder.layer.10.attention.output.dropout   | Dropout                       | 0     \n",
      "192 | bert.bert.encoder.layer.10.intermediate               | BertIntermediate              | 2 M   \n",
      "193 | bert.bert.encoder.layer.10.intermediate.dense         | Linear                        | 2 M   \n",
      "194 | bert.bert.encoder.layer.10.output                     | BertOutput                    | 2 M   \n",
      "195 | bert.bert.encoder.layer.10.output.dense               | Linear                        | 2 M   \n",
      "196 | bert.bert.encoder.layer.10.output.LayerNorm           | LayerNorm                     | 1 K   \n",
      "197 | bert.bert.encoder.layer.10.output.dropout             | Dropout                       | 0     \n",
      "198 | bert.bert.encoder.layer.11                            | BertLayer                     | 7 M   \n",
      "199 | bert.bert.encoder.layer.11.attention                  | BertAttention                 | 2 M   \n",
      "200 | bert.bert.encoder.layer.11.attention.self             | BertSelfAttention             | 1 M   \n",
      "201 | bert.bert.encoder.layer.11.attention.self.query       | Linear                        | 590 K \n",
      "202 | bert.bert.encoder.layer.11.attention.self.key         | Linear                        | 590 K \n",
      "203 | bert.bert.encoder.layer.11.attention.self.value       | Linear                        | 590 K \n",
      "204 | bert.bert.encoder.layer.11.attention.self.dropout     | Dropout                       | 0     \n",
      "205 | bert.bert.encoder.layer.11.attention.output           | BertSelfOutput                | 592 K \n",
      "206 | bert.bert.encoder.layer.11.attention.output.dense     | Linear                        | 590 K \n",
      "207 | bert.bert.encoder.layer.11.attention.output.LayerNorm | LayerNorm                     | 1 K   \n",
      "208 | bert.bert.encoder.layer.11.attention.output.dropout   | Dropout                       | 0     \n",
      "209 | bert.bert.encoder.layer.11.intermediate               | BertIntermediate              | 2 M   \n",
      "210 | bert.bert.encoder.layer.11.intermediate.dense         | Linear                        | 2 M   \n",
      "211 | bert.bert.encoder.layer.11.output                     | BertOutput                    | 2 M   \n",
      "212 | bert.bert.encoder.layer.11.output.dense               | Linear                        | 2 M   \n",
      "213 | bert.bert.encoder.layer.11.output.LayerNorm           | LayerNorm                     | 1 K   \n",
      "214 | bert.bert.encoder.layer.11.output.dropout             | Dropout                       | 0     \n",
      "215 | bert.bert.pooler                                      | BertPooler                    | 590 K \n",
      "216 | bert.bert.pooler.dense                                | Linear                        | 590 K \n",
      "217 | bert.bert.pooler.activation                           | Tanh                          | 0     \n",
      "218 | bert.dropout                                          | Dropout                       | 0     \n",
      "219 | bert.classifier                                       | Linear                        | 1 K   \n"
     ]
    },
    {
     "name": "stderr",
     "output_type": "stream",
     "text": [
      "Validation dataset has 1101 examples\n",
      "INFO:finetune_bert_module:Validation dataset has 1101 examples\n"
     ]
    },
    {
     "data": {
      "application/vnd.jupyter.widget-view+json": {
       "model_id": "",
       "version_major": 2,
       "version_minor": 0
      },
      "text/plain": [
       "HBox(children=(FloatProgress(value=1.0, bar_style='info', description='Validation sanity check', layout=Layout…"
      ]
     },
     "metadata": {},
     "output_type": "display_data"
    },
    {
     "name": "stderr",
     "output_type": "stream",
     "text": [
      "Training dataset has 8544 examples, and batch_size of 32\n",
      "INFO:finetune_bert_module:Training dataset has 8544 examples, and batch_size of 32\n",
      "Validation dataset has 1101 examples\n",
      "INFO:finetune_bert_module:Validation dataset has 1101 examples\n"
     ]
    },
    {
     "data": {
      "application/vnd.jupyter.widget-view+json": {
       "model_id": "b6312654e0d04ffa8bf2d657094ccacc",
       "version_major": 2,
       "version_minor": 0
      },
      "text/plain": [
       "HBox(children=(FloatProgress(value=1.0, bar_style='info', description='Training', layout=Layout(flex='2'), max…"
      ]
     },
     "metadata": {},
     "output_type": "display_data"
    },
    {
     "data": {
      "application/vnd.jupyter.widget-view+json": {
       "model_id": "",
       "version_major": 2,
       "version_minor": 0
      },
      "text/plain": [
       "HBox(children=(FloatProgress(value=1.0, bar_style='info', description='Validating', layout=Layout(flex='2'), m…"
      ]
     },
     "metadata": {},
     "output_type": "display_data"
    },
    {
     "name": "stderr",
     "output_type": "stream",
     "text": [
      "INFO:lightning:\n",
      "Epoch 00000: val_loss reached 0.40108 (best 0.40108), saving model to lightning_logs/proper_classification/_ckpt_epoch_0.ckpt as top 1\n"
     ]
    },
    {
     "data": {
      "application/vnd.jupyter.widget-view+json": {
       "model_id": "",
       "version_major": 2,
       "version_minor": 0
      },
      "text/plain": [
       "HBox(children=(FloatProgress(value=1.0, bar_style='info', description='Validating', layout=Layout(flex='2'), m…"
      ]
     },
     "metadata": {},
     "output_type": "display_data"
    },
    {
     "name": "stderr",
     "output_type": "stream",
     "text": [
      "INFO:lightning:\n",
      "Epoch 00001: val_loss  was not in top 1\n"
     ]
    },
    {
     "data": {
      "application/vnd.jupyter.widget-view+json": {
       "model_id": "",
       "version_major": 2,
       "version_minor": 0
      },
      "text/plain": [
       "HBox(children=(FloatProgress(value=1.0, bar_style='info', description='Validating', layout=Layout(flex='2'), m…"
      ]
     },
     "metadata": {},
     "output_type": "display_data"
    },
    {
     "name": "stderr",
     "output_type": "stream",
     "text": [
      "INFO:lightning:\n",
      "Epoch 00002: val_loss  was not in top 1\n"
     ]
    },
    {
     "data": {
      "application/vnd.jupyter.widget-view+json": {
       "model_id": "",
       "version_major": 2,
       "version_minor": 0
      },
      "text/plain": [
       "HBox(children=(FloatProgress(value=1.0, bar_style='info', description='Validating', layout=Layout(flex='2'), m…"
      ]
     },
     "metadata": {},
     "output_type": "display_data"
    },
    {
     "name": "stderr",
     "output_type": "stream",
     "text": [
      "INFO:lightning:\n",
      "Epoch 00003: val_loss  was not in top 1\n"
     ]
    },
    {
     "data": {
      "application/vnd.jupyter.widget-view+json": {
       "model_id": "",
       "version_major": 2,
       "version_minor": 0
      },
      "text/plain": [
       "HBox(children=(FloatProgress(value=1.0, bar_style='info', description='Validating', layout=Layout(flex='2'), m…"
      ]
     },
     "metadata": {},
     "output_type": "display_data"
    },
    {
     "name": "stderr",
     "output_type": "stream",
     "text": [
      "INFO:lightning:\n",
      "Epoch 00004: val_loss  was not in top 1\n",
      "INFO:lightning:Detected KeyboardInterrupt, attempting graceful shutdown...\n",
      "COMET INFO: ---------------------------\n",
      "COMET INFO: Comet.ml Experiment Summary\n",
      "COMET INFO: ---------------------------\n",
      "COMET INFO:   Data:\n",
      "COMET INFO:     display_summary_level : 1\n",
      "COMET INFO:     url                   : https://www.comet.ml/mykobob/structural-probes-extension/4e189296c87f48bda80ec112b0a67999\n",
      "COMET INFO:   Metrics [count] (min, max):\n",
      "COMET INFO:     epoch [157]      : (0, 5)\n",
      "COMET INFO:     mean_pred [5]    : (-0.049582626670598984, 0.06202519312500954)\n",
      "COMET INFO:     std_pred [5]     : (0.975523829460144, 2.5750234127044678)\n",
      "COMET INFO:     train_loss [152] : (0.0037087835371494293, 0.769791841506958)\n",
      "COMET INFO:     val_loss [5]     : (0.40108224749565125, 0.72518390417099)\n",
      "COMET INFO:   Others [count]:\n",
      "COMET INFO:     Name [2] : proper_classification\n",
      "COMET INFO:   Parameters:\n",
      "COMET INFO:     batch_size  : 32\n",
      "COMET INFO:     epochs      : 10\n",
      "COMET INFO:     lr          : 0.0001\n",
      "COMET INFO:     lr_factor   : 1\n",
      "COMET INFO:     max_seq_len : 250\n",
      "COMET INFO:     seed        : 404\n",
      "COMET INFO:     train_pct   : 1.0\n",
      "COMET INFO:     val_pct     : 1.0\n",
      "COMET INFO:   Uploads:\n",
      "COMET INFO:     code                : 1 (2 KB)\n",
      "COMET INFO:     environment details : 1\n",
      "COMET INFO:     filename            : 1\n",
      "COMET INFO:     installed packages  : 1\n",
      "COMET INFO: ---------------------------\n"
     ]
    },
    {
     "name": "stdout",
     "output_type": "stream",
     "text": [
      "\n"
     ]
    },
    {
     "name": "stderr",
     "output_type": "stream",
     "text": [
      "COMET INFO: Uploading stats to Comet before program termination (may take several seconds)\n"
     ]
    }
   ],
   "source": [
    "if testing:\n",
    "    trainer.test(model)\n",
    "else:\n",
    "    trainer.fit(model)"
   ]
  },
  {
   "cell_type": "code",
   "execution_count": null,
   "metadata": {},
   "outputs": [],
   "source": []
  }
 ],
 "metadata": {
  "kernelspec": {
   "display_name": "Python 3",
   "language": "python",
   "name": "python3"
  },
  "language_info": {
   "codemirror_mode": {
    "name": "ipython",
    "version": 3
   },
   "file_extension": ".py",
   "mimetype": "text/x-python",
   "name": "python",
   "nbconvert_exporter": "python",
   "pygments_lexer": "ipython3",
   "version": "3.8.2"
  }
 },
 "nbformat": 4,
 "nbformat_minor": 4
}
