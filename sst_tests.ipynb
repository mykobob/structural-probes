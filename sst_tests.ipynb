{
 "cells": [
  {
   "cell_type": "code",
   "execution_count": 1,
   "metadata": {},
   "outputs": [],
   "source": [
    "import sys\n",
    "sys.path.append('structural-probes')\n",
    "from pathlib import Path\n",
    "\n",
    "from run_experiment import setup_new_experiment_dir, execute_experiment\n",
    "import yaml\n",
    "import torch\n",
    "import pandas as pd\n",
    "import eval_probes_on_dataset\n",
    "import jupyter_slack"
   ]
  },
  {
   "cell_type": "code",
   "execution_count": 2,
   "metadata": {},
   "outputs": [
    {
     "name": "stdout",
     "output_type": "stream",
     "text": [
      "Constructing new results directory at results/BERT-disk-parse-distance-2020-4-27-15-43-4-797576/\n"
     ]
    },
    {
     "name": "stderr",
     "output_type": "stream",
     "text": [
      "/home/mli/anaconda3/envs/data-mining/lib/python3.6/site-packages/ipykernel_launcher.py:16: YAMLLoadWarning: calling yaml.load() without Loader=... is deprecated, as the default Loader is unsafe. Please read https://msg.pyyaml.org/load for full details.\n",
      "  app.launch_new_instance()\n"
     ]
    }
   ],
   "source": [
    "def setup_args_and_folder(): \n",
    "    CONFIG_FILE = 'example/config/bert_ptb3.yaml'\n",
    "    EXPERIMENT_NAME = ''\n",
    "    SEED = 123\n",
    "\n",
    "    class Object(object):\n",
    "        pass\n",
    "\n",
    "    cli_args = Object()\n",
    "    cli_args.experiment_config = CONFIG_FILE\n",
    "    cli_args.results_dir = EXPERIMENT_NAME\n",
    "    cli_args.train_probe = -1\n",
    "    cli_args.report_results = 1\n",
    "    cli_args.seed = SEED\n",
    "\n",
    "    yaml_args = yaml.load(open(cli_args.experiment_config))\n",
    "    setup_new_experiment_dir(cli_args, yaml_args, cli_args.results_dir)\n",
    "\n",
    "    device = torch.device(\"cuda:0\" if torch.cuda.is_available() else \"cpu\")\n",
    "    yaml_args['device'] = device\n",
    "    yaml_args['model_type'] = 'large'\n",
    "    return yaml_args\n",
    "\n",
    "yaml_args = setup_args_and_folder()"
   ]
  },
  {
   "cell_type": "markdown",
   "metadata": {},
   "source": [
    "# Requirements before running this code\n",
    "- Corpus (conllx, for BERT)\n",
    "    - Run `convert_splits_to_depparse.sh` (to get .conllx format)\n",
    "    - Run `convert_conll_to_raw.py` (to get into raw text) \n",
    "- BERT-layer embeddings (.bert-layers.hdf5)\n",
    "    - Run `convert_raw_to_bert.py` (Uses BERT to create bert-embeddings for ALL layers)\n",
    "- Depth & Distance Params Path\n",
    "    - Pretrained from data\n",
    "- Ground Truths\n",
    "    - Trees\n",
    "        - Run Stanford CoreNLP's `ReadSentimentDataset` to get the ground truth trees\n",
    "    - Sentiment\n",
    "        - Run `apply_splits.py` to average all phrases' sentiments in the sentences"
   ]
  },
  {
   "cell_type": "markdown",
   "metadata": {},
   "source": [
    "# Notes for generating the Tree data for SST\n",
    "- This is for reading in the Ground Truth trees that is already given to us in SST\n",
    "- We'll use Stanford's CoreNLP tools\n",
    "- Run the ReadSentimentDataset `java -mx4g edu.stanford.nlp.sentiment.ReadSentimentDataset -inputDir data/SST-2/original -outputDir tmp/`\n",
    "  - The ground truth already does subword partitions, so need to account for that"
   ]
  },
  {
   "cell_type": "code",
   "execution_count": 3,
   "metadata": {},
   "outputs": [],
   "source": [
    "from nltk.tree import Tree\n",
    "\n",
    "from reporter import WordPairReporter, WordReporter, prims_matrix_to_edges\n",
    "from tqdm import tqdm\n",
    "import copy"
   ]
  },
  {
   "cell_type": "code",
   "execution_count": 4,
   "metadata": {},
   "outputs": [],
   "source": [
    "def read_trees(path):\n",
    "    with open(path) as f:\n",
    "        tree_lines = f.readlines()\n",
    "        \n",
    "    trees = [Tree.fromstring(treeline) for treeline in tree_lines]\n",
    "    return trees\n",
    "\n",
    "def read_sentiment_sentences(path):\n",
    "    with open(path) as f:\n",
    "        all_sentences = f.readlines()\n",
    "        \n",
    "        sentences, labels = [], []\n",
    "        for pair in all_sentences:\n",
    "            sentence, label = pair.split('\\t')\n",
    "            sentences.append(sentence)\n",
    "            labels.append(label)\n",
    "        return sentences, labels"
   ]
  },
  {
   "cell_type": "code",
   "execution_count": 5,
   "metadata": {},
   "outputs": [],
   "source": [
    "data_base = Path('../../../data/SST-2')\n",
    "\n",
    "train_path = data_base / 'sentence_splits' / 'train.tsv'\n",
    "dev_path = data_base / 'sentence_splits' / 'dev.tsv'\n",
    "\n",
    "# read in SST dataset\n",
    "sst_trees_base = data_base / 'tree_format/'\n",
    "gt_tree_train_path = sst_trees_base / 'train.txt'\n",
    "gt_tree_dev_path = sst_trees_base / 'dev.txt'\n",
    "\n",
    "train_sentiment, train_labels = read_sentiment_sentences(train_path)\n",
    "dev_sentiment, dev_labels = read_sentiment_sentences(dev_path)\n",
    "\n",
    "# Read into NTLK Trees\n",
    "gt_train_trees = read_trees(gt_tree_train_path)\n",
    "gt_dev_trees = read_trees(gt_tree_dev_path)"
   ]
  },
  {
   "cell_type": "code",
   "execution_count": 6,
   "metadata": {},
   "outputs": [
    {
     "name": "stderr",
     "output_type": "stream",
     "text": [
      "[demoing]: 1it [00:00,  5.36it/s]"
     ]
    },
    {
     "name": "stdout",
     "output_type": "stream",
     "text": [
      "Constructing TwoWordPSDProbe\n",
      "Constructing OneWordPSDProbe\n"
     ]
    },
    {
     "name": "stderr",
     "output_type": "stream",
     "text": [
      "[demoing]: 1101it [00:20, 54.65it/s]\n"
     ]
    }
   ],
   "source": [
    "# Calculate distance between the two trees\n",
    "# one tree's format is from structural probes\n",
    "# other tree's format is from the dataset (gt_*_trees)\n",
    "# import importlib\n",
    "# importlib.reload(eval_probes_on_dataset)\n",
    "\n",
    "word_dists, word_depths, predicted_edges, model, tokenizer = \\\n",
    "    eval_probes_on_dataset.report_on_stdin(yaml_args, dev_sentiment)"
   ]
  },
  {
   "cell_type": "code",
   "execution_count": 7,
   "metadata": {},
   "outputs": [
    {
     "name": "stderr",
     "output_type": "stream",
     "text": [
      "Eval Dev Sentiment:   1%|          | 8/1101 [00:00<00:43, 24.87it/s]"
     ]
    },
    {
     "name": "stdout",
     "output_type": "stream",
     "text": [
      "tensor([[0.4746]], device='cuda:0')\n",
      "tensor([[0.5248]], device='cuda:0')\n",
      "tensor([[0.4600]], device='cuda:0')\n",
      "tensor([[0.4785]], device='cuda:0')\n",
      "tensor([[0.4828]], device='cuda:0')\n",
      "tensor([[0.4615]], device='cuda:0')\n",
      "tensor([[0.4691]], device='cuda:0')\n",
      "tensor([[0.4730]], device='cuda:0')\n",
      "tensor([[0.4641]], device='cuda:0')\n",
      "tensor([[0.5003]], device='cuda:0')\n",
      "tensor([[0.4621]], device='cuda:0')\n"
     ]
    },
    {
     "name": "stderr",
     "output_type": "stream",
     "text": [
      "Eval Dev Sentiment:   2%|▏         | 19/1101 [00:00<00:32, 33.34it/s]"
     ]
    },
    {
     "name": "stdout",
     "output_type": "stream",
     "text": [
      "tensor([[0.6691]], device='cuda:0')\n",
      "tensor([[0.5860]], device='cuda:0')\n",
      "tensor([[0.4528]], device='cuda:0')\n",
      "tensor([[0.4631]], device='cuda:0')\n",
      "tensor([[0.4628]], device='cuda:0')\n",
      "tensor([[0.4797]], device='cuda:0')\n",
      "tensor([[0.5255]], device='cuda:0')\n",
      "tensor([[0.4637]], device='cuda:0')\n",
      "tensor([[0.4604]], device='cuda:0')\n",
      "tensor([[0.4659]], device='cuda:0')\n",
      "tensor([[0.4623]], device='cuda:0')\n"
     ]
    },
    {
     "name": "stderr",
     "output_type": "stream",
     "text": [
      "Eval Dev Sentiment:   3%|▎         | 31/1101 [00:00<00:25, 41.89it/s]"
     ]
    },
    {
     "name": "stdout",
     "output_type": "stream",
     "text": [
      "tensor([[0.4637]], device='cuda:0')\n",
      "tensor([[0.4675]], device='cuda:0')\n",
      "tensor([[0.4630]], device='cuda:0')\n",
      "tensor([[0.4749]], device='cuda:0')\n",
      "tensor([[0.4618]], device='cuda:0')\n",
      "tensor([[0.4759]], device='cuda:0')\n",
      "tensor([[0.4669]], device='cuda:0')\n",
      "tensor([[0.4662]], device='cuda:0')\n",
      "tensor([[0.4715]], device='cuda:0')\n",
      "tensor([[0.5109]], device='cuda:0')\n",
      "tensor([[0.4736]], device='cuda:0')\n",
      "tensor([[0.4685]], device='cuda:0')\n"
     ]
    },
    {
     "name": "stderr",
     "output_type": "stream",
     "text": [
      "Eval Dev Sentiment:   4%|▍         | 43/1101 [00:00<00:22, 47.65it/s]"
     ]
    },
    {
     "name": "stdout",
     "output_type": "stream",
     "text": [
      "tensor([[0.4849]], device='cuda:0')\n",
      "tensor([[0.5886]], device='cuda:0')\n",
      "tensor([[0.4636]], device='cuda:0')\n",
      "tensor([[0.4988]], device='cuda:0')\n",
      "tensor([[0.4547]], device='cuda:0')\n",
      "tensor([[0.4700]], device='cuda:0')\n",
      "tensor([[0.5030]], device='cuda:0')\n",
      "tensor([[0.4610]], device='cuda:0')\n",
      "tensor([[0.4881]], device='cuda:0')\n",
      "tensor([[0.4609]], device='cuda:0')\n",
      "tensor([[0.4829]], device='cuda:0')\n"
     ]
    },
    {
     "name": "stderr",
     "output_type": "stream",
     "text": [
      "Eval Dev Sentiment:   5%|▌         | 56/1101 [00:01<00:19, 52.64it/s]"
     ]
    },
    {
     "name": "stdout",
     "output_type": "stream",
     "text": [
      "tensor([[0.4616]], device='cuda:0')\n",
      "tensor([[0.4695]], device='cuda:0')\n",
      "tensor([[0.5162]], device='cuda:0')\n",
      "tensor([[0.4600]], device='cuda:0')\n",
      "tensor([[0.4616]], device='cuda:0')\n",
      "tensor([[0.4607]], device='cuda:0')\n",
      "tensor([[0.4703]], device='cuda:0')\n",
      "tensor([[0.4639]], device='cuda:0')\n",
      "tensor([[0.4715]], device='cuda:0')\n",
      "tensor([[0.4688]], device='cuda:0')\n",
      "tensor([[0.4666]], device='cuda:0')\n",
      "tensor([[0.4626]], device='cuda:0')\n"
     ]
    },
    {
     "name": "stderr",
     "output_type": "stream",
     "text": [
      "Eval Dev Sentiment:   6%|▋         | 69/1101 [00:01<00:18, 56.41it/s]"
     ]
    },
    {
     "name": "stdout",
     "output_type": "stream",
     "text": [
      "tensor([[0.4624]], device='cuda:0')\n",
      "tensor([[0.4666]], device='cuda:0')\n",
      "tensor([[0.4742]], device='cuda:0')\n",
      "tensor([[0.4713]], device='cuda:0')\n",
      "tensor([[0.4661]], device='cuda:0')\n",
      "tensor([[0.4683]], device='cuda:0')\n",
      "tensor([[0.4692]], device='cuda:0')\n",
      "tensor([[0.4758]], device='cuda:0')\n",
      "tensor([[0.4597]], device='cuda:0')\n",
      "tensor([[0.4708]], device='cuda:0')\n",
      "tensor([[0.4625]], device='cuda:0')\n",
      "tensor([[0.6130]], device='cuda:0')\n",
      "tensor([[0.4710]], device='cuda:0')\n"
     ]
    },
    {
     "name": "stderr",
     "output_type": "stream",
     "text": [
      "Eval Dev Sentiment:   7%|▋         | 82/1101 [00:01<00:17, 57.56it/s]"
     ]
    },
    {
     "name": "stdout",
     "output_type": "stream",
     "text": [
      "tensor([[0.4747]], device='cuda:0')\n",
      "tensor([[0.4666]], device='cuda:0')\n",
      "tensor([[0.4807]], device='cuda:0')\n",
      "tensor([[0.4549]], device='cuda:0')\n",
      "tensor([[0.4514]], device='cuda:0')\n",
      "tensor([[0.4667]], device='cuda:0')\n",
      "tensor([[0.4774]], device='cuda:0')\n",
      "tensor([[0.4648]], device='cuda:0')\n",
      "tensor([[0.4695]], device='cuda:0')\n",
      "tensor([[0.4689]], device='cuda:0')\n",
      "tensor([[0.4735]], device='cuda:0')\n",
      "tensor([[0.4676]], device='cuda:0')\n"
     ]
    },
    {
     "name": "stderr",
     "output_type": "stream",
     "text": [
      "Eval Dev Sentiment:   9%|▊         | 94/1101 [00:01<00:17, 56.36it/s]"
     ]
    },
    {
     "name": "stdout",
     "output_type": "stream",
     "text": [
      "tensor([[0.4680]], device='cuda:0')\n",
      "tensor([[0.4835]], device='cuda:0')\n",
      "tensor([[0.4628]], device='cuda:0')\n",
      "tensor([[0.4614]], device='cuda:0')\n",
      "tensor([[0.5511]], device='cuda:0')\n",
      "tensor([[0.4676]], device='cuda:0')\n",
      "tensor([[0.4751]], device='cuda:0')\n",
      "tensor([[0.4652]], device='cuda:0')\n",
      "tensor([[0.4646]], device='cuda:0')\n",
      "tensor([[0.4490]], device='cuda:0')\n",
      "tensor([[0.4810]], device='cuda:0')\n",
      "tensor([[0.4703]], device='cuda:0')\n"
     ]
    },
    {
     "name": "stderr",
     "output_type": "stream",
     "text": [
      "\r",
      "Eval Dev Sentiment:   9%|▉         | 101/1101 [00:01<00:17, 57.84it/s]"
     ]
    },
    {
     "name": "stdout",
     "output_type": "stream",
     "text": [
      "tensor([[0.4620]], device='cuda:0')\n",
      "tensor([[0.4714]], device='cuda:0')\n",
      "tensor([[0.4613]], device='cuda:0')\n",
      "tensor([[0.4569]], device='cuda:0')\n",
      "tensor([[0.4748]], device='cuda:0')\n",
      "tensor([[0.4804]], device='cuda:0')\n",
      "tensor([[0.4971]], device='cuda:0')\n",
      "tensor([[0.5765]], device='cuda:0')\n",
      "tensor([[0.4674]], device='cuda:0')\n",
      "tensor([[0.6182]], device='cuda:0')\n",
      "tensor([[0.4769]], device='cuda:0')\n",
      "tensor([[0.4700]], device='cuda:0')\n"
     ]
    },
    {
     "name": "stderr",
     "output_type": "stream",
     "text": [
      "Eval Dev Sentiment:  10%|█         | 114/1101 [00:02<00:17, 57.98it/s]"
     ]
    },
    {
     "name": "stdout",
     "output_type": "stream",
     "text": [
      "tensor([[0.4603]], device='cuda:0')\n",
      "tensor([[0.6169]], device='cuda:0')\n",
      "tensor([[0.5402]], device='cuda:0')\n",
      "tensor([[0.4622]], device='cuda:0')\n",
      "tensor([[0.4742]], device='cuda:0')\n",
      "tensor([[0.5432]], device='cuda:0')\n",
      "tensor([[0.4601]], device='cuda:0')\n",
      "tensor([[0.5044]], device='cuda:0')\n",
      "tensor([[0.4638]], device='cuda:0')\n",
      "tensor([[0.4755]], device='cuda:0')\n",
      "tensor([[0.4591]], device='cuda:0')\n",
      "tensor([[0.4743]], device='cuda:0')\n",
      "tensor([[0.4805]], device='cuda:0')\n"
     ]
    },
    {
     "name": "stderr",
     "output_type": "stream",
     "text": [
      "Eval Dev Sentiment:  11%|█▏        | 126/1101 [00:02<00:16, 58.45it/s]"
     ]
    },
    {
     "name": "stdout",
     "output_type": "stream",
     "text": [
      "tensor([[0.4793]], device='cuda:0')\n",
      "tensor([[0.4640]], device='cuda:0')\n",
      "tensor([[0.4652]], device='cuda:0')\n",
      "tensor([[0.4820]], device='cuda:0')\n",
      "tensor([[0.4654]], device='cuda:0')\n",
      "tensor([[0.4788]], device='cuda:0')\n",
      "tensor([[0.4755]], device='cuda:0')\n",
      "tensor([[0.6219]], device='cuda:0')\n",
      "tensor([[0.4809]], device='cuda:0')\n",
      "tensor([[0.4524]], device='cuda:0')\n",
      "tensor([[0.4776]], device='cuda:0')\n",
      "tensor([[0.4686]], device='cuda:0')\n"
     ]
    },
    {
     "name": "stderr",
     "output_type": "stream",
     "text": [
      "Eval Dev Sentiment:  13%|█▎        | 138/1101 [00:02<00:16, 58.23it/s]"
     ]
    },
    {
     "name": "stdout",
     "output_type": "stream",
     "text": [
      "tensor([[0.4629]], device='cuda:0')\n",
      "tensor([[0.4624]], device='cuda:0')\n",
      "tensor([[0.4776]], device='cuda:0')\n",
      "tensor([[0.4645]], device='cuda:0')\n",
      "tensor([[0.4823]], device='cuda:0')\n",
      "tensor([[0.5784]], device='cuda:0')\n",
      "tensor([[0.4686]], device='cuda:0')\n",
      "tensor([[0.4797]], device='cuda:0')\n",
      "tensor([[0.4675]], device='cuda:0')\n",
      "tensor([[0.4602]], device='cuda:0')\n",
      "tensor([[0.4676]], device='cuda:0')\n",
      "tensor([[0.4640]], device='cuda:0')\n"
     ]
    },
    {
     "name": "stderr",
     "output_type": "stream",
     "text": [
      "Eval Dev Sentiment:  14%|█▎        | 150/1101 [00:02<00:16, 57.40it/s]"
     ]
    },
    {
     "name": "stdout",
     "output_type": "stream",
     "text": [
      "tensor([[0.4719]], device='cuda:0')\n",
      "tensor([[0.4602]], device='cuda:0')\n",
      "tensor([[0.4680]], device='cuda:0')\n",
      "tensor([[0.4630]], device='cuda:0')\n",
      "tensor([[0.4720]], device='cuda:0')\n",
      "tensor([[0.4928]], device='cuda:0')\n",
      "tensor([[0.4911]], device='cuda:0')\n",
      "tensor([[0.4913]], device='cuda:0')\n",
      "tensor([[0.4647]], device='cuda:0')\n",
      "tensor([[0.4809]], device='cuda:0')\n",
      "tensor([[0.4740]], device='cuda:0')\n",
      "tensor([[0.4863]], device='cuda:0')\n",
      "tensor([[0.4623]], device='cuda:0')\n"
     ]
    },
    {
     "name": "stderr",
     "output_type": "stream",
     "text": [
      "Eval Dev Sentiment:  15%|█▍        | 163/1101 [00:02<00:15, 58.85it/s]"
     ]
    },
    {
     "name": "stdout",
     "output_type": "stream",
     "text": [
      "tensor([[0.5024]], device='cuda:0')\n",
      "tensor([[0.4590]], device='cuda:0')\n",
      "tensor([[0.4760]], device='cuda:0')\n",
      "tensor([[0.4755]], device='cuda:0')\n",
      "tensor([[0.4643]], device='cuda:0')\n",
      "tensor([[0.4609]], device='cuda:0')\n",
      "tensor([[0.4762]], device='cuda:0')\n",
      "tensor([[0.4645]], device='cuda:0')\n",
      "tensor([[0.4848]], device='cuda:0')\n",
      "tensor([[0.4617]], device='cuda:0')\n",
      "tensor([[0.4577]], device='cuda:0')\n",
      "tensor([[0.4911]], device='cuda:0')\n"
     ]
    },
    {
     "name": "stderr",
     "output_type": "stream",
     "text": [
      "Eval Dev Sentiment:  16%|█▌        | 175/1101 [00:03<00:16, 56.47it/s]"
     ]
    },
    {
     "name": "stdout",
     "output_type": "stream",
     "text": [
      "tensor([[0.4754]], device='cuda:0')\n",
      "tensor([[0.4697]], device='cuda:0')\n",
      "tensor([[0.4579]], device='cuda:0')\n",
      "tensor([[0.4753]], device='cuda:0')\n",
      "tensor([[0.4587]], device='cuda:0')\n",
      "tensor([[0.4765]], device='cuda:0')\n",
      "tensor([[0.4743]], device='cuda:0')\n",
      "tensor([[0.4915]], device='cuda:0')\n",
      "tensor([[0.4933]], device='cuda:0')\n",
      "tensor([[0.4638]], device='cuda:0')\n",
      "tensor([[0.4744]], device='cuda:0')\n"
     ]
    },
    {
     "name": "stderr",
     "output_type": "stream",
     "text": [
      "Eval Dev Sentiment:  17%|█▋        | 187/1101 [00:03<00:16, 55.34it/s]"
     ]
    },
    {
     "name": "stdout",
     "output_type": "stream",
     "text": [
      "tensor([[0.4740]], device='cuda:0')\n",
      "tensor([[0.4854]], device='cuda:0')\n",
      "tensor([[0.4702]], device='cuda:0')\n",
      "tensor([[0.4577]], device='cuda:0')\n",
      "tensor([[0.4562]], device='cuda:0')\n",
      "tensor([[0.4831]], device='cuda:0')\n",
      "tensor([[0.5267]], device='cuda:0')\n",
      "tensor([[0.5483]], device='cuda:0')\n",
      "tensor([[0.4647]], device='cuda:0')\n",
      "tensor([[0.4746]], device='cuda:0')\n",
      "tensor([[0.4587]], device='cuda:0')\n",
      "tensor([[0.4620]], device='cuda:0')\n"
     ]
    },
    {
     "name": "stderr",
     "output_type": "stream",
     "text": [
      "Eval Dev Sentiment:  18%|█▊        | 199/1101 [00:03<00:15, 56.55it/s]"
     ]
    },
    {
     "name": "stdout",
     "output_type": "stream",
     "text": [
      "tensor([[0.4587]], device='cuda:0')\n",
      "tensor([[0.4626]], device='cuda:0')\n",
      "tensor([[0.4701]], device='cuda:0')\n",
      "tensor([[0.5630]], device='cuda:0')\n",
      "tensor([[0.4831]], device='cuda:0')\n",
      "tensor([[0.4586]], device='cuda:0')\n",
      "tensor([[0.4649]], device='cuda:0')\n",
      "tensor([[0.4730]], device='cuda:0')\n",
      "tensor([[0.4692]], device='cuda:0')\n",
      "tensor([[0.5966]], device='cuda:0')\n",
      "tensor([[0.4619]], device='cuda:0')\n",
      "tensor([[0.4624]], device='cuda:0')\n"
     ]
    },
    {
     "name": "stderr",
     "output_type": "stream",
     "text": [
      "Eval Dev Sentiment:  19%|█▉        | 211/1101 [00:03<00:15, 56.56it/s]"
     ]
    },
    {
     "name": "stdout",
     "output_type": "stream",
     "text": [
      "tensor([[0.4804]], device='cuda:0')\n",
      "tensor([[0.4744]], device='cuda:0')\n",
      "tensor([[0.4550]], device='cuda:0')\n",
      "tensor([[0.4754]], device='cuda:0')\n",
      "tensor([[0.4766]], device='cuda:0')\n",
      "tensor([[0.4659]], device='cuda:0')\n",
      "tensor([[0.4750]], device='cuda:0')\n",
      "tensor([[0.4741]], device='cuda:0')\n",
      "tensor([[0.4608]], device='cuda:0')\n",
      "tensor([[0.6126]], device='cuda:0')\n",
      "tensor([[0.4667]], device='cuda:0')\n",
      "tensor([[0.5870]], device='cuda:0')\n"
     ]
    },
    {
     "name": "stderr",
     "output_type": "stream",
     "text": [
      "Eval Dev Sentiment:  20%|██        | 224/1101 [00:04<00:15, 55.68it/s]"
     ]
    },
    {
     "name": "stdout",
     "output_type": "stream",
     "text": [
      "tensor([[0.4688]], device='cuda:0')\n",
      "tensor([[0.6487]], device='cuda:0')\n",
      "tensor([[0.5004]], device='cuda:0')\n",
      "tensor([[0.4712]], device='cuda:0')\n",
      "tensor([[0.4634]], device='cuda:0')\n",
      "tensor([[0.4771]], device='cuda:0')\n",
      "tensor([[0.4709]], device='cuda:0')\n",
      "tensor([[0.4608]], device='cuda:0')\n",
      "tensor([[0.4578]], device='cuda:0')\n",
      "tensor([[0.4620]], device='cuda:0')\n",
      "tensor([[0.5345]], device='cuda:0')\n"
     ]
    },
    {
     "name": "stderr",
     "output_type": "stream",
     "text": [
      "Eval Dev Sentiment:  21%|██▏       | 236/1101 [00:04<00:15, 56.29it/s]"
     ]
    },
    {
     "name": "stdout",
     "output_type": "stream",
     "text": [
      "tensor([[0.4659]], device='cuda:0')\n",
      "tensor([[0.4664]], device='cuda:0')\n",
      "tensor([[0.4787]], device='cuda:0')\n",
      "tensor([[0.6452]], device='cuda:0')\n",
      "tensor([[0.4559]], device='cuda:0')\n",
      "tensor([[0.5328]], device='cuda:0')\n",
      "tensor([[0.4675]], device='cuda:0')\n",
      "tensor([[0.4626]], device='cuda:0')\n",
      "tensor([[0.4604]], device='cuda:0')\n",
      "tensor([[0.4643]], device='cuda:0')\n",
      "tensor([[0.5066]], device='cuda:0')\n",
      "tensor([[0.4703]], device='cuda:0')\n"
     ]
    },
    {
     "name": "stderr",
     "output_type": "stream",
     "text": [
      "Eval Dev Sentiment:  23%|██▎       | 248/1101 [00:04<00:15, 55.91it/s]"
     ]
    },
    {
     "name": "stdout",
     "output_type": "stream",
     "text": [
      "tensor([[0.4601]], device='cuda:0')\n",
      "tensor([[0.4828]], device='cuda:0')\n",
      "tensor([[0.4663]], device='cuda:0')\n",
      "tensor([[0.4745]], device='cuda:0')\n",
      "tensor([[0.4624]], device='cuda:0')\n",
      "tensor([[0.4726]], device='cuda:0')\n",
      "tensor([[0.4763]], device='cuda:0')\n",
      "tensor([[0.4666]], device='cuda:0')\n",
      "tensor([[0.5240]], device='cuda:0')\n",
      "tensor([[0.4648]], device='cuda:0')\n",
      "tensor([[0.4644]], device='cuda:0')\n",
      "tensor([[0.5306]], device='cuda:0')\n"
     ]
    },
    {
     "name": "stderr",
     "output_type": "stream",
     "text": [
      "Eval Dev Sentiment:  24%|██▎       | 261/1101 [00:04<00:14, 57.41it/s]"
     ]
    },
    {
     "name": "stdout",
     "output_type": "stream",
     "text": [
      "tensor([[0.4620]], device='cuda:0')\n",
      "tensor([[0.4688]], device='cuda:0')\n",
      "tensor([[0.4740]], device='cuda:0')\n",
      "tensor([[0.4599]], device='cuda:0')\n",
      "tensor([[0.4675]], device='cuda:0')\n",
      "tensor([[0.4646]], device='cuda:0')\n",
      "tensor([[0.4653]], device='cuda:0')\n",
      "tensor([[0.4504]], device='cuda:0')\n",
      "tensor([[0.4571]], device='cuda:0')\n",
      "tensor([[0.4646]], device='cuda:0')\n",
      "tensor([[0.4640]], device='cuda:0')\n",
      "tensor([[0.4576]], device='cuda:0')\n"
     ]
    },
    {
     "name": "stderr",
     "output_type": "stream",
     "text": [
      "Eval Dev Sentiment:  25%|██▍       | 273/1101 [00:04<00:14, 57.18it/s]"
     ]
    },
    {
     "name": "stdout",
     "output_type": "stream",
     "text": [
      "tensor([[0.4699]], device='cuda:0')\n",
      "tensor([[0.4604]], device='cuda:0')\n",
      "tensor([[0.4725]], device='cuda:0')\n",
      "tensor([[0.5080]], device='cuda:0')\n",
      "tensor([[0.5461]], device='cuda:0')\n",
      "tensor([[0.4572]], device='cuda:0')\n",
      "tensor([[0.4824]], device='cuda:0')\n",
      "tensor([[0.4602]], device='cuda:0')\n",
      "tensor([[0.4662]], device='cuda:0')\n",
      "tensor([[0.4571]], device='cuda:0')\n",
      "tensor([[0.4681]], device='cuda:0')\n",
      "tensor([[0.4769]], device='cuda:0')\n"
     ]
    },
    {
     "name": "stderr",
     "output_type": "stream",
     "text": [
      "Eval Dev Sentiment:  26%|██▌       | 286/1101 [00:05<00:14, 56.96it/s]"
     ]
    },
    {
     "name": "stdout",
     "output_type": "stream",
     "text": [
      "tensor([[0.4584]], device='cuda:0')\n",
      "tensor([[0.4685]], device='cuda:0')\n",
      "tensor([[0.4736]], device='cuda:0')\n",
      "tensor([[0.4572]], device='cuda:0')\n",
      "tensor([[0.4715]], device='cuda:0')\n",
      "tensor([[0.4649]], device='cuda:0')\n",
      "tensor([[0.4548]], device='cuda:0')\n",
      "tensor([[0.4632]], device='cuda:0')\n",
      "tensor([[0.4664]], device='cuda:0')\n",
      "tensor([[0.4892]], device='cuda:0')\n",
      "tensor([[0.4649]], device='cuda:0')\n",
      "tensor([[0.4655]], device='cuda:0')\n"
     ]
    },
    {
     "name": "stderr",
     "output_type": "stream",
     "text": [
      "Eval Dev Sentiment:  27%|██▋       | 298/1101 [00:05<00:13, 57.40it/s]"
     ]
    },
    {
     "name": "stdout",
     "output_type": "stream",
     "text": [
      "tensor([[0.4647]], device='cuda:0')\n",
      "tensor([[0.4706]], device='cuda:0')\n",
      "tensor([[0.4598]], device='cuda:0')\n",
      "tensor([[0.4665]], device='cuda:0')\n",
      "tensor([[0.4658]], device='cuda:0')\n",
      "tensor([[0.5212]], device='cuda:0')\n",
      "tensor([[0.4971]], device='cuda:0')\n",
      "tensor([[0.4696]], device='cuda:0')\n",
      "tensor([[0.4702]], device='cuda:0')\n",
      "tensor([[0.4861]], device='cuda:0')\n",
      "tensor([[0.4526]], device='cuda:0')\n",
      "tensor([[0.5014]], device='cuda:0')\n"
     ]
    },
    {
     "name": "stderr",
     "output_type": "stream",
     "text": [
      "Eval Dev Sentiment:  28%|██▊       | 310/1101 [00:05<00:13, 58.09it/s]"
     ]
    },
    {
     "name": "stdout",
     "output_type": "stream",
     "text": [
      "tensor([[0.5035]], device='cuda:0')\n",
      "tensor([[0.4634]], device='cuda:0')\n",
      "tensor([[0.4620]], device='cuda:0')\n",
      "tensor([[0.4626]], device='cuda:0')\n",
      "tensor([[0.4926]], device='cuda:0')\n",
      "tensor([[0.4572]], device='cuda:0')\n",
      "tensor([[0.4659]], device='cuda:0')\n",
      "tensor([[0.4631]], device='cuda:0')\n",
      "tensor([[0.5516]], device='cuda:0')\n",
      "tensor([[0.4751]], device='cuda:0')\n",
      "tensor([[0.5020]], device='cuda:0')\n",
      "tensor([[0.4610]], device='cuda:0')\n"
     ]
    },
    {
     "name": "stderr",
     "output_type": "stream",
     "text": [
      "\r",
      "Eval Dev Sentiment:  29%|██▉       | 317/1101 [00:05<00:13, 59.19it/s]"
     ]
    },
    {
     "name": "stdout",
     "output_type": "stream",
     "text": [
      "tensor([[0.4796]], device='cuda:0')\n",
      "tensor([[0.4618]], device='cuda:0')\n",
      "tensor([[0.4700]], device='cuda:0')\n",
      "tensor([[0.4602]], device='cuda:0')\n",
      "tensor([[0.4799]], device='cuda:0')\n",
      "tensor([[0.4882]], device='cuda:0')\n",
      "tensor([[0.4772]], device='cuda:0')\n",
      "tensor([[0.4886]], device='cuda:0')\n",
      "tensor([[0.4937]], device='cuda:0')\n",
      "tensor([[0.4595]], device='cuda:0')\n",
      "tensor([[0.5310]], device='cuda:0')\n",
      "tensor([[0.4824]], device='cuda:0')\n",
      "tensor([[0.5815]], device='cuda:0')\n"
     ]
    },
    {
     "name": "stderr",
     "output_type": "stream",
     "text": [
      "Eval Dev Sentiment:  30%|███       | 331/1101 [00:05<00:12, 59.37it/s]"
     ]
    },
    {
     "name": "stdout",
     "output_type": "stream",
     "text": [
      "tensor([[0.4655]], device='cuda:0')\n",
      "tensor([[0.4829]], device='cuda:0')\n",
      "tensor([[0.4738]], device='cuda:0')\n",
      "tensor([[0.5180]], device='cuda:0')\n",
      "tensor([[0.4651]], device='cuda:0')\n",
      "tensor([[0.5054]], device='cuda:0')\n",
      "tensor([[0.4813]], device='cuda:0')\n",
      "tensor([[0.4644]], device='cuda:0')\n",
      "tensor([[0.4738]], device='cuda:0')\n",
      "tensor([[0.5653]], device='cuda:0')\n",
      "tensor([[0.4881]], device='cuda:0')\n",
      "tensor([[0.4763]], device='cuda:0')\n"
     ]
    },
    {
     "name": "stderr",
     "output_type": "stream",
     "text": [
      "Eval Dev Sentiment:  31%|███       | 344/1101 [00:06<00:12, 59.77it/s]"
     ]
    },
    {
     "name": "stdout",
     "output_type": "stream",
     "text": [
      "tensor([[0.4646]], device='cuda:0')\n",
      "tensor([[0.4668]], device='cuda:0')\n",
      "tensor([[0.4628]], device='cuda:0')\n",
      "tensor([[0.4688]], device='cuda:0')\n",
      "tensor([[0.4521]], device='cuda:0')\n",
      "tensor([[0.4763]], device='cuda:0')\n",
      "tensor([[0.4618]], device='cuda:0')\n",
      "tensor([[0.4581]], device='cuda:0')\n",
      "tensor([[0.4605]], device='cuda:0')\n",
      "tensor([[0.5228]], device='cuda:0')\n",
      "tensor([[0.4959]], device='cuda:0')\n",
      "tensor([[0.5106]], device='cuda:0')\n"
     ]
    },
    {
     "name": "stderr",
     "output_type": "stream",
     "text": [
      "Eval Dev Sentiment:  32%|███▏      | 356/1101 [00:06<00:13, 56.41it/s]"
     ]
    },
    {
     "name": "stdout",
     "output_type": "stream",
     "text": [
      "tensor([[0.4899]], device='cuda:0')\n",
      "tensor([[0.4579]], device='cuda:0')\n",
      "tensor([[0.4604]], device='cuda:0')\n",
      "tensor([[0.4735]], device='cuda:0')\n",
      "tensor([[0.4720]], device='cuda:0')\n",
      "tensor([[0.4762]], device='cuda:0')\n",
      "tensor([[0.4567]], device='cuda:0')\n",
      "tensor([[0.4784]], device='cuda:0')\n",
      "tensor([[0.4587]], device='cuda:0')\n",
      "tensor([[0.4588]], device='cuda:0')\n",
      "tensor([[0.4636]], device='cuda:0')\n",
      "tensor([[0.5415]], device='cuda:0')\n"
     ]
    },
    {
     "name": "stderr",
     "output_type": "stream",
     "text": [
      "Eval Dev Sentiment:  34%|███▎      | 370/1101 [00:06<00:12, 57.73it/s]"
     ]
    },
    {
     "name": "stdout",
     "output_type": "stream",
     "text": [
      "tensor([[0.4700]], device='cuda:0')\n",
      "tensor([[0.4860]], device='cuda:0')\n",
      "tensor([[0.4957]], device='cuda:0')\n",
      "tensor([[0.4705]], device='cuda:0')\n",
      "tensor([[0.4763]], device='cuda:0')\n",
      "tensor([[0.4743]], device='cuda:0')\n",
      "tensor([[0.4742]], device='cuda:0')\n",
      "tensor([[0.4666]], device='cuda:0')\n",
      "tensor([[0.5090]], device='cuda:0')\n",
      "tensor([[0.4743]], device='cuda:0')\n",
      "tensor([[0.4628]], device='cuda:0')\n",
      "tensor([[0.4627]], device='cuda:0')\n"
     ]
    },
    {
     "name": "stderr",
     "output_type": "stream",
     "text": [
      "Eval Dev Sentiment:  35%|███▍      | 382/1101 [00:06<00:12, 56.32it/s]"
     ]
    },
    {
     "name": "stdout",
     "output_type": "stream",
     "text": [
      "tensor([[0.4598]], device='cuda:0')\n",
      "tensor([[0.4667]], device='cuda:0')\n",
      "tensor([[0.4638]], device='cuda:0')\n",
      "tensor([[0.4614]], device='cuda:0')\n",
      "tensor([[0.4740]], device='cuda:0')\n",
      "tensor([[0.4668]], device='cuda:0')\n",
      "tensor([[0.4650]], device='cuda:0')\n",
      "tensor([[0.4695]], device='cuda:0')\n",
      "tensor([[0.4772]], device='cuda:0')\n",
      "tensor([[0.5164]], device='cuda:0')\n",
      "tensor([[0.4938]], device='cuda:0')\n",
      "tensor([[0.5061]], device='cuda:0')\n"
     ]
    },
    {
     "name": "stderr",
     "output_type": "stream",
     "text": [
      "Eval Dev Sentiment:  36%|███▌      | 394/1101 [00:06<00:12, 56.38it/s]"
     ]
    },
    {
     "name": "stdout",
     "output_type": "stream",
     "text": [
      "tensor([[0.4618]], device='cuda:0')\n",
      "tensor([[0.4739]], device='cuda:0')\n",
      "tensor([[0.4772]], device='cuda:0')\n",
      "tensor([[0.4607]], device='cuda:0')\n",
      "tensor([[0.4748]], device='cuda:0')\n",
      "tensor([[0.5084]], device='cuda:0')\n",
      "tensor([[0.4551]], device='cuda:0')\n",
      "tensor([[0.4862]], device='cuda:0')\n",
      "tensor([[0.4591]], device='cuda:0')\n",
      "tensor([[0.4658]], device='cuda:0')\n",
      "tensor([[0.4563]], device='cuda:0')\n"
     ]
    },
    {
     "name": "stderr",
     "output_type": "stream",
     "text": [
      "Eval Dev Sentiment:  37%|███▋      | 406/1101 [00:07<00:12, 56.55it/s]"
     ]
    },
    {
     "name": "stdout",
     "output_type": "stream",
     "text": [
      "tensor([[0.4710]], device='cuda:0')\n",
      "tensor([[0.4503]], device='cuda:0')\n",
      "tensor([[0.4620]], device='cuda:0')\n",
      "tensor([[0.4578]], device='cuda:0')\n",
      "tensor([[0.4792]], device='cuda:0')\n",
      "tensor([[0.4618]], device='cuda:0')\n",
      "tensor([[0.6514]], device='cuda:0')\n",
      "tensor([[0.4512]], device='cuda:0')\n",
      "tensor([[0.4568]], device='cuda:0')\n",
      "tensor([[0.4632]], device='cuda:0')\n",
      "tensor([[0.4628]], device='cuda:0')\n",
      "tensor([[0.4628]], device='cuda:0')\n"
     ]
    },
    {
     "name": "stderr",
     "output_type": "stream",
     "text": [
      "Eval Dev Sentiment:  38%|███▊      | 418/1101 [00:07<00:12, 56.57it/s]"
     ]
    },
    {
     "name": "stdout",
     "output_type": "stream",
     "text": [
      "tensor([[0.4589]], device='cuda:0')\n",
      "tensor([[0.4886]], device='cuda:0')\n",
      "tensor([[0.4648]], device='cuda:0')\n",
      "tensor([[0.4594]], device='cuda:0')\n",
      "tensor([[0.4703]], device='cuda:0')\n",
      "tensor([[0.4561]], device='cuda:0')\n",
      "tensor([[0.4663]], device='cuda:0')\n",
      "tensor([[0.4718]], device='cuda:0')\n",
      "tensor([[0.4495]], device='cuda:0')\n",
      "tensor([[0.4880]], device='cuda:0')\n",
      "tensor([[0.4833]], device='cuda:0')\n",
      "tensor([[0.4552]], device='cuda:0')\n"
     ]
    },
    {
     "name": "stderr",
     "output_type": "stream",
     "text": [
      "\r",
      "Eval Dev Sentiment:  39%|███▊      | 424/1101 [00:07<00:12, 52.15it/s]"
     ]
    },
    {
     "name": "stdout",
     "output_type": "stream",
     "text": [
      "tensor([[0.4604]], device='cuda:0')\n",
      "tensor([[0.4546]], device='cuda:0')\n",
      "tensor([[0.4637]], device='cuda:0')\n",
      "tensor([[0.4844]], device='cuda:0')\n",
      "tensor([[0.4683]], device='cuda:0')\n",
      "tensor([[0.4848]], device='cuda:0')\n",
      "tensor([[0.4548]], device='cuda:0')\n",
      "tensor([[0.4721]], device='cuda:0')\n",
      "tensor([[0.5343]], device='cuda:0')\n"
     ]
    },
    {
     "name": "stderr",
     "output_type": "stream",
     "text": [
      "Eval Dev Sentiment:  40%|███▉      | 436/1101 [00:07<00:13, 48.46it/s]"
     ]
    },
    {
     "name": "stdout",
     "output_type": "stream",
     "text": [
      "tensor([[0.4761]], device='cuda:0')\n",
      "tensor([[0.4663]], device='cuda:0')\n",
      "tensor([[0.4640]], device='cuda:0')\n",
      "tensor([[0.4572]], device='cuda:0')\n",
      "tensor([[0.4646]], device='cuda:0')\n",
      "tensor([[0.4786]], device='cuda:0')\n",
      "tensor([[0.4888]], device='cuda:0')\n",
      "tensor([[0.4599]], device='cuda:0')\n",
      "tensor([[0.4581]], device='cuda:0')\n",
      "tensor([[0.4815]], device='cuda:0')\n"
     ]
    },
    {
     "name": "stderr",
     "output_type": "stream",
     "text": [
      "Eval Dev Sentiment:  41%|████      | 448/1101 [00:07<00:12, 52.72it/s]"
     ]
    },
    {
     "name": "stdout",
     "output_type": "stream",
     "text": [
      "tensor([[0.4606]], device='cuda:0')\n",
      "tensor([[0.4733]], device='cuda:0')\n",
      "tensor([[0.4661]], device='cuda:0')\n",
      "tensor([[0.4570]], device='cuda:0')\n",
      "tensor([[0.4636]], device='cuda:0')\n",
      "tensor([[0.4651]], device='cuda:0')\n",
      "tensor([[0.4832]], device='cuda:0')\n",
      "tensor([[0.4697]], device='cuda:0')\n",
      "tensor([[0.4722]], device='cuda:0')\n",
      "tensor([[0.5317]], device='cuda:0')\n",
      "tensor([[0.4692]], device='cuda:0')\n",
      "tensor([[0.4912]], device='cuda:0')\n"
     ]
    },
    {
     "name": "stderr",
     "output_type": "stream",
     "text": [
      "Eval Dev Sentiment:  42%|████▏     | 461/1101 [00:08<00:11, 56.80it/s]"
     ]
    },
    {
     "name": "stdout",
     "output_type": "stream",
     "text": [
      "tensor([[0.5608]], device='cuda:0')\n",
      "tensor([[0.4926]], device='cuda:0')\n",
      "tensor([[0.5032]], device='cuda:0')\n",
      "tensor([[0.4685]], device='cuda:0')\n",
      "tensor([[0.4646]], device='cuda:0')\n",
      "tensor([[0.4680]], device='cuda:0')\n",
      "tensor([[0.4613]], device='cuda:0')\n",
      "tensor([[0.4697]], device='cuda:0')\n",
      "tensor([[0.4659]], device='cuda:0')\n",
      "tensor([[0.4606]], device='cuda:0')\n",
      "tensor([[0.4664]], device='cuda:0')\n",
      "tensor([[0.4613]], device='cuda:0')\n",
      "tensor([[0.4625]], device='cuda:0')\n"
     ]
    },
    {
     "name": "stderr",
     "output_type": "stream",
     "text": [
      "Eval Dev Sentiment:  43%|████▎     | 473/1101 [00:08<00:11, 56.29it/s]"
     ]
    },
    {
     "name": "stdout",
     "output_type": "stream",
     "text": [
      "tensor([[0.4684]], device='cuda:0')\n",
      "tensor([[0.4815]], device='cuda:0')\n",
      "tensor([[0.4719]], device='cuda:0')\n",
      "tensor([[0.4559]], device='cuda:0')\n",
      "tensor([[0.4762]], device='cuda:0')\n",
      "tensor([[0.4627]], device='cuda:0')\n",
      "tensor([[0.4590]], device='cuda:0')\n",
      "tensor([[0.4933]], device='cuda:0')\n",
      "tensor([[0.4789]], device='cuda:0')\n",
      "tensor([[0.4627]], device='cuda:0')\n",
      "tensor([[0.4701]], device='cuda:0')\n"
     ]
    },
    {
     "name": "stderr",
     "output_type": "stream",
     "text": [
      "\r",
      "Eval Dev Sentiment:  44%|████▎     | 479/1101 [00:08<00:11, 54.93it/s]"
     ]
    },
    {
     "name": "stdout",
     "output_type": "stream",
     "text": [
      "tensor([[0.4630]], device='cuda:0')\n",
      "tensor([[0.4713]], device='cuda:0')\n",
      "tensor([[0.4749]], device='cuda:0')\n",
      "tensor([[0.5209]], device='cuda:0')\n",
      "tensor([[0.4692]], device='cuda:0')\n",
      "tensor([[0.4648]], device='cuda:0')\n",
      "tensor([[0.4653]], device='cuda:0')\n",
      "tensor([[0.4734]], device='cuda:0')\n",
      "tensor([[0.4820]], device='cuda:0')\n",
      "tensor([[0.4654]], device='cuda:0')\n",
      "tensor([[0.4782]], device='cuda:0')\n",
      "tensor([[0.4679]], device='cuda:0')\n"
     ]
    },
    {
     "name": "stderr",
     "output_type": "stream",
     "text": [
      "Eval Dev Sentiment:  45%|████▍     | 493/1101 [00:08<00:10, 58.85it/s]"
     ]
    },
    {
     "name": "stdout",
     "output_type": "stream",
     "text": [
      "tensor([[0.4880]], device='cuda:0')\n",
      "tensor([[0.4543]], device='cuda:0')\n",
      "tensor([[0.6371]], device='cuda:0')\n",
      "tensor([[0.4592]], device='cuda:0')\n",
      "tensor([[0.4805]], device='cuda:0')\n",
      "tensor([[0.4897]], device='cuda:0')\n",
      "tensor([[0.4675]], device='cuda:0')\n",
      "tensor([[0.4547]], device='cuda:0')\n",
      "tensor([[0.5691]], device='cuda:0')\n",
      "tensor([[0.5978]], device='cuda:0')\n",
      "tensor([[0.6173]], device='cuda:0')\n",
      "tensor([[0.4711]], device='cuda:0')\n",
      "tensor([[0.4633]], device='cuda:0')\n"
     ]
    },
    {
     "name": "stderr",
     "output_type": "stream",
     "text": [
      "Eval Dev Sentiment:  46%|████▌     | 507/1101 [00:08<00:10, 59.20it/s]"
     ]
    },
    {
     "name": "stdout",
     "output_type": "stream",
     "text": [
      "tensor([[0.4639]], device='cuda:0')\n",
      "tensor([[0.4709]], device='cuda:0')\n",
      "tensor([[0.4677]], device='cuda:0')\n",
      "tensor([[0.4675]], device='cuda:0')\n",
      "tensor([[0.4658]], device='cuda:0')\n",
      "tensor([[0.4800]], device='cuda:0')\n",
      "tensor([[0.4632]], device='cuda:0')\n",
      "tensor([[0.4667]], device='cuda:0')\n",
      "tensor([[0.4759]], device='cuda:0')\n",
      "tensor([[0.4611]], device='cuda:0')\n",
      "tensor([[0.4622]], device='cuda:0')\n",
      "tensor([[0.4724]], device='cuda:0')\n"
     ]
    },
    {
     "name": "stderr",
     "output_type": "stream",
     "text": [
      "Eval Dev Sentiment:  47%|████▋     | 520/1101 [00:09<00:09, 58.68it/s]"
     ]
    },
    {
     "name": "stdout",
     "output_type": "stream",
     "text": [
      "tensor([[0.4764]], device='cuda:0')\n",
      "tensor([[0.4595]], device='cuda:0')\n",
      "tensor([[0.6091]], device='cuda:0')\n",
      "tensor([[0.4719]], device='cuda:0')\n",
      "tensor([[0.4651]], device='cuda:0')\n",
      "tensor([[0.5535]], device='cuda:0')\n",
      "tensor([[0.4727]], device='cuda:0')\n",
      "tensor([[0.5578]], device='cuda:0')\n",
      "tensor([[0.4655]], device='cuda:0')\n",
      "tensor([[0.4458]], device='cuda:0')\n",
      "tensor([[0.4872]], device='cuda:0')\n",
      "tensor([[0.4730]], device='cuda:0')\n"
     ]
    },
    {
     "name": "stderr",
     "output_type": "stream",
     "text": [
      "Eval Dev Sentiment:  48%|████▊     | 532/1101 [00:09<00:09, 58.19it/s]"
     ]
    },
    {
     "name": "stdout",
     "output_type": "stream",
     "text": [
      "tensor([[0.4626]], device='cuda:0')\n",
      "tensor([[0.5847]], device='cuda:0')\n",
      "tensor([[0.5221]], device='cuda:0')\n",
      "tensor([[0.4741]], device='cuda:0')\n",
      "tensor([[0.4755]], device='cuda:0')\n",
      "tensor([[0.4683]], device='cuda:0')\n",
      "tensor([[0.4845]], device='cuda:0')\n",
      "tensor([[0.4808]], device='cuda:0')\n",
      "tensor([[0.4741]], device='cuda:0')\n",
      "tensor([[0.4612]], device='cuda:0')\n",
      "tensor([[0.4654]], device='cuda:0')\n",
      "tensor([[0.4598]], device='cuda:0')\n"
     ]
    },
    {
     "name": "stderr",
     "output_type": "stream",
     "text": [
      "Eval Dev Sentiment:  50%|████▉     | 545/1101 [00:09<00:09, 56.49it/s]"
     ]
    },
    {
     "name": "stdout",
     "output_type": "stream",
     "text": [
      "tensor([[0.4664]], device='cuda:0')\n",
      "tensor([[0.4684]], device='cuda:0')\n",
      "tensor([[0.4555]], device='cuda:0')\n",
      "tensor([[0.4939]], device='cuda:0')\n",
      "tensor([[0.4926]], device='cuda:0')\n",
      "tensor([[0.4585]], device='cuda:0')\n",
      "tensor([[0.4599]], device='cuda:0')\n",
      "tensor([[0.4716]], device='cuda:0')\n",
      "tensor([[0.4735]], device='cuda:0')\n",
      "tensor([[0.4863]], device='cuda:0')\n",
      "tensor([[0.4619]], device='cuda:0')\n",
      "tensor([[0.4537]], device='cuda:0')\n"
     ]
    },
    {
     "name": "stderr",
     "output_type": "stream",
     "text": [
      "Eval Dev Sentiment:  51%|█████     | 557/1101 [00:09<00:09, 57.09it/s]"
     ]
    },
    {
     "name": "stdout",
     "output_type": "stream",
     "text": [
      "tensor([[0.4644]], device='cuda:0')\n",
      "tensor([[0.4579]], device='cuda:0')\n",
      "tensor([[0.4861]], device='cuda:0')\n",
      "tensor([[0.4702]], device='cuda:0')\n",
      "tensor([[0.4558]], device='cuda:0')\n",
      "tensor([[0.4698]], device='cuda:0')\n",
      "tensor([[0.4726]], device='cuda:0')\n",
      "tensor([[0.4797]], device='cuda:0')\n",
      "tensor([[0.4572]], device='cuda:0')\n",
      "tensor([[0.4566]], device='cuda:0')\n",
      "tensor([[0.4592]], device='cuda:0')\n",
      "tensor([[0.4616]], device='cuda:0')\n"
     ]
    },
    {
     "name": "stderr",
     "output_type": "stream",
     "text": [
      "Eval Dev Sentiment:  52%|█████▏    | 569/1101 [00:10<00:09, 57.90it/s]"
     ]
    },
    {
     "name": "stdout",
     "output_type": "stream",
     "text": [
      "tensor([[0.4656]], device='cuda:0')\n",
      "tensor([[0.4783]], device='cuda:0')\n",
      "tensor([[0.4681]], device='cuda:0')\n",
      "tensor([[0.6153]], device='cuda:0')\n",
      "tensor([[0.5345]], device='cuda:0')\n",
      "tensor([[0.4750]], device='cuda:0')\n",
      "tensor([[0.4682]], device='cuda:0')\n",
      "tensor([[0.4876]], device='cuda:0')\n",
      "tensor([[0.4612]], device='cuda:0')\n",
      "tensor([[0.4865]], device='cuda:0')\n",
      "tensor([[0.5329]], device='cuda:0')\n",
      "tensor([[0.4637]], device='cuda:0')\n"
     ]
    },
    {
     "name": "stderr",
     "output_type": "stream",
     "text": [
      "Eval Dev Sentiment:  53%|█████▎    | 581/1101 [00:10<00:09, 56.58it/s]"
     ]
    },
    {
     "name": "stdout",
     "output_type": "stream",
     "text": [
      "tensor([[0.5029]], device='cuda:0')\n",
      "tensor([[0.4970]], device='cuda:0')\n",
      "tensor([[0.4675]], device='cuda:0')\n",
      "tensor([[0.4757]], device='cuda:0')\n",
      "tensor([[0.5710]], device='cuda:0')\n",
      "tensor([[0.4702]], device='cuda:0')\n",
      "tensor([[0.5211]], device='cuda:0')\n",
      "tensor([[0.4702]], device='cuda:0')\n",
      "tensor([[0.4838]], device='cuda:0')\n",
      "tensor([[0.4564]], device='cuda:0')\n",
      "tensor([[0.4734]], device='cuda:0')\n"
     ]
    },
    {
     "name": "stderr",
     "output_type": "stream",
     "text": [
      "Eval Dev Sentiment:  54%|█████▍    | 593/1101 [00:10<00:08, 56.61it/s]"
     ]
    },
    {
     "name": "stdout",
     "output_type": "stream",
     "text": [
      "tensor([[0.4708]], device='cuda:0')\n",
      "tensor([[0.4982]], device='cuda:0')\n",
      "tensor([[0.5169]], device='cuda:0')\n",
      "tensor([[0.5071]], device='cuda:0')\n",
      "tensor([[0.5144]], device='cuda:0')\n",
      "tensor([[0.4914]], device='cuda:0')\n",
      "tensor([[0.5293]], device='cuda:0')\n",
      "tensor([[0.4808]], device='cuda:0')\n",
      "tensor([[0.4659]], device='cuda:0')\n",
      "tensor([[0.4778]], device='cuda:0')\n",
      "tensor([[0.4623]], device='cuda:0')\n",
      "tensor([[0.4690]], device='cuda:0')\n"
     ]
    },
    {
     "name": "stderr",
     "output_type": "stream",
     "text": [
      "Eval Dev Sentiment:  55%|█████▌    | 606/1101 [00:10<00:08, 58.92it/s]"
     ]
    },
    {
     "name": "stdout",
     "output_type": "stream",
     "text": [
      "tensor([[0.4675]], device='cuda:0')\n",
      "tensor([[0.4723]], device='cuda:0')\n",
      "tensor([[0.5619]], device='cuda:0')\n",
      "tensor([[0.4591]], device='cuda:0')\n",
      "tensor([[0.5063]], device='cuda:0')\n",
      "tensor([[0.4672]], device='cuda:0')\n",
      "tensor([[0.5989]], device='cuda:0')\n",
      "tensor([[0.4629]], device='cuda:0')\n",
      "tensor([[0.4678]], device='cuda:0')\n",
      "tensor([[0.5267]], device='cuda:0')\n",
      "tensor([[0.5544]], device='cuda:0')\n",
      "tensor([[0.4957]], device='cuda:0')\n",
      "tensor([[0.4701]], device='cuda:0')\n"
     ]
    },
    {
     "name": "stderr",
     "output_type": "stream",
     "text": [
      "Eval Dev Sentiment:  56%|█████▌    | 618/1101 [00:10<00:08, 57.97it/s]"
     ]
    },
    {
     "name": "stdout",
     "output_type": "stream",
     "text": [
      "tensor([[0.6295]], device='cuda:0')\n",
      "tensor([[0.4916]], device='cuda:0')\n",
      "tensor([[0.5091]], device='cuda:0')\n",
      "tensor([[0.4766]], device='cuda:0')\n",
      "tensor([[0.4619]], device='cuda:0')\n",
      "tensor([[0.4569]], device='cuda:0')\n",
      "tensor([[0.4670]], device='cuda:0')\n",
      "tensor([[0.4680]], device='cuda:0')\n",
      "tensor([[0.5659]], device='cuda:0')\n",
      "tensor([[0.4725]], device='cuda:0')\n",
      "tensor([[0.5241]], device='cuda:0')\n",
      "tensor([[0.4689]], device='cuda:0')\n"
     ]
    },
    {
     "name": "stderr",
     "output_type": "stream",
     "text": [
      "\r",
      "Eval Dev Sentiment:  57%|█████▋    | 624/1101 [00:11<00:08, 57.91it/s]"
     ]
    },
    {
     "name": "stdout",
     "output_type": "stream",
     "text": [
      "tensor([[0.4610]], device='cuda:0')\n",
      "tensor([[0.4684]], device='cuda:0')\n",
      "tensor([[0.4746]], device='cuda:0')\n",
      "tensor([[0.5033]], device='cuda:0')\n",
      "tensor([[0.4584]], device='cuda:0')\n",
      "tensor([[0.4724]], device='cuda:0')\n",
      "tensor([[0.4714]], device='cuda:0')\n",
      "tensor([[0.4942]], device='cuda:0')\n",
      "tensor([[0.5323]], device='cuda:0')\n",
      "tensor([[0.4582]], device='cuda:0')\n",
      "tensor([[0.4636]], device='cuda:0')\n",
      "tensor([[0.4571]], device='cuda:0')\n"
     ]
    },
    {
     "name": "stderr",
     "output_type": "stream",
     "text": [
      "Eval Dev Sentiment:  58%|█████▊    | 637/1101 [00:11<00:08, 57.64it/s]"
     ]
    },
    {
     "name": "stdout",
     "output_type": "stream",
     "text": [
      "tensor([[0.4572]], device='cuda:0')\n",
      "tensor([[0.4669]], device='cuda:0')\n",
      "tensor([[0.4644]], device='cuda:0')\n",
      "tensor([[0.4735]], device='cuda:0')\n",
      "tensor([[0.4717]], device='cuda:0')\n",
      "tensor([[0.6650]], device='cuda:0')\n",
      "tensor([[0.4620]], device='cuda:0')\n",
      "tensor([[0.4577]], device='cuda:0')\n",
      "tensor([[0.4609]], device='cuda:0')\n",
      "tensor([[0.4706]], device='cuda:0')\n",
      "tensor([[0.5787]], device='cuda:0')\n",
      "tensor([[0.5036]], device='cuda:0')\n"
     ]
    },
    {
     "name": "stderr",
     "output_type": "stream",
     "text": [
      "Eval Dev Sentiment:  59%|█████▉    | 650/1101 [00:11<00:07, 58.64it/s]"
     ]
    },
    {
     "name": "stdout",
     "output_type": "stream",
     "text": [
      "tensor([[0.5390]], device='cuda:0')\n",
      "tensor([[0.5407]], device='cuda:0')\n",
      "tensor([[0.4787]], device='cuda:0')\n",
      "tensor([[0.4650]], device='cuda:0')\n",
      "tensor([[0.4568]], device='cuda:0')\n",
      "tensor([[0.4581]], device='cuda:0')\n",
      "tensor([[0.4650]], device='cuda:0')\n",
      "tensor([[0.4607]], device='cuda:0')\n",
      "tensor([[0.4629]], device='cuda:0')\n",
      "tensor([[0.4796]], device='cuda:0')\n",
      "tensor([[0.4584]], device='cuda:0')\n",
      "tensor([[0.4596]], device='cuda:0')\n",
      "tensor([[0.5159]], device='cuda:0')\n"
     ]
    },
    {
     "name": "stderr",
     "output_type": "stream",
     "text": [
      "Eval Dev Sentiment:  60%|██████    | 664/1101 [00:11<00:07, 61.04it/s]"
     ]
    },
    {
     "name": "stdout",
     "output_type": "stream",
     "text": [
      "tensor([[0.4663]], device='cuda:0')\n",
      "tensor([[0.5818]], device='cuda:0')\n",
      "tensor([[0.4528]], device='cuda:0')\n",
      "tensor([[0.4866]], device='cuda:0')\n",
      "tensor([[0.4702]], device='cuda:0')\n",
      "tensor([[0.4847]], device='cuda:0')\n",
      "tensor([[0.4730]], device='cuda:0')\n",
      "tensor([[0.4724]], device='cuda:0')\n",
      "tensor([[0.4714]], device='cuda:0')\n",
      "tensor([[0.4789]], device='cuda:0')\n",
      "tensor([[0.4561]], device='cuda:0')\n",
      "tensor([[0.4643]], device='cuda:0')\n",
      "tensor([[0.4993]], device='cuda:0')\n"
     ]
    },
    {
     "name": "stderr",
     "output_type": "stream",
     "text": [
      "Eval Dev Sentiment:  61%|██████▏   | 677/1101 [00:11<00:07, 58.80it/s]"
     ]
    },
    {
     "name": "stdout",
     "output_type": "stream",
     "text": [
      "tensor([[0.4723]], device='cuda:0')\n",
      "tensor([[0.4719]], device='cuda:0')\n",
      "tensor([[0.4726]], device='cuda:0')\n",
      "tensor([[0.5087]], device='cuda:0')\n",
      "tensor([[0.4671]], device='cuda:0')\n",
      "tensor([[0.4545]], device='cuda:0')\n",
      "tensor([[0.4816]], device='cuda:0')\n",
      "tensor([[0.4998]], device='cuda:0')\n",
      "tensor([[0.4734]], device='cuda:0')\n",
      "tensor([[0.5146]], device='cuda:0')\n",
      "tensor([[0.4697]], device='cuda:0')\n",
      "tensor([[0.5499]], device='cuda:0')\n"
     ]
    },
    {
     "name": "stderr",
     "output_type": "stream",
     "text": [
      "Eval Dev Sentiment:  63%|██████▎   | 689/1101 [00:12<00:07, 57.15it/s]"
     ]
    },
    {
     "name": "stdout",
     "output_type": "stream",
     "text": [
      "tensor([[0.4795]], device='cuda:0')\n",
      "tensor([[0.5760]], device='cuda:0')\n",
      "tensor([[0.4627]], device='cuda:0')\n",
      "tensor([[0.4902]], device='cuda:0')\n",
      "tensor([[0.4664]], device='cuda:0')\n",
      "tensor([[0.4682]], device='cuda:0')\n",
      "tensor([[0.4751]], device='cuda:0')\n",
      "tensor([[0.4710]], device='cuda:0')\n",
      "tensor([[0.4661]], device='cuda:0')\n",
      "tensor([[0.4648]], device='cuda:0')\n",
      "tensor([[0.4621]], device='cuda:0')\n",
      "tensor([[0.4591]], device='cuda:0')\n"
     ]
    },
    {
     "name": "stderr",
     "output_type": "stream",
     "text": [
      "Eval Dev Sentiment:  64%|██████▍   | 703/1101 [00:12<00:06, 58.47it/s]"
     ]
    },
    {
     "name": "stdout",
     "output_type": "stream",
     "text": [
      "tensor([[0.4859]], device='cuda:0')\n",
      "tensor([[0.5847]], device='cuda:0')\n",
      "tensor([[0.4799]], device='cuda:0')\n",
      "tensor([[0.4734]], device='cuda:0')\n",
      "tensor([[0.5181]], device='cuda:0')\n",
      "tensor([[0.4744]], device='cuda:0')\n",
      "tensor([[0.4578]], device='cuda:0')\n",
      "tensor([[0.5030]], device='cuda:0')\n",
      "tensor([[0.4841]], device='cuda:0')\n",
      "tensor([[0.4804]], device='cuda:0')\n",
      "tensor([[0.4652]], device='cuda:0')\n",
      "tensor([[0.4761]], device='cuda:0')\n"
     ]
    },
    {
     "name": "stderr",
     "output_type": "stream",
     "text": [
      "Eval Dev Sentiment:  65%|██████▌   | 716/1101 [00:12<00:06, 58.48it/s]"
     ]
    },
    {
     "name": "stdout",
     "output_type": "stream",
     "text": [
      "tensor([[0.4671]], device='cuda:0')\n",
      "tensor([[0.4595]], device='cuda:0')\n",
      "tensor([[0.4716]], device='cuda:0')\n",
      "tensor([[0.4623]], device='cuda:0')\n",
      "tensor([[0.6648]], device='cuda:0')\n",
      "tensor([[0.4761]], device='cuda:0')\n",
      "tensor([[0.4768]], device='cuda:0')\n",
      "tensor([[0.4705]], device='cuda:0')\n",
      "tensor([[0.5160]], device='cuda:0')\n",
      "tensor([[0.4648]], device='cuda:0')\n",
      "tensor([[0.4692]], device='cuda:0')\n",
      "tensor([[0.4653]], device='cuda:0')\n"
     ]
    },
    {
     "name": "stderr",
     "output_type": "stream",
     "text": [
      "Eval Dev Sentiment:  66%|██████▌   | 728/1101 [00:12<00:06, 58.80it/s]"
     ]
    },
    {
     "name": "stdout",
     "output_type": "stream",
     "text": [
      "tensor([[0.4769]], device='cuda:0')\n",
      "tensor([[0.4614]], device='cuda:0')\n",
      "tensor([[0.4921]], device='cuda:0')\n",
      "tensor([[0.5039]], device='cuda:0')\n",
      "tensor([[0.4749]], device='cuda:0')\n",
      "tensor([[0.4961]], device='cuda:0')\n",
      "tensor([[0.4776]], device='cuda:0')\n",
      "tensor([[0.4687]], device='cuda:0')\n",
      "tensor([[0.4554]], device='cuda:0')\n",
      "tensor([[0.4669]], device='cuda:0')\n",
      "tensor([[0.4734]], device='cuda:0')\n",
      "tensor([[0.4619]], device='cuda:0')\n"
     ]
    },
    {
     "name": "stderr",
     "output_type": "stream",
     "text": [
      "\r",
      "Eval Dev Sentiment:  67%|██████▋   | 734/1101 [00:12<00:06, 57.37it/s]"
     ]
    },
    {
     "name": "stdout",
     "output_type": "stream",
     "text": [
      "tensor([[0.5067]], device='cuda:0')\n",
      "tensor([[0.4582]], device='cuda:0')\n",
      "tensor([[0.4550]], device='cuda:0')\n",
      "tensor([[0.4693]], device='cuda:0')\n",
      "tensor([[0.5077]], device='cuda:0')\n",
      "tensor([[0.4556]], device='cuda:0')\n",
      "tensor([[0.4648]], device='cuda:0')\n",
      "tensor([[0.4696]], device='cuda:0')\n",
      "tensor([[0.4622]], device='cuda:0')\n",
      "tensor([[0.4654]], device='cuda:0')\n",
      "tensor([[0.4635]], device='cuda:0')\n",
      "tensor([[0.5866]], device='cuda:0')\n"
     ]
    },
    {
     "name": "stderr",
     "output_type": "stream",
     "text": [
      "Eval Dev Sentiment:  68%|██████▊   | 747/1101 [00:13<00:06, 56.63it/s]"
     ]
    },
    {
     "name": "stdout",
     "output_type": "stream",
     "text": [
      "tensor([[0.4961]], device='cuda:0')\n",
      "tensor([[0.5257]], device='cuda:0')\n",
      "tensor([[0.4691]], device='cuda:0')\n",
      "tensor([[0.4559]], device='cuda:0')\n",
      "tensor([[0.6457]], device='cuda:0')\n",
      "tensor([[0.4687]], device='cuda:0')\n",
      "tensor([[0.4616]], device='cuda:0')\n",
      "tensor([[0.4641]], device='cuda:0')\n",
      "tensor([[0.4680]], device='cuda:0')\n",
      "tensor([[0.5317]], device='cuda:0')\n",
      "tensor([[0.4716]], device='cuda:0')\n"
     ]
    },
    {
     "name": "stderr",
     "output_type": "stream",
     "text": [
      "Eval Dev Sentiment:  69%|██████▉   | 759/1101 [00:13<00:06, 56.33it/s]"
     ]
    },
    {
     "name": "stdout",
     "output_type": "stream",
     "text": [
      "tensor([[0.4696]], device='cuda:0')\n",
      "tensor([[0.4668]], device='cuda:0')\n",
      "tensor([[0.4582]], device='cuda:0')\n",
      "tensor([[0.4880]], device='cuda:0')\n",
      "tensor([[0.4663]], device='cuda:0')\n",
      "tensor([[0.4729]], device='cuda:0')\n",
      "tensor([[0.4768]], device='cuda:0')\n",
      "tensor([[0.4717]], device='cuda:0')\n",
      "tensor([[0.5367]], device='cuda:0')\n",
      "tensor([[0.4607]], device='cuda:0')\n",
      "tensor([[0.4780]], device='cuda:0')\n",
      "tensor([[0.4902]], device='cuda:0')\n"
     ]
    },
    {
     "name": "stderr",
     "output_type": "stream",
     "text": [
      "Eval Dev Sentiment:  70%|███████   | 771/1101 [00:13<00:05, 56.30it/s]"
     ]
    },
    {
     "name": "stdout",
     "output_type": "stream",
     "text": [
      "tensor([[0.4767]], device='cuda:0')\n",
      "tensor([[0.4568]], device='cuda:0')\n",
      "tensor([[0.4665]], device='cuda:0')\n",
      "tensor([[0.4901]], device='cuda:0')\n",
      "tensor([[0.4843]], device='cuda:0')\n",
      "tensor([[0.4625]], device='cuda:0')\n",
      "tensor([[0.4521]], device='cuda:0')\n",
      "tensor([[0.5490]], device='cuda:0')\n",
      "tensor([[0.4647]], device='cuda:0')\n",
      "tensor([[0.6621]], device='cuda:0')\n",
      "tensor([[0.5474]], device='cuda:0')\n",
      "tensor([[0.4606]], device='cuda:0')\n"
     ]
    },
    {
     "name": "stderr",
     "output_type": "stream",
     "text": [
      "Eval Dev Sentiment:  71%|███████   | 783/1101 [00:13<00:05, 54.63it/s]"
     ]
    },
    {
     "name": "stdout",
     "output_type": "stream",
     "text": [
      "tensor([[0.4794]], device='cuda:0')\n",
      "tensor([[0.4721]], device='cuda:0')\n",
      "tensor([[0.4536]], device='cuda:0')\n",
      "tensor([[0.4596]], device='cuda:0')\n",
      "tensor([[0.4718]], device='cuda:0')\n",
      "tensor([[0.4744]], device='cuda:0')\n",
      "tensor([[0.4715]], device='cuda:0')\n",
      "tensor([[0.4595]], device='cuda:0')\n",
      "tensor([[0.4652]], device='cuda:0')\n",
      "tensor([[0.6412]], device='cuda:0')\n",
      "tensor([[0.4912]], device='cuda:0')\n"
     ]
    },
    {
     "name": "stderr",
     "output_type": "stream",
     "text": [
      "Eval Dev Sentiment:  72%|███████▏  | 796/1101 [00:14<00:05, 56.57it/s]"
     ]
    },
    {
     "name": "stdout",
     "output_type": "stream",
     "text": [
      "tensor([[0.6262]], device='cuda:0')\n",
      "tensor([[0.4643]], device='cuda:0')\n",
      "tensor([[0.5447]], device='cuda:0')\n",
      "tensor([[0.4754]], device='cuda:0')\n",
      "tensor([[0.4669]], device='cuda:0')\n",
      "tensor([[0.5173]], device='cuda:0')\n",
      "tensor([[0.5293]], device='cuda:0')\n",
      "tensor([[0.4718]], device='cuda:0')\n",
      "tensor([[0.4646]], device='cuda:0')\n",
      "tensor([[0.4666]], device='cuda:0')\n",
      "tensor([[0.4696]], device='cuda:0')\n",
      "tensor([[0.4783]], device='cuda:0')\n"
     ]
    },
    {
     "name": "stderr",
     "output_type": "stream",
     "text": [
      "Eval Dev Sentiment:  73%|███████▎  | 808/1101 [00:14<00:05, 54.31it/s]"
     ]
    },
    {
     "name": "stdout",
     "output_type": "stream",
     "text": [
      "tensor([[0.4593]], device='cuda:0')\n",
      "tensor([[0.4816]], device='cuda:0')\n",
      "tensor([[0.4800]], device='cuda:0')\n",
      "tensor([[0.4800]], device='cuda:0')\n",
      "tensor([[0.4711]], device='cuda:0')\n",
      "tensor([[0.5314]], device='cuda:0')\n",
      "tensor([[0.4916]], device='cuda:0')\n",
      "tensor([[0.4688]], device='cuda:0')\n",
      "tensor([[0.4570]], device='cuda:0')\n",
      "tensor([[0.4512]], device='cuda:0')\n",
      "tensor([[0.5208]], device='cuda:0')\n"
     ]
    },
    {
     "name": "stderr",
     "output_type": "stream",
     "text": [
      "Eval Dev Sentiment:  75%|███████▍  | 822/1101 [00:14<00:04, 58.09it/s]"
     ]
    },
    {
     "name": "stdout",
     "output_type": "stream",
     "text": [
      "tensor([[0.4711]], device='cuda:0')\n",
      "tensor([[0.4642]], device='cuda:0')\n",
      "tensor([[0.5742]], device='cuda:0')\n",
      "tensor([[0.4659]], device='cuda:0')\n",
      "tensor([[0.4771]], device='cuda:0')\n",
      "tensor([[0.4930]], device='cuda:0')\n",
      "tensor([[0.4670]], device='cuda:0')\n",
      "tensor([[0.4869]], device='cuda:0')\n",
      "tensor([[0.4795]], device='cuda:0')\n",
      "tensor([[0.5295]], device='cuda:0')\n",
      "tensor([[0.4648]], device='cuda:0')\n",
      "tensor([[0.5008]], device='cuda:0')\n",
      "tensor([[0.5448]], device='cuda:0')\n"
     ]
    },
    {
     "name": "stderr",
     "output_type": "stream",
     "text": [
      "Eval Dev Sentiment:  76%|███████▌  | 834/1101 [00:14<00:04, 56.71it/s]"
     ]
    },
    {
     "name": "stdout",
     "output_type": "stream",
     "text": [
      "tensor([[0.4834]], device='cuda:0')\n",
      "tensor([[0.4597]], device='cuda:0')\n",
      "tensor([[0.4546]], device='cuda:0')\n",
      "tensor([[0.4597]], device='cuda:0')\n",
      "tensor([[0.4605]], device='cuda:0')\n",
      "tensor([[0.4585]], device='cuda:0')\n",
      "tensor([[0.4947]], device='cuda:0')\n",
      "tensor([[0.4613]], device='cuda:0')\n",
      "tensor([[0.6140]], device='cuda:0')\n",
      "tensor([[0.4970]], device='cuda:0')\n",
      "tensor([[0.4586]], device='cuda:0')\n",
      "tensor([[0.4568]], device='cuda:0')\n"
     ]
    },
    {
     "name": "stderr",
     "output_type": "stream",
     "text": [
      "Eval Dev Sentiment:  77%|███████▋  | 846/1101 [00:14<00:04, 56.02it/s]"
     ]
    },
    {
     "name": "stdout",
     "output_type": "stream",
     "text": [
      "tensor([[0.4676]], device='cuda:0')\n",
      "tensor([[0.4655]], device='cuda:0')\n",
      "tensor([[0.4606]], device='cuda:0')\n",
      "tensor([[0.4570]], device='cuda:0')\n",
      "tensor([[0.5755]], device='cuda:0')\n",
      "tensor([[0.4893]], device='cuda:0')\n",
      "tensor([[0.4685]], device='cuda:0')\n",
      "tensor([[0.4689]], device='cuda:0')\n",
      "tensor([[0.4528]], device='cuda:0')\n",
      "tensor([[0.5920]], device='cuda:0')\n",
      "tensor([[0.4675]], device='cuda:0')\n",
      "tensor([[0.4924]], device='cuda:0')\n"
     ]
    },
    {
     "name": "stderr",
     "output_type": "stream",
     "text": [
      "Eval Dev Sentiment:  78%|███████▊  | 858/1101 [00:15<00:04, 56.69it/s]"
     ]
    },
    {
     "name": "stdout",
     "output_type": "stream",
     "text": [
      "tensor([[0.5279]], device='cuda:0')\n",
      "tensor([[0.5522]], device='cuda:0')\n",
      "tensor([[0.4771]], device='cuda:0')\n",
      "tensor([[0.4648]], device='cuda:0')\n",
      "tensor([[0.5133]], device='cuda:0')\n",
      "tensor([[0.4614]], device='cuda:0')\n",
      "tensor([[0.4647]], device='cuda:0')\n",
      "tensor([[0.5312]], device='cuda:0')\n",
      "tensor([[0.4572]], device='cuda:0')\n",
      "tensor([[0.4930]], device='cuda:0')\n",
      "tensor([[0.4557]], device='cuda:0')\n",
      "tensor([[0.4721]], device='cuda:0')\n"
     ]
    },
    {
     "name": "stderr",
     "output_type": "stream",
     "text": [
      "Eval Dev Sentiment:  79%|███████▉  | 870/1101 [00:15<00:04, 56.95it/s]"
     ]
    },
    {
     "name": "stdout",
     "output_type": "stream",
     "text": [
      "tensor([[0.4682]], device='cuda:0')\n",
      "tensor([[0.4660]], device='cuda:0')\n",
      "tensor([[0.4654]], device='cuda:0')\n",
      "tensor([[0.4847]], device='cuda:0')\n",
      "tensor([[0.4675]], device='cuda:0')\n",
      "tensor([[0.4735]], device='cuda:0')\n",
      "tensor([[0.4683]], device='cuda:0')\n",
      "tensor([[0.5401]], device='cuda:0')\n",
      "tensor([[0.4623]], device='cuda:0')\n",
      "tensor([[0.4610]], device='cuda:0')\n",
      "tensor([[0.4576]], device='cuda:0')\n",
      "tensor([[0.4648]], device='cuda:0')\n"
     ]
    },
    {
     "name": "stderr",
     "output_type": "stream",
     "text": [
      "Eval Dev Sentiment:  80%|████████  | 882/1101 [00:15<00:03, 57.24it/s]"
     ]
    },
    {
     "name": "stdout",
     "output_type": "stream",
     "text": [
      "tensor([[0.4632]], device='cuda:0')\n",
      "tensor([[0.5274]], device='cuda:0')\n",
      "tensor([[0.4612]], device='cuda:0')\n",
      "tensor([[0.4600]], device='cuda:0')\n",
      "tensor([[0.4563]], device='cuda:0')\n",
      "tensor([[0.4717]], device='cuda:0')\n",
      "tensor([[0.4777]], device='cuda:0')\n",
      "tensor([[0.4616]], device='cuda:0')\n",
      "tensor([[0.4542]], device='cuda:0')\n",
      "tensor([[0.4772]], device='cuda:0')\n",
      "tensor([[0.6354]], device='cuda:0')\n",
      "tensor([[0.4690]], device='cuda:0')\n"
     ]
    },
    {
     "name": "stderr",
     "output_type": "stream",
     "text": [
      "\r",
      "Eval Dev Sentiment:  81%|████████  | 888/1101 [00:15<00:03, 57.07it/s]"
     ]
    },
    {
     "name": "stdout",
     "output_type": "stream",
     "text": [
      "tensor([[0.4908]], device='cuda:0')\n",
      "tensor([[0.4580]], device='cuda:0')\n",
      "tensor([[0.4588]], device='cuda:0')\n",
      "tensor([[0.4693]], device='cuda:0')\n",
      "tensor([[0.4702]], device='cuda:0')\n",
      "tensor([[0.4522]], device='cuda:0')\n",
      "tensor([[0.4674]], device='cuda:0')\n",
      "tensor([[0.6246]], device='cuda:0')\n",
      "tensor([[0.4679]], device='cuda:0')\n",
      "tensor([[0.4941]], device='cuda:0')\n",
      "tensor([[0.4971]], device='cuda:0')\n",
      "tensor([[0.4680]], device='cuda:0')\n"
     ]
    },
    {
     "name": "stderr",
     "output_type": "stream",
     "text": [
      "Eval Dev Sentiment:  82%|████████▏ | 901/1101 [00:15<00:03, 58.35it/s]"
     ]
    },
    {
     "name": "stdout",
     "output_type": "stream",
     "text": [
      "tensor([[0.4626]], device='cuda:0')\n",
      "tensor([[0.4651]], device='cuda:0')\n",
      "tensor([[0.5334]], device='cuda:0')\n",
      "tensor([[0.4802]], device='cuda:0')\n",
      "tensor([[0.5225]], device='cuda:0')\n",
      "tensor([[0.5317]], device='cuda:0')\n",
      "tensor([[0.4641]], device='cuda:0')\n",
      "tensor([[0.5803]], device='cuda:0')\n",
      "tensor([[0.4848]], device='cuda:0')\n",
      "tensor([[0.6202]], device='cuda:0')\n",
      "tensor([[0.4674]], device='cuda:0')\n",
      "tensor([[0.5167]], device='cuda:0')\n",
      "tensor([[0.5628]], device='cuda:0')\n"
     ]
    },
    {
     "name": "stderr",
     "output_type": "stream",
     "text": [
      "Eval Dev Sentiment:  83%|████████▎ | 914/1101 [00:16<00:03, 58.49it/s]"
     ]
    },
    {
     "name": "stdout",
     "output_type": "stream",
     "text": [
      "tensor([[0.4726]], device='cuda:0')\n",
      "tensor([[0.4643]], device='cuda:0')\n",
      "tensor([[0.4682]], device='cuda:0')\n",
      "tensor([[0.4742]], device='cuda:0')\n",
      "tensor([[0.4715]], device='cuda:0')\n",
      "tensor([[0.4704]], device='cuda:0')\n",
      "tensor([[0.4593]], device='cuda:0')\n",
      "tensor([[0.4624]], device='cuda:0')\n",
      "tensor([[0.5021]], device='cuda:0')\n",
      "tensor([[0.4701]], device='cuda:0')\n",
      "tensor([[0.4629]], device='cuda:0')\n",
      "tensor([[0.4722]], device='cuda:0')\n"
     ]
    },
    {
     "name": "stderr",
     "output_type": "stream",
     "text": [
      "Eval Dev Sentiment:  84%|████████▍ | 927/1101 [00:16<00:02, 59.32it/s]"
     ]
    },
    {
     "name": "stdout",
     "output_type": "stream",
     "text": [
      "tensor([[0.4646]], device='cuda:0')\n",
      "tensor([[0.4617]], device='cuda:0')\n",
      "tensor([[0.4625]], device='cuda:0')\n",
      "tensor([[0.4648]], device='cuda:0')\n",
      "tensor([[0.4973]], device='cuda:0')\n",
      "tensor([[0.4766]], device='cuda:0')\n",
      "tensor([[0.5031]], device='cuda:0')\n",
      "tensor([[0.4853]], device='cuda:0')\n",
      "tensor([[0.4729]], device='cuda:0')\n",
      "tensor([[0.4577]], device='cuda:0')\n",
      "tensor([[0.4878]], device='cuda:0')\n",
      "tensor([[0.5283]], device='cuda:0')\n",
      "tensor([[0.4637]], device='cuda:0')\n"
     ]
    },
    {
     "name": "stderr",
     "output_type": "stream",
     "text": [
      "Eval Dev Sentiment:  85%|████████▌ | 941/1101 [00:16<00:02, 59.85it/s]"
     ]
    },
    {
     "name": "stdout",
     "output_type": "stream",
     "text": [
      "tensor([[0.5021]], device='cuda:0')\n",
      "tensor([[0.4699]], device='cuda:0')\n",
      "tensor([[0.4853]], device='cuda:0')\n",
      "tensor([[0.4717]], device='cuda:0')\n",
      "tensor([[0.4862]], device='cuda:0')\n",
      "tensor([[0.4705]], device='cuda:0')\n",
      "tensor([[0.4677]], device='cuda:0')\n",
      "tensor([[0.5421]], device='cuda:0')\n",
      "tensor([[0.4810]], device='cuda:0')\n",
      "tensor([[0.5290]], device='cuda:0')\n",
      "tensor([[0.4695]], device='cuda:0')\n",
      "tensor([[0.4615]], device='cuda:0')\n"
     ]
    },
    {
     "name": "stderr",
     "output_type": "stream",
     "text": [
      "Eval Dev Sentiment:  87%|████████▋ | 953/1101 [00:16<00:02, 57.81it/s]"
     ]
    },
    {
     "name": "stdout",
     "output_type": "stream",
     "text": [
      "tensor([[0.4920]], device='cuda:0')\n",
      "tensor([[0.6112]], device='cuda:0')\n",
      "tensor([[0.5549]], device='cuda:0')\n",
      "tensor([[0.5487]], device='cuda:0')\n",
      "tensor([[0.4671]], device='cuda:0')\n",
      "tensor([[0.4598]], device='cuda:0')\n",
      "tensor([[0.4649]], device='cuda:0')\n",
      "tensor([[0.4607]], device='cuda:0')\n",
      "tensor([[0.4679]], device='cuda:0')\n",
      "tensor([[0.4803]], device='cuda:0')\n",
      "tensor([[0.4758]], device='cuda:0')\n",
      "tensor([[0.4659]], device='cuda:0')\n"
     ]
    },
    {
     "name": "stderr",
     "output_type": "stream",
     "text": [
      "Eval Dev Sentiment:  88%|████████▊ | 965/1101 [00:16<00:02, 57.31it/s]"
     ]
    },
    {
     "name": "stdout",
     "output_type": "stream",
     "text": [
      "tensor([[0.4652]], device='cuda:0')\n",
      "tensor([[0.4839]], device='cuda:0')\n",
      "tensor([[0.4680]], device='cuda:0')\n",
      "tensor([[0.4536]], device='cuda:0')\n",
      "tensor([[0.4619]], device='cuda:0')\n",
      "tensor([[0.5047]], device='cuda:0')\n",
      "tensor([[0.4687]], device='cuda:0')\n",
      "tensor([[0.4824]], device='cuda:0')\n",
      "tensor([[0.5924]], device='cuda:0')\n",
      "tensor([[0.4993]], device='cuda:0')\n",
      "tensor([[0.4703]], device='cuda:0')\n",
      "tensor([[0.4658]], device='cuda:0')\n"
     ]
    },
    {
     "name": "stderr",
     "output_type": "stream",
     "text": [
      "Eval Dev Sentiment:  89%|████████▊ | 977/1101 [00:17<00:02, 55.89it/s]"
     ]
    },
    {
     "name": "stdout",
     "output_type": "stream",
     "text": [
      "tensor([[0.4703]], device='cuda:0')\n",
      "tensor([[0.4632]], device='cuda:0')\n",
      "tensor([[0.4667]], device='cuda:0')\n",
      "tensor([[0.4685]], device='cuda:0')\n",
      "tensor([[0.4673]], device='cuda:0')\n",
      "tensor([[0.4600]], device='cuda:0')\n",
      "tensor([[0.4576]], device='cuda:0')\n",
      "tensor([[0.4818]], device='cuda:0')\n",
      "tensor([[0.4639]], device='cuda:0')\n",
      "tensor([[0.4619]], device='cuda:0')\n",
      "tensor([[0.4788]], device='cuda:0')\n"
     ]
    },
    {
     "name": "stderr",
     "output_type": "stream",
     "text": [
      "Eval Dev Sentiment:  90%|████████▉ | 989/1101 [00:17<00:02, 55.68it/s]"
     ]
    },
    {
     "name": "stdout",
     "output_type": "stream",
     "text": [
      "tensor([[0.4643]], device='cuda:0')\n",
      "tensor([[0.4710]], device='cuda:0')\n",
      "tensor([[0.4741]], device='cuda:0')\n",
      "tensor([[0.5066]], device='cuda:0')\n",
      "tensor([[0.4716]], device='cuda:0')\n",
      "tensor([[0.4667]], device='cuda:0')\n",
      "tensor([[0.4776]], device='cuda:0')\n",
      "tensor([[0.4695]], device='cuda:0')\n",
      "tensor([[0.4752]], device='cuda:0')\n",
      "tensor([[0.4666]], device='cuda:0')\n",
      "tensor([[0.4657]], device='cuda:0')\n",
      "tensor([[0.4783]], device='cuda:0')\n"
     ]
    },
    {
     "name": "stderr",
     "output_type": "stream",
     "text": [
      "Eval Dev Sentiment:  91%|█████████ | 1001/1101 [00:17<00:01, 55.65it/s]"
     ]
    },
    {
     "name": "stdout",
     "output_type": "stream",
     "text": [
      "tensor([[0.4614]], device='cuda:0')\n",
      "tensor([[0.4822]], device='cuda:0')\n",
      "tensor([[0.4697]], device='cuda:0')\n",
      "tensor([[0.4733]], device='cuda:0')\n",
      "tensor([[0.4837]], device='cuda:0')\n",
      "tensor([[0.5173]], device='cuda:0')\n",
      "tensor([[0.4524]], device='cuda:0')\n",
      "tensor([[0.4605]], device='cuda:0')\n",
      "tensor([[0.4682]], device='cuda:0')\n",
      "tensor([[0.4923]], device='cuda:0')\n",
      "tensor([[0.4617]], device='cuda:0')\n",
      "tensor([[0.5615]], device='cuda:0')\n"
     ]
    },
    {
     "name": "stderr",
     "output_type": "stream",
     "text": [
      "Eval Dev Sentiment:  92%|█████████▏| 1013/1101 [00:17<00:01, 54.60it/s]"
     ]
    },
    {
     "name": "stdout",
     "output_type": "stream",
     "text": [
      "tensor([[0.4689]], device='cuda:0')\n",
      "tensor([[0.5381]], device='cuda:0')\n",
      "tensor([[0.4674]], device='cuda:0')\n",
      "tensor([[0.4699]], device='cuda:0')\n",
      "tensor([[0.4559]], device='cuda:0')\n",
      "tensor([[0.4714]], device='cuda:0')\n",
      "tensor([[0.4876]], device='cuda:0')\n",
      "tensor([[0.4869]], device='cuda:0')\n",
      "tensor([[0.4662]], device='cuda:0')\n",
      "tensor([[0.4844]], device='cuda:0')\n",
      "tensor([[0.4755]], device='cuda:0')\n"
     ]
    },
    {
     "name": "stderr",
     "output_type": "stream",
     "text": [
      "Eval Dev Sentiment:  93%|█████████▎| 1026/1101 [00:18<00:01, 56.84it/s]"
     ]
    },
    {
     "name": "stdout",
     "output_type": "stream",
     "text": [
      "tensor([[0.4654]], device='cuda:0')\n",
      "tensor([[0.4759]], device='cuda:0')\n",
      "tensor([[0.4681]], device='cuda:0')\n",
      "tensor([[0.4845]], device='cuda:0')\n",
      "tensor([[0.4642]], device='cuda:0')\n",
      "tensor([[0.4755]], device='cuda:0')\n",
      "tensor([[0.4718]], device='cuda:0')\n",
      "tensor([[0.4633]], device='cuda:0')\n",
      "tensor([[0.4541]], device='cuda:0')\n",
      "tensor([[0.4841]], device='cuda:0')\n",
      "tensor([[0.4626]], device='cuda:0')\n",
      "tensor([[0.4565]], device='cuda:0')\n",
      "tensor([[0.4838]], device='cuda:0')\n"
     ]
    },
    {
     "name": "stderr",
     "output_type": "stream",
     "text": [
      "Eval Dev Sentiment:  94%|█████████▍| 1039/1101 [00:18<00:01, 57.65it/s]"
     ]
    },
    {
     "name": "stdout",
     "output_type": "stream",
     "text": [
      "tensor([[0.4691]], device='cuda:0')\n",
      "tensor([[0.4565]], device='cuda:0')\n",
      "tensor([[0.4809]], device='cuda:0')\n",
      "tensor([[0.5261]], device='cuda:0')\n",
      "tensor([[0.4673]], device='cuda:0')\n",
      "tensor([[0.4689]], device='cuda:0')\n",
      "tensor([[0.4698]], device='cuda:0')\n",
      "tensor([[0.4555]], device='cuda:0')\n",
      "tensor([[0.4652]], device='cuda:0')\n",
      "tensor([[0.4676]], device='cuda:0')\n",
      "tensor([[0.4758]], device='cuda:0')\n",
      "tensor([[0.6008]], device='cuda:0')\n",
      "tensor([[0.4599]], device='cuda:0')\n"
     ]
    },
    {
     "name": "stderr",
     "output_type": "stream",
     "text": [
      "Eval Dev Sentiment:  95%|█████████▌| 1051/1101 [00:18<00:00, 57.94it/s]"
     ]
    },
    {
     "name": "stdout",
     "output_type": "stream",
     "text": [
      "tensor([[0.4628]], device='cuda:0')\n",
      "tensor([[0.5080]], device='cuda:0')\n",
      "tensor([[0.4967]], device='cuda:0')\n",
      "tensor([[0.4662]], device='cuda:0')\n",
      "tensor([[0.4610]], device='cuda:0')\n",
      "tensor([[0.4647]], device='cuda:0')\n",
      "tensor([[0.4565]], device='cuda:0')\n",
      "tensor([[0.4889]], device='cuda:0')\n",
      "tensor([[0.5624]], device='cuda:0')\n",
      "tensor([[0.4700]], device='cuda:0')\n",
      "tensor([[0.4722]], device='cuda:0')\n",
      "tensor([[0.4692]], device='cuda:0')\n"
     ]
    },
    {
     "name": "stderr",
     "output_type": "stream",
     "text": [
      "Eval Dev Sentiment:  97%|█████████▋| 1063/1101 [00:18<00:00, 57.39it/s]"
     ]
    },
    {
     "name": "stdout",
     "output_type": "stream",
     "text": [
      "tensor([[0.4591]], device='cuda:0')\n",
      "tensor([[0.4768]], device='cuda:0')\n",
      "tensor([[0.4642]], device='cuda:0')\n",
      "tensor([[0.4681]], device='cuda:0')\n",
      "tensor([[0.4616]], device='cuda:0')\n",
      "tensor([[0.4657]], device='cuda:0')\n",
      "tensor([[0.5153]], device='cuda:0')\n",
      "tensor([[0.5643]], device='cuda:0')\n",
      "tensor([[0.4607]], device='cuda:0')\n",
      "tensor([[0.5700]], device='cuda:0')\n",
      "tensor([[0.4691]], device='cuda:0')\n",
      "tensor([[0.4870]], device='cuda:0')\n"
     ]
    },
    {
     "name": "stderr",
     "output_type": "stream",
     "text": [
      "Eval Dev Sentiment:  98%|█████████▊| 1076/1101 [00:18<00:00, 58.19it/s]"
     ]
    },
    {
     "name": "stdout",
     "output_type": "stream",
     "text": [
      "tensor([[0.4771]], device='cuda:0')\n",
      "tensor([[0.4683]], device='cuda:0')\n",
      "tensor([[0.4644]], device='cuda:0')\n",
      "tensor([[0.5112]], device='cuda:0')\n",
      "tensor([[0.5191]], device='cuda:0')\n",
      "tensor([[0.4609]], device='cuda:0')\n",
      "tensor([[0.4672]], device='cuda:0')\n",
      "tensor([[0.4617]], device='cuda:0')\n",
      "tensor([[0.4737]], device='cuda:0')\n",
      "tensor([[0.4673]], device='cuda:0')\n",
      "tensor([[0.4828]], device='cuda:0')\n",
      "tensor([[0.4678]], device='cuda:0')\n"
     ]
    },
    {
     "name": "stderr",
     "output_type": "stream",
     "text": [
      "\r",
      "Eval Dev Sentiment:  98%|█████████▊| 1083/1101 [00:19<00:00, 59.40it/s]"
     ]
    },
    {
     "name": "stdout",
     "output_type": "stream",
     "text": [
      "tensor([[0.4609]], device='cuda:0')\n",
      "tensor([[0.4683]], device='cuda:0')\n",
      "tensor([[0.4682]], device='cuda:0')\n",
      "tensor([[0.4626]], device='cuda:0')\n",
      "tensor([[0.4762]], device='cuda:0')\n",
      "tensor([[0.5480]], device='cuda:0')\n",
      "tensor([[0.5765]], device='cuda:0')\n",
      "tensor([[0.5111]], device='cuda:0')\n",
      "tensor([[0.5293]], device='cuda:0')\n",
      "tensor([[0.4807]], device='cuda:0')\n",
      "tensor([[0.4465]], device='cuda:0')\n",
      "tensor([[0.4707]], device='cuda:0')\n"
     ]
    },
    {
     "name": "stderr",
     "output_type": "stream",
     "text": [
      "Eval Dev Sentiment: 100%|█████████▉| 1096/1101 [00:19<00:00, 58.38it/s]"
     ]
    },
    {
     "name": "stdout",
     "output_type": "stream",
     "text": [
      "tensor([[0.4797]], device='cuda:0')\n",
      "tensor([[0.4618]], device='cuda:0')\n",
      "tensor([[0.4723]], device='cuda:0')\n",
      "tensor([[0.5783]], device='cuda:0')\n",
      "tensor([[0.4715]], device='cuda:0')\n",
      "tensor([[0.4696]], device='cuda:0')\n",
      "tensor([[0.4611]], device='cuda:0')\n",
      "tensor([[0.4803]], device='cuda:0')\n",
      "tensor([[0.4760]], device='cuda:0')\n",
      "tensor([[0.4730]], device='cuda:0')\n",
      "tensor([[0.5222]], device='cuda:0')\n",
      "tensor([[0.4703]], device='cuda:0')\n"
     ]
    },
    {
     "name": "stderr",
     "output_type": "stream",
     "text": [
      "\r",
      "Eval Dev Sentiment: 100%|██████████| 1101/1101 [00:19<00:00, 56.97it/s]"
     ]
    },
    {
     "name": "stdout",
     "output_type": "stream",
     "text": [
      "tensor([[0.4660]], device='cuda:0')\n"
     ]
    },
    {
     "name": "stderr",
     "output_type": "stream",
     "text": [
      "\n"
     ]
    }
   ],
   "source": [
    "sigmoid = torch.nn.Sigmoid()\n",
    "for line in tqdm(dev_sentiment, desc='Eval Dev Sentiment'):\n",
    "    _, tokens_tensor, segments_tensors = eval_probes_on_dataset.prepare_sentence_for_bert(line, tokenizer)\n",
    "\n",
    "    device = yaml_args['device']\n",
    "    tokens_tensor = tokens_tensor.to(device)\n",
    "    segments_tensors = segments_tensors.to(device)\n",
    "    with torch.no_grad():\n",
    "        logits, encoded_layers = model(tokens_tensor, segments_tensors)\n",
    "        probs = sigmoid(logits)\n",
    "        print(probs)"
   ]
  },
  {
   "cell_type": "code",
   "execution_count": 8,
   "metadata": {},
   "outputs": [],
   "source": [
    "def earliest_root(a, b):\n",
    "    for i in range(min(len(a), len(b))):\n",
    "        if a[i] != b[i]:\n",
    "            return i\n",
    "    return -1\n",
    "\n",
    "def get_adj_matrix(cur_tree):\n",
    "    num_words = len(cur_tree.leaves())\n",
    "    all_paths = [cur_tree.leaf_treeposition(i) for i in range(num_words)]\n",
    "    matrix = [[0] * num_words for _ in range(num_words)]\n",
    "\n",
    "    for a_idx, a in enumerate(all_paths):\n",
    "        for b_idx, b in enumerate(all_paths):\n",
    "            if a_idx < b_idx:\n",
    "                root = earliest_root(a, b)\n",
    "                matrix[a_idx][b_idx] = len(a) + len(b) - 2 * root\n",
    "                matrix[b_idx][a_idx] = len(a) + len(b) - 2 * root\n",
    "    return matrix"
   ]
  },
  {
   "cell_type": "code",
   "execution_count": 9,
   "metadata": {},
   "outputs": [
    {
     "name": "stderr",
     "output_type": "stream",
     "text": [
      "[uuas,tikz]: 1101it [00:01, 628.10it/s]"
     ]
    },
    {
     "name": "stdout",
     "output_type": "stream",
     "text": [
      "0.278865893580425\n"
     ]
    },
    {
     "name": "stderr",
     "output_type": "stream",
     "text": [
      "\n"
     ]
    }
   ],
   "source": [
    "def report_uuas(predicted_edges, trees, split_name):\n",
    "    uspan_total = 0\n",
    "    uspan_correct = 0\n",
    "    total_sents = 0\n",
    "    for predicted_edge, gt_tree in tqdm(zip(predicted_edges, trees), desc='[uuas,tikz]'):\n",
    "        words = gt_tree.leaves()\n",
    "        poses = gt_tree.leaves()\n",
    "        gold_edges = get_adj_matrix(gt_tree)\n",
    "        gold_edges = prims_matrix_to_edges(gold_edges, words, poses)\n",
    "        pred_edges = predicted_edge\n",
    "\n",
    "        gold_span = set([tuple(sorted(x)) for x in gold_edges])\n",
    "        pred_span = set([tuple(sorted(x)) for x in pred_edges])\n",
    "        uspan_correct += len(gold_span.intersection(pred_span))\n",
    "        uspan_total += len(gold_edges)\n",
    "        total_sents += 1\n",
    "\n",
    "    uuas = uspan_correct / float(uspan_total)\n",
    "    return uuas\n",
    "\n",
    "uuas_score = report_uuas(predicted_edges, gt_dev_trees, 'dev')\n",
    "print(uuas_score)"
   ]
  },
  {
   "cell_type": "code",
   "execution_count": 10,
   "metadata": {},
   "outputs": [
    {
     "ename": "SyntaxError",
     "evalue": "unexpected EOF while parsing (<ipython-input-10-e7d3484c8d5a>, line 2)",
     "output_type": "error",
     "traceback": [
      "\u001b[0;36m  File \u001b[0;32m\"<ipython-input-10-e7d3484c8d5a>\"\u001b[0;36m, line \u001b[0;32m2\u001b[0m\n\u001b[0;31m    \u001b[0m\n\u001b[0m    ^\u001b[0m\n\u001b[0;31mSyntaxError\u001b[0m\u001b[0;31m:\u001b[0m unexpected EOF while parsing\n"
     ]
    }
   ],
   "source": [
    "def get_sentiments():\n",
    "    "
   ]
  },
  {
   "cell_type": "code",
   "execution_count": null,
   "metadata": {},
   "outputs": [],
   "source": [
    "%%notify \"result\"\n",
    "result = f\"Finished SST: {uuas_score:.4f}\"\n",
    "print(result)"
   ]
  },
  {
   "cell_type": "code",
   "execution_count": null,
   "metadata": {},
   "outputs": [],
   "source": []
  }
 ],
 "metadata": {
  "kernelspec": {
   "display_name": "data-mining",
   "language": "python",
   "name": "data-mining"
  },
  "language_info": {
   "codemirror_mode": {
    "name": "ipython",
    "version": 3
   },
   "file_extension": ".py",
   "mimetype": "text/x-python",
   "name": "python",
   "nbconvert_exporter": "python",
   "pygments_lexer": "ipython3",
   "version": "3.6.10"
  }
 },
 "nbformat": 4,
 "nbformat_minor": 4
}
