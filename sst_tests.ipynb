{
 "cells": [
  {
   "cell_type": "code",
   "execution_count": 1,
   "metadata": {},
   "outputs": [
    {
     "name": "stderr",
     "output_type": "stream",
     "text": [
      "/home/mli/anaconda3/envs/data-mining/lib/python3.6/site-packages/jupyter_slack/jupyter_slack.py:18: UserWarning: Either $SLACK_WEBHOOK_URL must be set (see https://api.slack.com/messaging/webhooks) or both $SLACK_TOKEN and $SLACK_ID must be set (see https://api.slack.com/custom-integrations/legacy-tokens). All notifications will be noops under the current setting.\n",
      "  \"Either $SLACK_WEBHOOK_URL must be set \"\n"
     ]
    }
   ],
   "source": [
    "import sys\n",
    "sys.path.append('structural-probes')\n",
    "sys.path.append('finetuning')\n",
    "from pathlib import Path\n",
    "\n",
    "from run_experiment import setup_new_experiment_dir, execute_experiment\n",
    "import yaml\n",
    "import torch\n",
    "import pandas as pd\n",
    "import eval_probes_on_dataset\n",
    "import jupyter_slack\n",
    "\n",
    "from transformers import BertConfig, BertTokenizer, BertForSequenceClassification"
   ]
  },
  {
   "cell_type": "code",
   "execution_count": 2,
   "metadata": {},
   "outputs": [
    {
     "name": "stdout",
     "output_type": "stream",
     "text": [
      "Constructing new results directory at results/BERT-disk-parse-distance-2020-5-12-13-34-35-861228/\n"
     ]
    },
    {
     "name": "stderr",
     "output_type": "stream",
     "text": [
      "/home/mli/anaconda3/envs/data-mining/lib/python3.6/site-packages/ipykernel_launcher.py:16: YAMLLoadWarning: calling yaml.load() without Loader=... is deprecated, as the default Loader is unsafe. Please read https://msg.pyyaml.org/load for full details.\n",
      "  app.launch_new_instance()\n"
     ]
    }
   ],
   "source": [
    "def setup_args_and_folder(): \n",
    "    CONFIG_FILE = 'example/config/bert_ptb3.yaml'\n",
    "    EXPERIMENT_NAME = ''\n",
    "    SEED = 123\n",
    "\n",
    "    class Object(object):\n",
    "        pass\n",
    "\n",
    "    cli_args = Object()\n",
    "    cli_args.experiment_config = CONFIG_FILE\n",
    "    cli_args.results_dir = EXPERIMENT_NAME\n",
    "    cli_args.train_probe = -1\n",
    "    cli_args.report_results = 1\n",
    "    cli_args.seed = SEED\n",
    "\n",
    "    yaml_args = yaml.load(open(cli_args.experiment_config))\n",
    "    setup_new_experiment_dir(cli_args, yaml_args, cli_args.results_dir)\n",
    "\n",
    "    device = torch.device(\"cuda:0\" if torch.cuda.is_available() else \"cpu\")\n",
    "    yaml_args['device'] = device\n",
    "    yaml_args['model_type'] = 'large'\n",
    "    return yaml_args\n",
    "\n",
    "yaml_args = setup_args_and_folder()"
   ]
  },
  {
   "cell_type": "markdown",
   "metadata": {},
   "source": [
    "# Requirements before running this code\n",
    "- Corpus (conllx, for BERT)\n",
    "    - Run `convert_splits_to_depparse.sh` (to get .conllx format)\n",
    "    - Run `convert_conll_to_raw.py` (to get into raw text) \n",
    "- BERT-layer embeddings (.bert-layers.hdf5)\n",
    "    - Run `convert_raw_to_bert.py` (Uses BERT to create bert-embeddings for ALL layers)\n",
    "- Depth & Distance Params Path\n",
    "    - Pretrained from data\n",
    "- Ground Truths\n",
    "    - Trees\n",
    "        - Run Stanford CoreNLP's `ReadSentimentDataset` to get the ground truth trees\n",
    "    - Sentiment\n",
    "        - Run `apply_splits.py` to average all phrases' sentiments in the sentences"
   ]
  },
  {
   "cell_type": "markdown",
   "metadata": {},
   "source": [
    "# Notes for generating the Tree data for SST\n",
    "- This is for reading in the Ground Truth trees that is already given to us in SST\n",
    "- We'll use Stanford's CoreNLP tools\n",
    "- Run the ReadSentimentDataset `java -mx4g edu.stanford.nlp.sentiment.ReadSentimentDataset -inputDir data/SST-2/original -outputDir tmp/`\n",
    "  - The ground truth already does subword partitions, so need to account for that"
   ]
  },
  {
   "cell_type": "code",
   "execution_count": 3,
   "metadata": {},
   "outputs": [],
   "source": [
    "from nltk.tree import Tree\n",
    "\n",
    "from reporter import WordPairReporter, WordReporter, prims_matrix_to_edges\n",
    "from tqdm import tqdm\n",
    "import copy"
   ]
  },
  {
   "cell_type": "code",
   "execution_count": 4,
   "metadata": {},
   "outputs": [],
   "source": [
    "def read_trees(path):\n",
    "    with open(path) as f:\n",
    "        tree_lines = f.readlines()\n",
    "        \n",
    "    trees = [Tree.fromstring(treeline) for treeline in tree_lines]\n",
    "    return trees\n",
    "\n",
    "def read_sentiment_sentences(path):\n",
    "    with open(path) as f:\n",
    "        all_sentences = f.readlines()\n",
    "        \n",
    "        sentences, labels = [], []\n",
    "        for pair in all_sentences:\n",
    "            sentence, label = pair.split('\\t')\n",
    "            sentences.append(sentence)\n",
    "            labels.append(label)\n",
    "        return sentences, labels"
   ]
  },
  {
   "cell_type": "code",
   "execution_count": 5,
   "metadata": {},
   "outputs": [],
   "source": [
    "data_base = Path('../../../data/SST-2')\n",
    "\n",
    "train_path = data_base / 'sentence_splits' / 'train.tsv'\n",
    "dev_path = data_base / 'sentence_splits' / 'dev.tsv'\n",
    "\n",
    "# read in SST dataset\n",
    "sst_trees_base = data_base / 'tree_format/'\n",
    "gt_tree_train_path = sst_trees_base / 'train.txt'\n",
    "gt_tree_dev_path = sst_trees_base / 'dev.txt'\n",
    "\n",
    "train_sentiment, train_labels = read_sentiment_sentences(train_path)\n",
    "dev_sentiment, dev_labels = read_sentiment_sentences(dev_path)\n",
    "\n",
    "# Read into NTLK Trees\n",
    "gt_train_trees = read_trees(gt_tree_train_path)\n",
    "gt_dev_trees = read_trees(gt_tree_dev_path)"
   ]
  },
  {
   "cell_type": "code",
   "execution_count": 6,
   "metadata": {
    "scrolled": true
   },
   "outputs": [
    {
     "name": "stderr",
     "output_type": "stream",
     "text": [
      "INFO:transformers.configuration_utils:loading configuration file best_models/regression_training_pt2/config.json\n",
      "INFO:transformers.configuration_utils:Model config BertConfig {\n",
      "  \"_num_labels\": 1,\n",
      "  \"architectures\": [\n",
      "    \"BertForSequenceClassification\"\n",
      "  ],\n",
      "  \"attention_probs_dropout_prob\": 0.1,\n",
      "  \"bad_words_ids\": null,\n",
      "  \"bos_token_id\": null,\n",
      "  \"decoder_start_token_id\": null,\n",
      "  \"directionality\": \"bidi\",\n",
      "  \"do_sample\": false,\n",
      "  \"early_stopping\": false,\n",
      "  \"eos_token_id\": null,\n",
      "  \"finetuning_task\": null,\n",
      "  \"hidden_act\": \"gelu\",\n",
      "  \"hidden_dropout_prob\": 0.1,\n",
      "  \"hidden_size\": 1024,\n",
      "  \"id2label\": {\n",
      "    \"0\": \"LABEL_0\"\n",
      "  },\n",
      "  \"initializer_range\": 0.02,\n",
      "  \"intermediate_size\": 4096,\n",
      "  \"is_decoder\": false,\n",
      "  \"is_encoder_decoder\": false,\n",
      "  \"label2id\": {\n",
      "    \"LABEL_0\": 0\n",
      "  },\n",
      "  \"layer_norm_eps\": 1e-12,\n",
      "  \"length_penalty\": 1.0,\n",
      "  \"max_length\": 20,\n",
      "  \"max_position_embeddings\": 512,\n",
      "  \"min_length\": 0,\n",
      "  \"model_type\": \"bert\",\n",
      "  \"no_repeat_ngram_size\": 0,\n",
      "  \"num_attention_heads\": 16,\n",
      "  \"num_beams\": 1,\n",
      "  \"num_hidden_layers\": 24,\n",
      "  \"num_return_sequences\": 1,\n",
      "  \"output_attentions\": false,\n",
      "  \"output_hidden_states\": true,\n",
      "  \"output_past\": true,\n",
      "  \"pad_token_id\": 0,\n",
      "  \"pooler_fc_size\": 768,\n",
      "  \"pooler_num_attention_heads\": 12,\n",
      "  \"pooler_num_fc_layers\": 3,\n",
      "  \"pooler_size_per_head\": 128,\n",
      "  \"pooler_type\": \"first_token_transform\",\n",
      "  \"prefix\": null,\n",
      "  \"pruned_heads\": {},\n",
      "  \"repetition_penalty\": 1.0,\n",
      "  \"task_specific_params\": null,\n",
      "  \"temperature\": 1.0,\n",
      "  \"top_k\": 50,\n",
      "  \"top_p\": 1.0,\n",
      "  \"torchscript\": false,\n",
      "  \"type_vocab_size\": 2,\n",
      "  \"use_bfloat16\": false,\n",
      "  \"vocab_size\": 28996\n",
      "}\n",
      "\n",
      "INFO:transformers.modeling_utils:loading weights file best_models/regression_training_pt2/pytorch_model.bin\n",
      "INFO:transformers.tokenization_utils:loading file https://s3.amazonaws.com/models.huggingface.co/bert/bert-base-cased-vocab.txt from cache at /home/mli/.cache/torch/transformers/5e8a2b4893d13790ed4150ca1906be5f7a03d6c4ddf62296c383f6db42814db2.e13dbb970cb325137104fb2e5f36fe865f27746c6b526f6352861b1980eb80b1\n"
     ]
    }
   ],
   "source": [
    "from finetune_bert_module import SST_Test\n",
    "\n",
    "model = BertForSequenceClassification.from_pretrained('best_models/regression_training_pt2')\n",
    "model = model.to(yaml_args['device'])\n",
    "model.eval()\n",
    "\n",
    "tokenizer = BertTokenizer.from_pretrained('bert-base-cased')"
   ]
  },
  {
   "cell_type": "code",
   "execution_count": 7,
   "metadata": {},
   "outputs": [
    {
     "name": "stderr",
     "output_type": "stream",
     "text": [
      "\r",
      "[demoing]: 0it [00:00, ?it/s]"
     ]
    },
    {
     "name": "stdout",
     "output_type": "stream",
     "text": [
      "Constructing TwoWordPSDProbe\n",
      "Constructing OneWordPSDProbe\n"
     ]
    },
    {
     "name": "stderr",
     "output_type": "stream",
     "text": [
      "[demoing]: 1101it [00:28, 38.62it/s]\n"
     ]
    }
   ],
   "source": [
    "# Calculate distance between the two trees\n",
    "# one tree's format is from structural probes\n",
    "# other tree's format is from the dataset (gt_*_trees)\n",
    "# import importlib\n",
    "# importlib.reload(eval_probes_on_dataset)\n",
    "\n",
    "word_dists, word_depths, predicted_edges = eval_probes_on_dataset.use_probes(yaml_args, dev_sentiment, model, tokenizer)"
   ]
  },
  {
   "cell_type": "code",
   "execution_count": 13,
   "metadata": {},
   "outputs": [
    {
     "name": "stderr",
     "output_type": "stream",
     "text": [
      "Eval Dev Sentiment: 8it [00:00, 34.90it/s]"
     ]
    },
    {
     "name": "stdout",
     "output_type": "stream",
     "text": [
      "tensor([[0.0067]], device='cuda:0')\n",
      "tensor([[0.0085]], device='cuda:0')\n",
      "tensor([[0.0088]], device='cuda:0')\n",
      "tensor([[0.0054]], device='cuda:0')\n",
      "tensor([[0.0046]], device='cuda:0')\n",
      "tensor([[0.0090]], device='cuda:0')\n",
      "tensor([[0.0058]], device='cuda:0')\n",
      "tensor([[0.0064]], device='cuda:0')\n"
     ]
    },
    {
     "name": "stderr",
     "output_type": "stream",
     "text": [
      "Eval Dev Sentiment: 16it [00:00, 37.06it/s]"
     ]
    },
    {
     "name": "stdout",
     "output_type": "stream",
     "text": [
      "tensor([[0.0072]], device='cuda:0')\n",
      "tensor([[0.0105]], device='cuda:0')\n",
      "tensor([[0.0055]], device='cuda:0')\n",
      "tensor([[0.0382]], device='cuda:0')\n",
      "tensor([[0.0205]], device='cuda:0')\n",
      "tensor([[0.0085]], device='cuda:0')\n",
      "tensor([[0.0054]], device='cuda:0')\n",
      "tensor([[0.0042]], device='cuda:0')\n"
     ]
    },
    {
     "name": "stderr",
     "output_type": "stream",
     "text": [
      "Eval Dev Sentiment: 24it [00:00, 38.34it/s]"
     ]
    },
    {
     "name": "stdout",
     "output_type": "stream",
     "text": [
      "tensor([[0.0342]], device='cuda:0')\n",
      "tensor([[0.0086]], device='cuda:0')\n",
      "tensor([[0.0095]], device='cuda:0')\n",
      "tensor([[0.0041]], device='cuda:0')\n",
      "tensor([[0.0262]], device='cuda:0')\n",
      "tensor([[0.0048]], device='cuda:0')\n",
      "tensor([[0.0124]], device='cuda:0')\n",
      "tensor([[0.0127]], device='cuda:0')\n"
     ]
    },
    {
     "name": "stderr",
     "output_type": "stream",
     "text": [
      "Eval Dev Sentiment: 32it [00:00, 39.04it/s]"
     ]
    },
    {
     "name": "stdout",
     "output_type": "stream",
     "text": [
      "tensor([[0.0065]], device='cuda:0')\n",
      "tensor([[0.0055]], device='cuda:0')\n",
      "tensor([[0.0258]], device='cuda:0')\n",
      "tensor([[0.0044]], device='cuda:0')\n",
      "tensor([[0.0042]], device='cuda:0')\n",
      "tensor([[0.0051]], device='cuda:0')\n",
      "tensor([[0.0065]], device='cuda:0')\n",
      "tensor([[0.0114]], device='cuda:0')\n"
     ]
    },
    {
     "name": "stderr",
     "output_type": "stream",
     "text": [
      "Eval Dev Sentiment: 40it [00:01, 39.42it/s]"
     ]
    },
    {
     "name": "stdout",
     "output_type": "stream",
     "text": [
      "tensor([[0.0081]], device='cuda:0')\n",
      "tensor([[0.0189]], device='cuda:0')\n",
      "tensor([[0.0937]], device='cuda:0')\n",
      "tensor([[0.0070]], device='cuda:0')\n",
      "tensor([[0.0056]], device='cuda:0')\n",
      "tensor([[0.0054]], device='cuda:0')\n",
      "tensor([[0.0057]], device='cuda:0')\n",
      "tensor([[0.0139]], device='cuda:0')\n"
     ]
    },
    {
     "name": "stderr",
     "output_type": "stream",
     "text": [
      "Eval Dev Sentiment: 48it [00:01, 39.19it/s]"
     ]
    },
    {
     "name": "stdout",
     "output_type": "stream",
     "text": [
      "tensor([[0.0074]], device='cuda:0')\n",
      "tensor([[0.0057]], device='cuda:0')\n",
      "tensor([[0.0266]], device='cuda:0')\n",
      "tensor([[0.0063]], device='cuda:0')\n",
      "tensor([[0.0082]], device='cuda:0')\n",
      "tensor([[0.0041]], device='cuda:0')\n",
      "tensor([[0.0055]], device='cuda:0')\n",
      "tensor([[0.0079]], device='cuda:0')\n"
     ]
    },
    {
     "name": "stderr",
     "output_type": "stream",
     "text": [
      "Eval Dev Sentiment: 56it [00:01, 39.45it/s]"
     ]
    },
    {
     "name": "stdout",
     "output_type": "stream",
     "text": [
      "tensor([[0.0062]], device='cuda:0')\n",
      "tensor([[0.0042]], device='cuda:0')\n",
      "tensor([[0.0104]], device='cuda:0')\n",
      "tensor([[0.0039]], device='cuda:0')\n",
      "tensor([[0.0049]], device='cuda:0')\n",
      "tensor([[0.0042]], device='cuda:0')\n",
      "tensor([[0.0217]], device='cuda:0')\n",
      "tensor([[0.0052]], device='cuda:0')\n"
     ]
    },
    {
     "name": "stderr",
     "output_type": "stream",
     "text": [
      "Eval Dev Sentiment: 64it [00:01, 39.64it/s]"
     ]
    },
    {
     "name": "stdout",
     "output_type": "stream",
     "text": [
      "tensor([[0.0047]], device='cuda:0')\n",
      "tensor([[0.0108]], device='cuda:0')\n",
      "tensor([[0.0062]], device='cuda:0')\n",
      "tensor([[0.0045]], device='cuda:0')\n",
      "tensor([[0.0093]], device='cuda:0')\n",
      "tensor([[0.0079]], device='cuda:0')\n",
      "tensor([[0.0058]], device='cuda:0')\n",
      "tensor([[0.0112]], device='cuda:0')\n"
     ]
    },
    {
     "name": "stderr",
     "output_type": "stream",
     "text": [
      "Eval Dev Sentiment: 72it [00:01, 39.77it/s]"
     ]
    },
    {
     "name": "stdout",
     "output_type": "stream",
     "text": [
      "tensor([[0.0052]], device='cuda:0')\n",
      "tensor([[0.0042]], device='cuda:0')\n",
      "tensor([[0.0045]], device='cuda:0')\n",
      "tensor([[0.0116]], device='cuda:0')\n",
      "tensor([[0.0097]], device='cuda:0')\n",
      "tensor([[0.1164]], device='cuda:0')\n",
      "tensor([[0.0081]], device='cuda:0')\n",
      "tensor([[0.0109]], device='cuda:0')\n",
      "tensor([[0.0055]], device='cuda:0')\n"
     ]
    },
    {
     "name": "stderr",
     "output_type": "stream",
     "text": [
      "Eval Dev Sentiment: 80it [00:02, 39.77it/s]"
     ]
    },
    {
     "name": "stdout",
     "output_type": "stream",
     "text": [
      "tensor([[0.0044]], device='cuda:0')\n",
      "tensor([[0.0054]], device='cuda:0')\n",
      "tensor([[0.0098]], device='cuda:0')\n",
      "tensor([[0.0040]], device='cuda:0')\n",
      "tensor([[0.0083]], device='cuda:0')\n",
      "tensor([[0.0045]], device='cuda:0')\n",
      "tensor([[0.0045]], device='cuda:0')\n",
      "tensor([[0.0039]], device='cuda:0')\n",
      "tensor([[0.0191]], device='cuda:0')\n"
     ]
    },
    {
     "name": "stderr",
     "output_type": "stream",
     "text": [
      "Eval Dev Sentiment: 88it [00:02, 39.76it/s]"
     ]
    },
    {
     "name": "stdout",
     "output_type": "stream",
     "text": [
      "tensor([[0.0069]], device='cuda:0')\n",
      "tensor([[0.0083]], device='cuda:0')\n",
      "tensor([[0.0048]], device='cuda:0')\n",
      "tensor([[0.0064]], device='cuda:0')\n",
      "tensor([[0.0048]], device='cuda:0')\n",
      "tensor([[0.0051]], device='cuda:0')\n",
      "tensor([[0.0052]], device='cuda:0')\n",
      "tensor([[0.0062]], device='cuda:0')\n",
      "tensor([[0.0046]], device='cuda:0')\n"
     ]
    },
    {
     "name": "stderr",
     "output_type": "stream",
     "text": [
      "Eval Dev Sentiment: 96it [00:02, 39.78it/s]"
     ]
    },
    {
     "name": "stdout",
     "output_type": "stream",
     "text": [
      "tensor([[0.0088]], device='cuda:0')\n",
      "tensor([[0.0048]], device='cuda:0')\n",
      "tensor([[0.0047]], device='cuda:0')\n",
      "tensor([[0.1980]], device='cuda:0')\n",
      "tensor([[0.0144]], device='cuda:0')\n",
      "tensor([[0.0053]], device='cuda:0')\n",
      "tensor([[0.0081]], device='cuda:0')\n",
      "tensor([[0.0039]], device='cuda:0')\n",
      "tensor([[0.0040]], device='cuda:0')\n"
     ]
    },
    {
     "name": "stderr",
     "output_type": "stream",
     "text": [
      "Eval Dev Sentiment: 108it [00:02, 39.75it/s]"
     ]
    },
    {
     "name": "stdout",
     "output_type": "stream",
     "text": [
      "tensor([[0.1011]], device='cuda:0')\n",
      "tensor([[0.0554]], device='cuda:0')\n",
      "tensor([[0.0041]], device='cuda:0')\n",
      "tensor([[0.0188]], device='cuda:0')\n",
      "tensor([[0.0075]], device='cuda:0')\n",
      "tensor([[0.0578]], device='cuda:0')\n",
      "tensor([[0.0093]], device='cuda:0')\n",
      "tensor([[0.0201]], device='cuda:0')\n"
     ]
    },
    {
     "name": "stderr",
     "output_type": "stream",
     "text": [
      "Eval Dev Sentiment: 116it [00:02, 39.76it/s]"
     ]
    },
    {
     "name": "stdout",
     "output_type": "stream",
     "text": [
      "tensor([[0.0124]], device='cuda:0')\n",
      "tensor([[0.0055]], device='cuda:0')\n",
      "tensor([[0.0059]], device='cuda:0')\n",
      "tensor([[0.0072]], device='cuda:0')\n",
      "tensor([[0.0044]], device='cuda:0')\n",
      "tensor([[0.0065]], device='cuda:0')\n",
      "tensor([[0.0087]], device='cuda:0')\n",
      "tensor([[0.0077]], device='cuda:0')\n"
     ]
    },
    {
     "name": "stderr",
     "output_type": "stream",
     "text": [
      "Eval Dev Sentiment: 124it [00:03, 39.81it/s]"
     ]
    },
    {
     "name": "stdout",
     "output_type": "stream",
     "text": [
      "tensor([[0.0053]], device='cuda:0')\n",
      "tensor([[0.0097]], device='cuda:0')\n",
      "tensor([[0.0068]], device='cuda:0')\n",
      "tensor([[0.0062]], device='cuda:0')\n",
      "tensor([[0.0113]], device='cuda:0')\n",
      "tensor([[0.0046]], device='cuda:0')\n",
      "tensor([[0.0059]], device='cuda:0')\n",
      "tensor([[0.0115]], device='cuda:0')\n",
      "tensor([[0.0070]], device='cuda:0')\n"
     ]
    },
    {
     "name": "stderr",
     "output_type": "stream",
     "text": [
      "Eval Dev Sentiment: 132it [00:03, 39.81it/s]"
     ]
    },
    {
     "name": "stdout",
     "output_type": "stream",
     "text": [
      "tensor([[0.0047]], device='cuda:0')\n",
      "tensor([[0.0794]], device='cuda:0')\n",
      "tensor([[0.0045]], device='cuda:0')\n",
      "tensor([[0.0083]], device='cuda:0')\n",
      "tensor([[0.0241]], device='cuda:0')\n",
      "tensor([[0.0058]], device='cuda:0')\n",
      "tensor([[0.0107]], device='cuda:0')\n",
      "tensor([[0.0041]], device='cuda:0')\n",
      "tensor([[0.0089]], device='cuda:0')\n"
     ]
    },
    {
     "name": "stderr",
     "output_type": "stream",
     "text": [
      "Eval Dev Sentiment: 140it [00:03, 39.78it/s]"
     ]
    },
    {
     "name": "stdout",
     "output_type": "stream",
     "text": [
      "tensor([[0.0097]], device='cuda:0')\n",
      "tensor([[0.0105]], device='cuda:0')\n",
      "tensor([[0.0312]], device='cuda:0')\n",
      "tensor([[0.0045]], device='cuda:0')\n",
      "tensor([[0.0090]], device='cuda:0')\n",
      "tensor([[0.0091]], device='cuda:0')\n",
      "tensor([[0.0093]], device='cuda:0')\n",
      "tensor([[0.0057]], device='cuda:0')\n"
     ]
    },
    {
     "name": "stderr",
     "output_type": "stream",
     "text": [
      "Eval Dev Sentiment: 148it [00:03, 39.81it/s]"
     ]
    },
    {
     "name": "stdout",
     "output_type": "stream",
     "text": [
      "tensor([[0.0060]], device='cuda:0')\n",
      "tensor([[0.0101]], device='cuda:0')\n",
      "tensor([[0.0043]], device='cuda:0')\n",
      "tensor([[0.0276]], device='cuda:0')\n",
      "tensor([[0.0176]], device='cuda:0')\n",
      "tensor([[0.0066]], device='cuda:0')\n",
      "tensor([[0.0133]], device='cuda:0')\n",
      "tensor([[0.0070]], device='cuda:0')\n",
      "tensor([[0.0066]], device='cuda:0')\n"
     ]
    },
    {
     "name": "stderr",
     "output_type": "stream",
     "text": [
      "Eval Dev Sentiment: 156it [00:03, 39.80it/s]"
     ]
    },
    {
     "name": "stdout",
     "output_type": "stream",
     "text": [
      "tensor([[0.0045]], device='cuda:0')\n",
      "tensor([[0.0040]], device='cuda:0')\n",
      "tensor([[0.0048]], device='cuda:0')\n",
      "tensor([[0.0058]], device='cuda:0')\n",
      "tensor([[0.0046]], device='cuda:0')\n",
      "tensor([[0.0062]], device='cuda:0')\n",
      "tensor([[0.0051]], device='cuda:0')\n",
      "tensor([[0.0071]], device='cuda:0')\n",
      "tensor([[0.0040]], device='cuda:0')\n"
     ]
    },
    {
     "name": "stderr",
     "output_type": "stream",
     "text": [
      "Eval Dev Sentiment: 168it [00:04, 39.81it/s]"
     ]
    },
    {
     "name": "stdout",
     "output_type": "stream",
     "text": [
      "tensor([[0.0042]], device='cuda:0')\n",
      "tensor([[0.0220]], device='cuda:0')\n",
      "tensor([[0.0042]], device='cuda:0')\n",
      "tensor([[0.0076]], device='cuda:0')\n",
      "tensor([[0.0077]], device='cuda:0')\n",
      "tensor([[0.0041]], device='cuda:0')\n",
      "tensor([[0.0047]], device='cuda:0')\n",
      "tensor([[0.0069]], device='cuda:0')\n"
     ]
    },
    {
     "name": "stderr",
     "output_type": "stream",
     "text": [
      "Eval Dev Sentiment: 176it [00:04, 39.81it/s]"
     ]
    },
    {
     "name": "stdout",
     "output_type": "stream",
     "text": [
      "tensor([[0.0141]], device='cuda:0')\n",
      "tensor([[0.0044]], device='cuda:0')\n",
      "tensor([[0.0734]], device='cuda:0')\n",
      "tensor([[0.0076]], device='cuda:0')\n",
      "tensor([[0.0141]], device='cuda:0')\n",
      "tensor([[0.0047]], device='cuda:0')\n",
      "tensor([[0.0128]], device='cuda:0')\n",
      "tensor([[0.0046]], device='cuda:0')\n"
     ]
    },
    {
     "name": "stderr",
     "output_type": "stream",
     "text": [
      "Eval Dev Sentiment: 184it [00:04, 39.73it/s]"
     ]
    },
    {
     "name": "stdout",
     "output_type": "stream",
     "text": [
      "tensor([[0.0068]], device='cuda:0')\n",
      "tensor([[0.0074]], device='cuda:0')\n",
      "tensor([[0.0041]], device='cuda:0')\n",
      "tensor([[0.0079]], device='cuda:0')\n",
      "tensor([[0.0247]], device='cuda:0')\n",
      "tensor([[0.0041]], device='cuda:0')\n",
      "tensor([[0.0039]], device='cuda:0')\n",
      "tensor([[0.0043]], device='cuda:0')\n"
     ]
    },
    {
     "name": "stderr",
     "output_type": "stream",
     "text": [
      "Eval Dev Sentiment: 192it [00:04, 39.76it/s]"
     ]
    },
    {
     "name": "stdout",
     "output_type": "stream",
     "text": [
      "tensor([[0.0041]], device='cuda:0')\n",
      "tensor([[0.0116]], device='cuda:0')\n",
      "tensor([[0.0071]], device='cuda:0')\n",
      "tensor([[0.0046]], device='cuda:0')\n",
      "tensor([[0.0041]], device='cuda:0')\n",
      "tensor([[0.0058]], device='cuda:0')\n",
      "tensor([[0.0063]], device='cuda:0')\n",
      "tensor([[0.0043]], device='cuda:0')\n"
     ]
    },
    {
     "name": "stderr",
     "output_type": "stream",
     "text": [
      "Eval Dev Sentiment: 200it [00:05, 39.74it/s]"
     ]
    },
    {
     "name": "stdout",
     "output_type": "stream",
     "text": [
      "tensor([[0.0125]], device='cuda:0')\n",
      "tensor([[0.0076]], device='cuda:0')\n",
      "tensor([[0.0087]], device='cuda:0')\n",
      "tensor([[0.0041]], device='cuda:0')\n",
      "tensor([[0.0043]], device='cuda:0')\n",
      "tensor([[0.0460]], device='cuda:0')\n",
      "tensor([[0.0062]], device='cuda:0')\n",
      "tensor([[0.0068]], device='cuda:0')\n"
     ]
    },
    {
     "name": "stderr",
     "output_type": "stream",
     "text": [
      "Eval Dev Sentiment: 208it [00:05, 39.73it/s]"
     ]
    },
    {
     "name": "stdout",
     "output_type": "stream",
     "text": [
      "tensor([[0.0042]], device='cuda:0')\n",
      "tensor([[0.0038]], device='cuda:0')\n",
      "tensor([[0.0087]], device='cuda:0')\n",
      "tensor([[0.0144]], device='cuda:0')\n",
      "tensor([[0.0042]], device='cuda:0')\n",
      "tensor([[0.0046]], device='cuda:0')\n",
      "tensor([[0.0054]], device='cuda:0')\n",
      "tensor([[0.0517]], device='cuda:0')\n"
     ]
    },
    {
     "name": "stderr",
     "output_type": "stream",
     "text": [
      "Eval Dev Sentiment: 216it [00:05, 39.77it/s]"
     ]
    },
    {
     "name": "stdout",
     "output_type": "stream",
     "text": [
      "tensor([[0.0073]], device='cuda:0')\n",
      "tensor([[0.0044]], device='cuda:0')\n",
      "tensor([[0.0094]], device='cuda:0')\n",
      "tensor([[0.0248]], device='cuda:0')\n",
      "tensor([[0.0119]], device='cuda:0')\n",
      "tensor([[0.0088]], device='cuda:0')\n",
      "tensor([[0.0066]], device='cuda:0')\n",
      "tensor([[0.0270]], device='cuda:0')\n"
     ]
    },
    {
     "name": "stderr",
     "output_type": "stream",
     "text": [
      "Eval Dev Sentiment: 224it [00:05, 39.71it/s]"
     ]
    },
    {
     "name": "stdout",
     "output_type": "stream",
     "text": [
      "tensor([[0.0094]], device='cuda:0')\n",
      "tensor([[0.0067]], device='cuda:0')\n",
      "tensor([[0.0233]], device='cuda:0')\n",
      "tensor([[0.0051]], device='cuda:0')\n",
      "tensor([[0.0263]], device='cuda:0')\n",
      "tensor([[0.0042]], device='cuda:0')\n",
      "tensor([[0.0067]], device='cuda:0')\n",
      "tensor([[0.0111]], device='cuda:0')\n"
     ]
    },
    {
     "name": "stderr",
     "output_type": "stream",
     "text": [
      "Eval Dev Sentiment: 232it [00:05, 39.71it/s]"
     ]
    },
    {
     "name": "stdout",
     "output_type": "stream",
     "text": [
      "tensor([[0.0041]], device='cuda:0')\n",
      "tensor([[0.0094]], device='cuda:0')\n",
      "tensor([[0.0092]], device='cuda:0')\n",
      "tensor([[0.0062]], device='cuda:0')\n",
      "tensor([[0.0083]], device='cuda:0')\n",
      "tensor([[0.0092]], device='cuda:0')\n",
      "tensor([[0.0040]], device='cuda:0')\n",
      "tensor([[0.0157]], device='cuda:0')\n"
     ]
    },
    {
     "name": "stderr",
     "output_type": "stream",
     "text": [
      "Eval Dev Sentiment: 240it [00:06, 39.69it/s]"
     ]
    },
    {
     "name": "stdout",
     "output_type": "stream",
     "text": [
      "tensor([[0.0063]], device='cuda:0')\n",
      "tensor([[0.0052]], device='cuda:0')\n",
      "tensor([[0.0046]], device='cuda:0')\n",
      "tensor([[0.0045]], device='cuda:0')\n",
      "tensor([[0.0135]], device='cuda:0')\n",
      "tensor([[0.0069]], device='cuda:0')\n",
      "tensor([[0.0071]], device='cuda:0')\n",
      "tensor([[0.0046]], device='cuda:0')\n"
     ]
    },
    {
     "name": "stderr",
     "output_type": "stream",
     "text": [
      "Eval Dev Sentiment: 248it [00:06, 39.73it/s]"
     ]
    },
    {
     "name": "stdout",
     "output_type": "stream",
     "text": [
      "tensor([[0.0058]], device='cuda:0')\n",
      "tensor([[0.0084]], device='cuda:0')\n",
      "tensor([[0.0042]], device='cuda:0')\n",
      "tensor([[0.0055]], device='cuda:0')\n",
      "tensor([[0.0054]], device='cuda:0')\n",
      "tensor([[0.3834]], device='cuda:0')\n",
      "tensor([[0.0056]], device='cuda:0')\n",
      "tensor([[0.0050]], device='cuda:0')\n"
     ]
    },
    {
     "name": "stderr",
     "output_type": "stream",
     "text": [
      "Eval Dev Sentiment: 256it [00:06, 39.75it/s]"
     ]
    },
    {
     "name": "stdout",
     "output_type": "stream",
     "text": [
      "tensor([[0.0106]], device='cuda:0')\n",
      "tensor([[0.0040]], device='cuda:0')\n",
      "tensor([[0.0069]], device='cuda:0')\n",
      "tensor([[0.0051]], device='cuda:0')\n",
      "tensor([[0.0071]], device='cuda:0')\n",
      "tensor([[0.0472]], device='cuda:0')\n",
      "tensor([[0.0108]], device='cuda:0')\n",
      "tensor([[0.0056]], device='cuda:0')\n"
     ]
    },
    {
     "name": "stderr",
     "output_type": "stream",
     "text": [
      "Eval Dev Sentiment: 264it [00:06, 39.69it/s]"
     ]
    },
    {
     "name": "stdout",
     "output_type": "stream",
     "text": [
      "tensor([[0.0057]], device='cuda:0')\n",
      "tensor([[0.0065]], device='cuda:0')\n",
      "tensor([[0.0112]], device='cuda:0')\n",
      "tensor([[0.0077]], device='cuda:0')\n",
      "tensor([[0.0077]], device='cuda:0')\n",
      "tensor([[0.0039]], device='cuda:0')\n",
      "tensor([[0.0063]], device='cuda:0')\n",
      "tensor([[0.0042]], device='cuda:0')\n"
     ]
    },
    {
     "name": "stderr",
     "output_type": "stream",
     "text": [
      "Eval Dev Sentiment: 272it [00:06, 39.74it/s]"
     ]
    },
    {
     "name": "stdout",
     "output_type": "stream",
     "text": [
      "tensor([[0.0064]], device='cuda:0')\n",
      "tensor([[0.0110]], device='cuda:0')\n",
      "tensor([[0.0762]], device='cuda:0')\n",
      "tensor([[0.0088]], device='cuda:0')\n",
      "tensor([[0.0205]], device='cuda:0')\n",
      "tensor([[0.0043]], device='cuda:0')\n",
      "tensor([[0.0155]], device='cuda:0')\n",
      "tensor([[0.0066]], device='cuda:0')\n"
     ]
    },
    {
     "name": "stderr",
     "output_type": "stream",
     "text": [
      "Eval Dev Sentiment: 280it [00:07, 39.73it/s]"
     ]
    },
    {
     "name": "stdout",
     "output_type": "stream",
     "text": [
      "tensor([[0.0384]], device='cuda:0')\n",
      "tensor([[0.0948]], device='cuda:0')\n",
      "tensor([[0.0042]], device='cuda:0')\n",
      "tensor([[0.0060]], device='cuda:0')\n",
      "tensor([[0.0038]], device='cuda:0')\n",
      "tensor([[0.0042]], device='cuda:0')\n",
      "tensor([[0.0089]], device='cuda:0')\n",
      "tensor([[0.0064]], device='cuda:0')\n"
     ]
    },
    {
     "name": "stderr",
     "output_type": "stream",
     "text": [
      "Eval Dev Sentiment: 288it [00:07, 39.76it/s]"
     ]
    },
    {
     "name": "stdout",
     "output_type": "stream",
     "text": [
      "tensor([[0.0473]], device='cuda:0')\n",
      "tensor([[0.0055]], device='cuda:0')\n",
      "tensor([[0.0168]], device='cuda:0')\n",
      "tensor([[0.0063]], device='cuda:0')\n",
      "tensor([[0.0220]], device='cuda:0')\n",
      "tensor([[0.1309]], device='cuda:0')\n",
      "tensor([[0.0063]], device='cuda:0')\n",
      "tensor([[0.0126]], device='cuda:0')\n"
     ]
    },
    {
     "name": "stderr",
     "output_type": "stream",
     "text": [
      "Eval Dev Sentiment: 296it [00:07, 39.75it/s]"
     ]
    },
    {
     "name": "stdout",
     "output_type": "stream",
     "text": [
      "tensor([[0.0049]], device='cuda:0')\n",
      "tensor([[0.0046]], device='cuda:0')\n",
      "tensor([[0.0097]], device='cuda:0')\n",
      "tensor([[0.0155]], device='cuda:0')\n",
      "tensor([[0.0097]], device='cuda:0')\n",
      "tensor([[0.0040]], device='cuda:0')\n",
      "tensor([[0.0160]], device='cuda:0')\n",
      "tensor([[0.0042]], device='cuda:0')\n"
     ]
    },
    {
     "name": "stderr",
     "output_type": "stream",
     "text": [
      "Eval Dev Sentiment: 304it [00:07, 39.73it/s]"
     ]
    },
    {
     "name": "stdout",
     "output_type": "stream",
     "text": [
      "tensor([[0.0048]], device='cuda:0')\n",
      "tensor([[0.0078]], device='cuda:0')\n",
      "tensor([[0.0070]], device='cuda:0')\n",
      "tensor([[0.0122]], device='cuda:0')\n",
      "tensor([[0.0076]], device='cuda:0')\n",
      "tensor([[0.0050]], device='cuda:0')\n",
      "tensor([[0.0048]], device='cuda:0')\n",
      "tensor([[0.0052]], device='cuda:0')\n"
     ]
    },
    {
     "name": "stderr",
     "output_type": "stream",
     "text": [
      "Eval Dev Sentiment: 312it [00:07, 39.78it/s]"
     ]
    },
    {
     "name": "stdout",
     "output_type": "stream",
     "text": [
      "tensor([[0.0043]], device='cuda:0')\n",
      "tensor([[0.0243]], device='cuda:0')\n",
      "tensor([[0.0053]], device='cuda:0')\n",
      "tensor([[0.0202]], device='cuda:0')\n",
      "tensor([[0.0142]], device='cuda:0')\n",
      "tensor([[0.0160]], device='cuda:0')\n",
      "tensor([[0.0076]], device='cuda:0')\n",
      "tensor([[0.0041]], device='cuda:0')\n"
     ]
    },
    {
     "name": "stderr",
     "output_type": "stream",
     "text": [
      "Eval Dev Sentiment: 320it [00:08, 39.76it/s]"
     ]
    },
    {
     "name": "stdout",
     "output_type": "stream",
     "text": [
      "tensor([[0.0040]], device='cuda:0')\n",
      "tensor([[0.0045]], device='cuda:0')\n",
      "tensor([[0.0042]], device='cuda:0')\n",
      "tensor([[0.0049]], device='cuda:0')\n",
      "tensor([[0.0070]], device='cuda:0')\n",
      "tensor([[0.0235]], device='cuda:0')\n",
      "tensor([[0.0587]], device='cuda:0')\n",
      "tensor([[0.0113]], device='cuda:0')\n"
     ]
    },
    {
     "name": "stderr",
     "output_type": "stream",
     "text": [
      "Eval Dev Sentiment: 320it [00:08, 39.25it/s]\n"
     ]
    },
    {
     "name": "stdout",
     "output_type": "stream",
     "text": [
      "tensor([[0.0097]], device='cuda:0')\n",
      "tensor([[0.0138]], device='cuda:0')\n"
     ]
    },
    {
     "ename": "KeyboardInterrupt",
     "evalue": "",
     "output_type": "error",
     "traceback": [
      "\u001b[0;31m---------------------------------------------------------------------------\u001b[0m",
      "\u001b[0;31mKeyboardInterrupt\u001b[0m                         Traceback (most recent call last)",
      "\u001b[0;32m<ipython-input-13-9535cf163e90>\u001b[0m in \u001b[0;36m<module>\u001b[0;34m\u001b[0m\n\u001b[1;32m     12\u001b[0m         \u001b[0mlogits\u001b[0m\u001b[0;34m,\u001b[0m \u001b[0mencoded_layers\u001b[0m \u001b[0;34m=\u001b[0m \u001b[0mmodel\u001b[0m\u001b[0;34m(\u001b[0m\u001b[0mtokens_tensor\u001b[0m\u001b[0;34m,\u001b[0m \u001b[0msegments_tensors\u001b[0m\u001b[0;34m)\u001b[0m\u001b[0;34m\u001b[0m\u001b[0;34m\u001b[0m\u001b[0m\n\u001b[1;32m     13\u001b[0m         \u001b[0mprobs\u001b[0m \u001b[0;34m=\u001b[0m \u001b[0msigmoid\u001b[0m\u001b[0;34m(\u001b[0m\u001b[0mlogits\u001b[0m\u001b[0;34m)\u001b[0m\u001b[0;34m\u001b[0m\u001b[0;34m\u001b[0m\u001b[0m\n\u001b[0;32m---> 14\u001b[0;31m         \u001b[0mprint\u001b[0m\u001b[0;34m(\u001b[0m\u001b[0mprobs\u001b[0m\u001b[0;34m)\u001b[0m\u001b[0;34m\u001b[0m\u001b[0;34m\u001b[0m\u001b[0m\n\u001b[0m\u001b[1;32m     15\u001b[0m         \u001b[0mmse\u001b[0m \u001b[0;34m+=\u001b[0m \u001b[0;34m(\u001b[0m\u001b[0mline_label\u001b[0m \u001b[0;34m-\u001b[0m \u001b[0mprobs\u001b[0m\u001b[0;34m.\u001b[0m\u001b[0mitem\u001b[0m\u001b[0;34m(\u001b[0m\u001b[0;34m)\u001b[0m\u001b[0;34m)\u001b[0m \u001b[0;34m**\u001b[0m \u001b[0;36m2\u001b[0m\u001b[0;34m\u001b[0m\u001b[0;34m\u001b[0m\u001b[0m\n\u001b[1;32m     16\u001b[0m \u001b[0;34m\u001b[0m\u001b[0m\n",
      "\u001b[0;32m~/anaconda3/envs/data-mining/lib/python3.6/site-packages/torch/tensor.py\u001b[0m in \u001b[0;36m__repr__\u001b[0;34m(self)\u001b[0m\n\u001b[1;32m    160\u001b[0m         \u001b[0;31m# characters to replace unicode characters with.\u001b[0m\u001b[0;34m\u001b[0m\u001b[0;34m\u001b[0m\u001b[0;34m\u001b[0m\u001b[0m\n\u001b[1;32m    161\u001b[0m         \u001b[0;32mif\u001b[0m \u001b[0msys\u001b[0m\u001b[0;34m.\u001b[0m\u001b[0mversion_info\u001b[0m \u001b[0;34m>\u001b[0m \u001b[0;34m(\u001b[0m\u001b[0;36m3\u001b[0m\u001b[0;34m,\u001b[0m\u001b[0;34m)\u001b[0m\u001b[0;34m:\u001b[0m\u001b[0;34m\u001b[0m\u001b[0;34m\u001b[0m\u001b[0m\n\u001b[0;32m--> 162\u001b[0;31m             \u001b[0;32mreturn\u001b[0m \u001b[0mtorch\u001b[0m\u001b[0;34m.\u001b[0m\u001b[0m_tensor_str\u001b[0m\u001b[0;34m.\u001b[0m\u001b[0m_str\u001b[0m\u001b[0;34m(\u001b[0m\u001b[0mself\u001b[0m\u001b[0;34m)\u001b[0m\u001b[0;34m\u001b[0m\u001b[0;34m\u001b[0m\u001b[0m\n\u001b[0m\u001b[1;32m    163\u001b[0m         \u001b[0;32melse\u001b[0m\u001b[0;34m:\u001b[0m\u001b[0;34m\u001b[0m\u001b[0;34m\u001b[0m\u001b[0m\n\u001b[1;32m    164\u001b[0m             \u001b[0;32mif\u001b[0m \u001b[0mhasattr\u001b[0m\u001b[0;34m(\u001b[0m\u001b[0msys\u001b[0m\u001b[0;34m.\u001b[0m\u001b[0mstdout\u001b[0m\u001b[0;34m,\u001b[0m \u001b[0;34m'encoding'\u001b[0m\u001b[0;34m)\u001b[0m\u001b[0;34m:\u001b[0m\u001b[0;34m\u001b[0m\u001b[0;34m\u001b[0m\u001b[0m\n",
      "\u001b[0;32m~/anaconda3/envs/data-mining/lib/python3.6/site-packages/torch/_tensor_str.py\u001b[0m in \u001b[0;36m_str\u001b[0;34m(self)\u001b[0m\n\u001b[1;32m    313\u001b[0m                 \u001b[0mtensor_str\u001b[0m \u001b[0;34m=\u001b[0m \u001b[0m_tensor_str\u001b[0m\u001b[0;34m(\u001b[0m\u001b[0mself\u001b[0m\u001b[0;34m.\u001b[0m\u001b[0mto_dense\u001b[0m\u001b[0;34m(\u001b[0m\u001b[0;34m)\u001b[0m\u001b[0;34m,\u001b[0m \u001b[0mindent\u001b[0m\u001b[0;34m)\u001b[0m\u001b[0;34m\u001b[0m\u001b[0;34m\u001b[0m\u001b[0m\n\u001b[1;32m    314\u001b[0m             \u001b[0;32melse\u001b[0m\u001b[0;34m:\u001b[0m\u001b[0;34m\u001b[0m\u001b[0;34m\u001b[0m\u001b[0m\n\u001b[0;32m--> 315\u001b[0;31m                 \u001b[0mtensor_str\u001b[0m \u001b[0;34m=\u001b[0m \u001b[0m_tensor_str\u001b[0m\u001b[0;34m(\u001b[0m\u001b[0mself\u001b[0m\u001b[0;34m,\u001b[0m \u001b[0mindent\u001b[0m\u001b[0;34m)\u001b[0m\u001b[0;34m\u001b[0m\u001b[0;34m\u001b[0m\u001b[0m\n\u001b[0m\u001b[1;32m    316\u001b[0m \u001b[0;34m\u001b[0m\u001b[0m\n\u001b[1;32m    317\u001b[0m     \u001b[0;32mif\u001b[0m \u001b[0mself\u001b[0m\u001b[0;34m.\u001b[0m\u001b[0mlayout\u001b[0m \u001b[0;34m!=\u001b[0m \u001b[0mtorch\u001b[0m\u001b[0;34m.\u001b[0m\u001b[0mstrided\u001b[0m\u001b[0;34m:\u001b[0m\u001b[0;34m\u001b[0m\u001b[0;34m\u001b[0m\u001b[0m\n",
      "\u001b[0;32m~/anaconda3/envs/data-mining/lib/python3.6/site-packages/torch/_tensor_str.py\u001b[0m in \u001b[0;36m_tensor_str\u001b[0;34m(self, indent)\u001b[0m\n\u001b[1;32m    211\u001b[0m     \u001b[0;32mif\u001b[0m \u001b[0mself\u001b[0m\u001b[0;34m.\u001b[0m\u001b[0mdtype\u001b[0m \u001b[0;32mis\u001b[0m \u001b[0mtorch\u001b[0m\u001b[0;34m.\u001b[0m\u001b[0mfloat16\u001b[0m \u001b[0;32mor\u001b[0m \u001b[0mself\u001b[0m\u001b[0;34m.\u001b[0m\u001b[0mdtype\u001b[0m \u001b[0;32mis\u001b[0m \u001b[0mtorch\u001b[0m\u001b[0;34m.\u001b[0m\u001b[0mbfloat16\u001b[0m\u001b[0;34m:\u001b[0m\u001b[0;34m\u001b[0m\u001b[0;34m\u001b[0m\u001b[0m\n\u001b[1;32m    212\u001b[0m         \u001b[0mself\u001b[0m \u001b[0;34m=\u001b[0m \u001b[0mself\u001b[0m\u001b[0;34m.\u001b[0m\u001b[0mfloat\u001b[0m\u001b[0;34m(\u001b[0m\u001b[0;34m)\u001b[0m\u001b[0;34m\u001b[0m\u001b[0;34m\u001b[0m\u001b[0m\n\u001b[0;32m--> 213\u001b[0;31m     \u001b[0mformatter\u001b[0m \u001b[0;34m=\u001b[0m \u001b[0m_Formatter\u001b[0m\u001b[0;34m(\u001b[0m\u001b[0mget_summarized_data\u001b[0m\u001b[0;34m(\u001b[0m\u001b[0mself\u001b[0m\u001b[0;34m)\u001b[0m \u001b[0;32mif\u001b[0m \u001b[0msummarize\u001b[0m \u001b[0;32melse\u001b[0m \u001b[0mself\u001b[0m\u001b[0;34m)\u001b[0m\u001b[0;34m\u001b[0m\u001b[0;34m\u001b[0m\u001b[0m\n\u001b[0m\u001b[1;32m    214\u001b[0m     \u001b[0;32mreturn\u001b[0m \u001b[0m_tensor_str_with_formatter\u001b[0m\u001b[0;34m(\u001b[0m\u001b[0mself\u001b[0m\u001b[0;34m,\u001b[0m \u001b[0mindent\u001b[0m\u001b[0;34m,\u001b[0m \u001b[0mformatter\u001b[0m\u001b[0;34m,\u001b[0m \u001b[0msummarize\u001b[0m\u001b[0;34m)\u001b[0m\u001b[0;34m\u001b[0m\u001b[0;34m\u001b[0m\u001b[0m\n\u001b[1;32m    215\u001b[0m \u001b[0;34m\u001b[0m\u001b[0m\n",
      "\u001b[0;32m~/anaconda3/envs/data-mining/lib/python3.6/site-packages/torch/_tensor_str.py\u001b[0m in \u001b[0;36m__init__\u001b[0;34m(self, tensor)\u001b[0m\n\u001b[1;32m     86\u001b[0m \u001b[0;34m\u001b[0m\u001b[0m\n\u001b[1;32m     87\u001b[0m         \u001b[0;32melse\u001b[0m\u001b[0;34m:\u001b[0m\u001b[0;34m\u001b[0m\u001b[0;34m\u001b[0m\u001b[0m\n\u001b[0;32m---> 88\u001b[0;31m             \u001b[0mnonzero_finite_vals\u001b[0m \u001b[0;34m=\u001b[0m \u001b[0mtorch\u001b[0m\u001b[0;34m.\u001b[0m\u001b[0mmasked_select\u001b[0m\u001b[0;34m(\u001b[0m\u001b[0mtensor_view\u001b[0m\u001b[0;34m,\u001b[0m \u001b[0mtorch\u001b[0m\u001b[0;34m.\u001b[0m\u001b[0misfinite\u001b[0m\u001b[0;34m(\u001b[0m\u001b[0mtensor_view\u001b[0m\u001b[0;34m)\u001b[0m \u001b[0;34m&\u001b[0m \u001b[0mtensor_view\u001b[0m\u001b[0;34m.\u001b[0m\u001b[0mne\u001b[0m\u001b[0;34m(\u001b[0m\u001b[0;36m0\u001b[0m\u001b[0;34m)\u001b[0m\u001b[0;34m)\u001b[0m\u001b[0;34m\u001b[0m\u001b[0;34m\u001b[0m\u001b[0m\n\u001b[0m\u001b[1;32m     89\u001b[0m \u001b[0;34m\u001b[0m\u001b[0m\n\u001b[1;32m     90\u001b[0m             \u001b[0;32mif\u001b[0m \u001b[0mnonzero_finite_vals\u001b[0m\u001b[0;34m.\u001b[0m\u001b[0mnumel\u001b[0m\u001b[0;34m(\u001b[0m\u001b[0;34m)\u001b[0m \u001b[0;34m==\u001b[0m \u001b[0;36m0\u001b[0m\u001b[0;34m:\u001b[0m\u001b[0;34m\u001b[0m\u001b[0;34m\u001b[0m\u001b[0m\n",
      "\u001b[0;31mKeyboardInterrupt\u001b[0m: "
     ]
    }
   ],
   "source": [
    "# Calculate accuracy of the model\n",
    "sigmoid = torch.nn.Sigmoid()\n",
    "mse = 0\n",
    "for idx, line in tqdm(enumerate(dev_sentiment), desc='Eval Dev Sentiment'):\n",
    "    _, tokens_tensor, segments_tensors = eval_probes_on_dataset.prepare_sentence_for_bert(line, tokenizer)\n",
    "    line_label = float(dev_labels[idx])\n",
    "\n",
    "    device = yaml_args['device']\n",
    "    tokens_tensor = tokens_tensor.unsqueeze(0).to(device)\n",
    "    segments_tensors = segments_tensors.unsqueeze(0).to(device)\n",
    "    with torch.no_grad():\n",
    "        logits, encoded_layers = model(tokens_tensor, segments_tensors)\n",
    "        probs = sigmoid(logits)\n",
    "        print(probs)\n",
    "        mse += (line_label - probs.item()) ** 2\n",
    "\n",
    "print('Higher is bad', mse / len(dev_sentiment))        "
   ]
  },
  {
   "cell_type": "code",
   "execution_count": 9,
   "metadata": {},
   "outputs": [],
   "source": [
    "def earliest_root(a, b):\n",
    "    for i in range(min(len(a), len(b))):\n",
    "        if a[i] != b[i]:\n",
    "            return i\n",
    "    return -1\n",
    "\n",
    "def get_adj_matrix(cur_tree):\n",
    "    num_words = len(cur_tree.leaves())\n",
    "    all_paths = [cur_tree.leaf_treeposition(i) for i in range(num_words)]\n",
    "    matrix = [[0] * num_words for _ in range(num_words)]\n",
    "\n",
    "    for a_idx, a in enumerate(all_paths):\n",
    "        for b_idx, b in enumerate(all_paths):\n",
    "            if a_idx < b_idx:\n",
    "                root = earliest_root(a, b)\n",
    "                matrix[a_idx][b_idx] = len(a) + len(b) - 2 * root\n",
    "                matrix[b_idx][a_idx] = len(a) + len(b) - 2 * root\n",
    "    return matrix"
   ]
  },
  {
   "cell_type": "code",
   "execution_count": 10,
   "metadata": {},
   "outputs": [
    {
     "name": "stderr",
     "output_type": "stream",
     "text": [
      "[uuas,tikz]: 1101it [00:01, 637.77it/s]"
     ]
    },
    {
     "name": "stdout",
     "output_type": "stream",
     "text": [
      "0.29806358541863176\n"
     ]
    },
    {
     "name": "stderr",
     "output_type": "stream",
     "text": [
      "\n"
     ]
    }
   ],
   "source": [
    "def report_uuas(predicted_edges, trees, split_name):\n",
    "    uspan_total = 0\n",
    "    uspan_correct = 0\n",
    "    total_sents = 0\n",
    "    for predicted_edge, gt_tree in tqdm(zip(predicted_edges, trees), desc='[uuas,tikz]'):\n",
    "        words = gt_tree.leaves()\n",
    "        poses = gt_tree.leaves()\n",
    "        gold_edges = get_adj_matrix(gt_tree)\n",
    "        gold_edges = prims_matrix_to_edges(gold_edges, words, poses)\n",
    "        pred_edges = predicted_edge\n",
    "\n",
    "        gold_span = set([tuple(sorted(x)) for x in gold_edges])\n",
    "        pred_span = set([tuple(sorted(x)) for x in pred_edges])\n",
    "        uspan_correct += len(gold_span.intersection(pred_span))\n",
    "        uspan_total += len(gold_edges)\n",
    "        total_sents += 1\n",
    "\n",
    "    uuas = uspan_correct / float(uspan_total)\n",
    "    return uuas\n",
    "\n",
    "uuas_score = report_uuas(predicted_edges, gt_dev_trees, 'dev')\n",
    "print(uuas_score)"
   ]
  },
  {
   "cell_type": "code",
   "execution_count": 11,
   "metadata": {},
   "outputs": [],
   "source": [
    "def get_sentiments():\n",
    "    pass"
   ]
  },
  {
   "cell_type": "code",
   "execution_count": 12,
   "metadata": {},
   "outputs": [
    {
     "name": "stdout",
     "output_type": "stream",
     "text": [
      "Finished SST: 0.2981\n"
     ]
    }
   ],
   "source": [
    "%%notify \"result\"\n",
    "result = f\"Finished SST: {uuas_score:.4f}\"\n",
    "print(result)"
   ]
  },
  {
   "cell_type": "code",
   "execution_count": null,
   "metadata": {},
   "outputs": [],
   "source": []
  }
 ],
 "metadata": {
  "kernelspec": {
   "display_name": "data-mining",
   "language": "python",
   "name": "data-mining"
  },
  "language_info": {
   "codemirror_mode": {
    "name": "ipython",
    "version": 3
   },
   "file_extension": ".py",
   "mimetype": "text/x-python",
   "name": "python",
   "nbconvert_exporter": "python",
   "pygments_lexer": "ipython3",
   "version": "3.6.10"
  }
 },
 "nbformat": 4,
 "nbformat_minor": 4
}
