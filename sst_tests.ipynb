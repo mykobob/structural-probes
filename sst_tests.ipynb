{
 "cells": [
  {
   "cell_type": "code",
   "execution_count": 2,
   "metadata": {},
   "outputs": [],
   "source": [
    "import sys\n",
    "sys.path.append('structural-probes')\n",
    "from pathlib import Path\n",
    "\n",
    "from run_experiment import setup_new_experiment_dir, execute_experiment\n",
    "import yaml\n",
    "import torch\n",
    "import pandas as pd\n",
    "import eval_probes_on_dataset"
   ]
  },
  {
   "cell_type": "code",
   "execution_count": 3,
   "metadata": {},
   "outputs": [],
   "source": [
    "data_folder = Path(\"../../..\")\n",
    "cola = data_folder / 'data'/ 'SST-2' / 'original' / 'raw'"
   ]
  },
  {
   "cell_type": "code",
   "execution_count": 15,
   "metadata": {},
   "outputs": [
    {
     "name": "stdout",
     "output_type": "stream",
     "text": [
      "Constructing new results directory at results/BERT-disk-parse-distance-2020-4-26-11-2-34-35823/\n"
     ]
    },
    {
     "name": "stderr",
     "output_type": "stream",
     "text": [
      "/home/mli/anaconda3/envs/data-mining/lib/python3.6/site-packages/ipykernel_launcher.py:16: YAMLLoadWarning: calling yaml.load() without Loader=... is deprecated, as the default Loader is unsafe. Please read https://msg.pyyaml.org/load for full details.\n",
      "  app.launch_new_instance()\n"
     ]
    }
   ],
   "source": [
    "def setup_args_and_folder(): \n",
    "    CONFIG_FILE = 'example/config/bert_ptb3.yaml'\n",
    "    EXPERIMENT_NAME = ''\n",
    "    SEED = 123\n",
    "\n",
    "    class Object(object):\n",
    "        pass\n",
    "\n",
    "    cli_args = Object()\n",
    "    cli_args.experiment_config = CONFIG_FILE\n",
    "    cli_args.results_dir = EXPERIMENT_NAME\n",
    "    cli_args.train_probe = -1\n",
    "    cli_args.report_results = 1\n",
    "    cli_args.seed = SEED\n",
    "\n",
    "    yaml_args = yaml.load(open(cli_args.experiment_config))\n",
    "    setup_new_experiment_dir(cli_args, yaml_args, cli_args.results_dir)\n",
    "\n",
    "    device = torch.device(\"cuda:0\" if torch.cuda.is_available() else \"cpu\")\n",
    "    yaml_args['device'] = device\n",
    "    return yaml_args\n",
    "\n",
    "yaml_args = setup_args_and_folder()"
   ]
  },
  {
   "cell_type": "markdown",
   "metadata": {},
   "source": [
    "# Notes for generating the Tree data for SST\n",
    "- This is for reading in the Ground Truth trees that is already given to us in SST\n",
    "- We'll use Stanford's CoreNLP tools\n",
    "- Run the ReadSentimentDataset `java -mx4g edu.stanford.nlp.sentiment.ReadSentimentDataset -inputDir data/SST-2/original -outputDir tmp/`\n",
    "  - The ground truth already does subword partitions, so need to account for that"
   ]
  },
  {
   "cell_type": "code",
   "execution_count": 16,
   "metadata": {},
   "outputs": [],
   "source": [
    "from nltk.tree import Tree\n",
    "\n",
    "from reporter import WordPairReporter, WordReporter, prims_matrix_to_edges\n",
    "from tqdm import tqdm\n",
    "import copy"
   ]
  },
  {
   "cell_type": "code",
   "execution_count": 17,
   "metadata": {},
   "outputs": [],
   "source": [
    "def read_trees(path):\n",
    "    with open(path) as f:\n",
    "        tree_lines = f.readlines()\n",
    "        \n",
    "    trees = [Tree.fromstring(treeline) for treeline in tree_lines]\n",
    "    return trees\n",
    "\n",
    "def read_sentiment_sentences(path):\n",
    "    with open(path) as f:\n",
    "        all_sentences = f.readlines()\n",
    "        \n",
    "        sentences, labels = [], []\n",
    "        for pair in all_sentences:\n",
    "            sentence, label = pair.split('\\t')\n",
    "            sentences.append(sentence)\n",
    "            labels.append(label)\n",
    "        return sentences, labels"
   ]
  },
  {
   "cell_type": "code",
   "execution_count": 43,
   "metadata": {},
   "outputs": [],
   "source": [
    "data_base = Path('../../../data/SST-2')\n",
    "\n",
    "train_path = data_base / 'sentence_splits' / 'train.tsv'\n",
    "dev_path = data_base / 'sentence_splits' / 'dev.tsv'\n",
    "\n",
    "# read in SST dataset\n",
    "sst_trees_base = data_base / 'tree_format/'\n",
    "gt_tree_train_path = sst_trees_base / 'train.txt'\n",
    "gt_tree_dev_path = sst_trees_base / 'dev.txt'\n",
    "\n",
    "train_sentiment, train_labels = read_sentiment_sentences(train_path)\n",
    "dev_sentiment, dev_labels = read_sentiment_sentences(dev_path)\n",
    "\n",
    "# Read into NTLK Trees\n",
    "gt_train_trees = read_trees(gt_tree_train_path)\n",
    "gt_dev_trees = read_trees(gt_tree_dev_path)\n",
    "\n",
    "# Calculate distance between the two trees\n",
    "# one tree's format is from structural probes\n",
    "# other tree's format is from the dataset (gt_*_trees)"
   ]
  },
  {
   "cell_type": "code",
   "execution_count": 45,
   "metadata": {},
   "outputs": [
    {
     "name": "stdout",
     "output_type": "stream",
     "text": [
      "1101 1101\n"
     ]
    }
   ],
   "source": [
    "print(len(gt_dev_trees), len(dev_sentiment))"
   ]
  },
  {
   "cell_type": "code",
   "execution_count": 53,
   "metadata": {},
   "outputs": [
    {
     "name": "stderr",
     "output_type": "stream",
     "text": [
      "The pre-trained model you are loading is a cased model but you have not set `do_lower_case` to False. We are setting `do_lower_case=False` for you but you may want to check this behavior.\n",
      "\n",
      "\n",
      "[demoing]: 0it [00:00, ?it/s]\u001b[A\u001b[A\n",
      "\n",
      "[demoing]: 5it [00:00, 41.80it/s]\u001b[A\u001b[A"
     ]
    },
    {
     "name": "stdout",
     "output_type": "stream",
     "text": [
      "Constructing TwoWordPSDProbe\n",
      "Constructing OneWordPSDProbe\n",
      "prediction edges 11\n",
      "prediction edges 10\n",
      "prediction edges 21\n",
      "prediction edges 4\n",
      "prediction edges 20\n",
      "prediction edges 11\n",
      "prediction edges 5\n"
     ]
    },
    {
     "name": "stderr",
     "output_type": "stream",
     "text": [
      "\n",
      "\n",
      "[demoing]: 9it [00:00, 40.31it/s]\u001b[A\u001b[A\n",
      "\n",
      "[demoing]: 14it [00:00, 40.35it/s]\u001b[A\u001b[A"
     ]
    },
    {
     "name": "stdout",
     "output_type": "stream",
     "text": [
      "prediction edges 22\n",
      "prediction edges 26\n",
      "prediction edges 23\n",
      "prediction edges 25\n",
      "prediction edges 26\n",
      "prediction edges 18\n",
      "prediction edges 26\n",
      "prediction edges 10\n",
      "prediction edges 20\n"
     ]
    },
    {
     "name": "stderr",
     "output_type": "stream",
     "text": [
      "\n",
      "\n",
      "[demoing]: 19it [00:00, 40.86it/s]\u001b[A\u001b[A\n",
      "\n",
      "[demoing]: 24it [00:00, 41.13it/s]\u001b[A\u001b[A"
     ]
    },
    {
     "name": "stdout",
     "output_type": "stream",
     "text": [
      "prediction edges 25\n",
      "prediction edges 19\n",
      "prediction edges 26\n",
      "prediction edges 31\n",
      "prediction edges 15\n",
      "prediction edges 16\n",
      "prediction edges 16\n",
      "prediction edges 28\n",
      "prediction edges 4\n"
     ]
    },
    {
     "name": "stderr",
     "output_type": "stream",
     "text": [
      "\n",
      "\n",
      "[demoing]: 29it [00:00, 41.89it/s]\u001b[A\u001b[A\n",
      "\n",
      "[demoing]: 34it [00:00, 41.90it/s]\u001b[A\u001b[A"
     ]
    },
    {
     "name": "stdout",
     "output_type": "stream",
     "text": [
      "prediction edges 25\n",
      "prediction edges 10\n",
      "prediction edges 6\n",
      "prediction edges 6\n",
      "prediction edges 22\n",
      "prediction edges 31\n",
      "prediction edges 19\n",
      "prediction edges 22\n",
      "prediction edges 10\n"
     ]
    },
    {
     "name": "stderr",
     "output_type": "stream",
     "text": [
      "\n",
      "\n",
      "[demoing]: 38it [00:00, 41.01it/s]\u001b[A\u001b[A\n",
      "\n",
      "[demoing]: 43it [00:01, 41.24it/s]\u001b[A\u001b[A"
     ]
    },
    {
     "name": "stdout",
     "output_type": "stream",
     "text": [
      "prediction edges 34\n",
      "prediction edges 20\n",
      "prediction edges 27\n",
      "prediction edges 28\n",
      "prediction edges 27\n",
      "prediction edges 19\n",
      "prediction edges 18\n",
      "prediction edges 10\n",
      "prediction edges 12\n"
     ]
    },
    {
     "name": "stderr",
     "output_type": "stream",
     "text": [
      "\n",
      "\n",
      "[demoing]: 48it [00:01, 41.88it/s]\u001b[A\u001b[A"
     ]
    },
    {
     "name": "stdout",
     "output_type": "stream",
     "text": [
      "prediction edges 30\n",
      "prediction edges 16\n",
      "prediction edges 10\n",
      "prediction edges 5\n",
      "prediction edges 19\n",
      "prediction edges 26\n",
      "prediction edges 3\n",
      "prediction edges 16\n",
      "prediction edges 13\n"
     ]
    },
    {
     "name": "stderr",
     "output_type": "stream",
     "text": [
      "\n",
      "\n",
      "[demoing]: 53it [00:01, 42.46it/s]\u001b[A\u001b[A\n",
      "\n",
      "[demoing]: 58it [00:01, 42.96it/s]\u001b[A\u001b[A"
     ]
    },
    {
     "name": "stdout",
     "output_type": "stream",
     "text": [
      "prediction edges 20\n",
      "prediction edges 14\n",
      "prediction edges 12\n",
      "prediction edges 25\n",
      "prediction edges 12\n",
      "prediction edges 8\n",
      "prediction edges 10\n",
      "prediction edges 17\n",
      "prediction edges 27\n",
      "prediction edges 15\n"
     ]
    },
    {
     "name": "stderr",
     "output_type": "stream",
     "text": [
      "\n",
      "\n",
      "[demoing]: 63it [00:01, 43.30it/s]\u001b[A\u001b[A\n",
      "\n",
      "[demoing]: 68it [00:01, 43.43it/s]\u001b[A\u001b[A"
     ]
    },
    {
     "name": "stdout",
     "output_type": "stream",
     "text": [
      "prediction edges 7\n",
      "prediction edges 22\n",
      "prediction edges 24\n",
      "prediction edges 18\n",
      "prediction edges 13\n",
      "prediction edges 17\n",
      "prediction edges 12\n",
      "prediction edges 16\n",
      "prediction edges 19\n"
     ]
    },
    {
     "name": "stderr",
     "output_type": "stream",
     "text": [
      "\n",
      "\n",
      "[demoing]: 73it [00:01, 43.80it/s]\u001b[A\u001b[A\n",
      "\n",
      "[demoing]: 78it [00:01, 39.70it/s]\u001b[A\u001b[A"
     ]
    },
    {
     "name": "stdout",
     "output_type": "stream",
     "text": [
      "prediction edges 20\n",
      "prediction edges 10\n",
      "prediction edges 12\n",
      "prediction edges 8\n",
      "prediction edges 38\n",
      "prediction edges 25\n",
      "prediction edges 11\n",
      "prediction edges 22\n"
     ]
    },
    {
     "name": "stderr",
     "output_type": "stream",
     "text": [
      "\n",
      "\n",
      "[demoing]: 83it [00:01, 40.34it/s]\u001b[A\u001b[A\n",
      "\n",
      "[demoing]: 88it [00:02, 41.01it/s]\u001b[A\u001b[A"
     ]
    },
    {
     "name": "stdout",
     "output_type": "stream",
     "text": [
      "prediction edges 6\n",
      "prediction edges 25\n",
      "prediction edges 12\n",
      "prediction edges 29\n",
      "prediction edges 11\n",
      "prediction edges 9\n",
      "prediction edges 25\n",
      "prediction edges 19\n",
      "prediction edges 29\n"
     ]
    },
    {
     "name": "stderr",
     "output_type": "stream",
     "text": [
      "\n",
      "\n",
      "[demoing]: 93it [00:02, 41.03it/s]\u001b[A\u001b[A"
     ]
    },
    {
     "name": "stdout",
     "output_type": "stream",
     "text": [
      "prediction edges 18\n",
      "prediction edges 34\n",
      "prediction edges 33\n",
      "prediction edges 14\n",
      "prediction edges 4\n",
      "prediction edges 14\n",
      "prediction edges 8\n",
      "prediction edges 15\n",
      "prediction edges 18\n"
     ]
    },
    {
     "name": "stderr",
     "output_type": "stream",
     "text": [
      "\n",
      "\n",
      "[demoing]: 98it [00:02, 42.06it/s]\u001b[A\u001b[A\n",
      "\n",
      "[demoing]: 103it [00:02, 42.66it/s]\u001b[A\u001b[A"
     ]
    },
    {
     "name": "stdout",
     "output_type": "stream",
     "text": [
      "prediction edges 18\n",
      "prediction edges 14\n",
      "prediction edges 9\n",
      "prediction edges 9\n",
      "prediction edges 20\n",
      "prediction edges 15\n",
      "prediction edges 30\n",
      "prediction edges 32\n",
      "prediction edges 17\n"
     ]
    },
    {
     "name": "stderr",
     "output_type": "stream",
     "text": [
      "\n",
      "\n",
      "[demoing]: 108it [00:02, 41.93it/s]\u001b[A\u001b[A\n",
      "\n",
      "[demoing]: 113it [00:02, 42.70it/s]\u001b[A\u001b[A"
     ]
    },
    {
     "name": "stdout",
     "output_type": "stream",
     "text": [
      "prediction edges 30\n",
      "prediction edges 15\n",
      "prediction edges 13\n",
      "prediction edges 20\n",
      "prediction edges 10\n",
      "prediction edges 5\n",
      "prediction edges 22\n",
      "prediction edges 23\n",
      "prediction edges 9\n"
     ]
    },
    {
     "name": "stderr",
     "output_type": "stream",
     "text": [
      "\n",
      "\n",
      "[demoing]: 118it [00:02, 43.01it/s]\u001b[A\u001b[A\n",
      "\n",
      "[demoing]: 123it [00:02, 42.81it/s]\u001b[A\u001b[A"
     ]
    },
    {
     "name": "stdout",
     "output_type": "stream",
     "text": [
      "prediction edges 21\n",
      "prediction edges 7\n",
      "prediction edges 17\n",
      "prediction edges 4\n",
      "prediction edges 8\n",
      "prediction edges 42\n",
      "prediction edges 12\n",
      "prediction edges 7\n",
      "prediction edges 20\n"
     ]
    },
    {
     "name": "stderr",
     "output_type": "stream",
     "text": [
      "\n",
      "\n",
      "[demoing]: 128it [00:03, 42.71it/s]\u001b[A\u001b[A\n",
      "\n",
      "[demoing]: 133it [00:03, 42.48it/s]\u001b[A\u001b[A"
     ]
    },
    {
     "name": "stdout",
     "output_type": "stream",
     "text": [
      "prediction edges 18\n",
      "prediction edges 20\n",
      "prediction edges 17\n",
      "prediction edges 11\n",
      "prediction edges 15\n",
      "prediction edges 12\n",
      "prediction edges 26\n",
      "prediction edges 28\n",
      "prediction edges 13\n"
     ]
    },
    {
     "name": "stderr",
     "output_type": "stream",
     "text": [
      "\n",
      "\n",
      "[demoing]: 138it [00:03, 42.64it/s]\u001b[A\u001b[A"
     ]
    },
    {
     "name": "stdout",
     "output_type": "stream",
     "text": [
      "prediction edges 15\n",
      "prediction edges 14\n",
      "prediction edges 25\n",
      "prediction edges 8\n",
      "prediction edges 23\n",
      "prediction edges 15\n",
      "prediction edges 21\n",
      "prediction edges 27\n",
      "prediction edges 21\n"
     ]
    },
    {
     "name": "stderr",
     "output_type": "stream",
     "text": [
      "\n",
      "\n",
      "[demoing]: 143it [00:03, 42.61it/s]\u001b[A\u001b[A\n",
      "\n",
      "[demoing]: 148it [00:03, 42.85it/s]\u001b[A\u001b[A"
     ]
    },
    {
     "name": "stdout",
     "output_type": "stream",
     "text": [
      "prediction edges 8\n",
      "prediction edges 26\n",
      "prediction edges 8\n",
      "prediction edges 5\n",
      "prediction edges 9\n",
      "prediction edges 30\n",
      "prediction edges 10\n",
      "prediction edges 17\n",
      "prediction edges 6\n"
     ]
    },
    {
     "name": "stderr",
     "output_type": "stream",
     "text": [
      "\n",
      "\n",
      "[demoing]: 153it [00:03, 43.55it/s]\u001b[A\u001b[A\n",
      "\n",
      "[demoing]: 158it [00:03, 44.05it/s]\u001b[A\u001b[A"
     ]
    },
    {
     "name": "stdout",
     "output_type": "stream",
     "text": [
      "prediction edges 12\n",
      "prediction edges 12\n",
      "prediction edges 12\n",
      "prediction edges 4\n",
      "prediction edges 16\n",
      "prediction edges 17\n",
      "prediction edges 13\n",
      "prediction edges 24\n",
      "prediction edges 10\n"
     ]
    },
    {
     "name": "stderr",
     "output_type": "stream",
     "text": [
      "\n",
      "\n",
      "[demoing]: 163it [00:03, 43.60it/s]\u001b[A\u001b[A\n",
      "\n",
      "[demoing]: 168it [00:03, 42.79it/s]\u001b[A\u001b[A"
     ]
    },
    {
     "name": "stdout",
     "output_type": "stream",
     "text": [
      "prediction edges 11\n",
      "prediction edges 20\n",
      "prediction edges 21\n",
      "prediction edges 23\n",
      "prediction edges 25\n",
      "prediction edges 29\n",
      "prediction edges 26\n",
      "prediction edges 8\n",
      "prediction edges 18\n"
     ]
    },
    {
     "name": "stderr",
     "output_type": "stream",
     "text": [
      "\n",
      "\n",
      "[demoing]: 173it [00:04, 42.50it/s]\u001b[A\u001b[A\n",
      "\n",
      "[demoing]: 178it [00:04, 42.04it/s]\u001b[A\u001b[A"
     ]
    },
    {
     "name": "stdout",
     "output_type": "stream",
     "text": [
      "prediction edges 15\n",
      "prediction edges 23\n",
      "prediction edges 15\n",
      "prediction edges 29\n",
      "prediction edges 6\n",
      "prediction edges 32\n",
      "prediction edges 23\n",
      "prediction edges 24\n",
      "prediction edges 8\n"
     ]
    },
    {
     "name": "stderr",
     "output_type": "stream",
     "text": [
      "\n",
      "\n",
      "[demoing]: 183it [00:04, 42.01it/s]\u001b[A\u001b[A"
     ]
    },
    {
     "name": "stdout",
     "output_type": "stream",
     "text": [
      "prediction edges 23\n",
      "prediction edges 18\n",
      "prediction edges 26\n",
      "prediction edges 13\n",
      "prediction edges 18\n",
      "prediction edges 21\n",
      "prediction edges 19\n",
      "prediction edges 28\n",
      "prediction edges 16\n"
     ]
    },
    {
     "name": "stderr",
     "output_type": "stream",
     "text": [
      "\n",
      "\n",
      "[demoing]: 188it [00:04, 41.95it/s]\u001b[A\u001b[A\n",
      "\n",
      "[demoing]: 193it [00:04, 42.34it/s]\u001b[A\u001b[A"
     ]
    },
    {
     "name": "stdout",
     "output_type": "stream",
     "text": [
      "prediction edges 10\n",
      "prediction edges 10\n",
      "prediction edges 12\n",
      "prediction edges 15\n",
      "prediction edges 20\n",
      "prediction edges 21\n",
      "prediction edges 4\n",
      "prediction edges 5\n",
      "prediction edges 14\n"
     ]
    },
    {
     "name": "stderr",
     "output_type": "stream",
     "text": [
      "\n",
      "\n",
      "[demoing]: 198it [00:04, 42.62it/s]\u001b[A\u001b[A\n",
      "\n",
      "[demoing]: 203it [00:04, 42.84it/s]\u001b[A\u001b[A"
     ]
    },
    {
     "name": "stdout",
     "output_type": "stream",
     "text": [
      "prediction edges 26\n",
      "prediction edges 15\n",
      "prediction edges 22\n",
      "prediction edges 8\n",
      "prediction edges 10\n",
      "prediction edges 19\n",
      "prediction edges 15\n",
      "prediction edges 25\n",
      "prediction edges 23\n"
     ]
    },
    {
     "name": "stderr",
     "output_type": "stream",
     "text": [
      "\n",
      "\n",
      "[demoing]: 208it [00:04, 42.50it/s]\u001b[A\u001b[A\n",
      "\n",
      "[demoing]: 213it [00:05, 42.61it/s]\u001b[A\u001b[A"
     ]
    },
    {
     "name": "stdout",
     "output_type": "stream",
     "text": [
      "prediction edges 4\n",
      "prediction edges 25\n",
      "prediction edges 18\n",
      "prediction edges 20\n",
      "prediction edges 23\n",
      "prediction edges 17\n",
      "prediction edges 15\n",
      "prediction edges 6\n",
      "prediction edges 7\n"
     ]
    },
    {
     "name": "stderr",
     "output_type": "stream",
     "text": [
      "\n",
      "\n",
      "[demoing]: 218it [00:05, 43.16it/s]\u001b[A\u001b[A\n",
      "\n",
      "[demoing]: 223it [00:05, 42.22it/s]\u001b[A\u001b[A"
     ]
    },
    {
     "name": "stdout",
     "output_type": "stream",
     "text": [
      "prediction edges 15\n",
      "prediction edges 12\n",
      "prediction edges 17\n",
      "prediction edges 2\n",
      "prediction edges 20\n",
      "prediction edges 26\n",
      "prediction edges 30\n",
      "prediction edges 11\n",
      "prediction edges 31\n"
     ]
    },
    {
     "name": "stderr",
     "output_type": "stream",
     "text": [
      "\n",
      "\n",
      "[demoing]: 228it [00:05, 42.32it/s]\u001b[A\u001b[A"
     ]
    },
    {
     "name": "stdout",
     "output_type": "stream",
     "text": [
      "prediction edges 19\n",
      "prediction edges 21\n",
      "prediction edges 15\n",
      "prediction edges 19\n",
      "prediction edges 28\n",
      "prediction edges 17\n",
      "prediction edges 15\n",
      "prediction edges 26\n",
      "prediction edges 11\n"
     ]
    },
    {
     "name": "stderr",
     "output_type": "stream",
     "text": [
      "\n",
      "\n",
      "[demoing]: 233it [00:05, 42.75it/s]\u001b[A\u001b[A\n",
      "\n",
      "[demoing]: 238it [00:05, 43.08it/s]\u001b[A\u001b[A"
     ]
    },
    {
     "name": "stdout",
     "output_type": "stream",
     "text": [
      "prediction edges 4\n",
      "prediction edges 25\n",
      "prediction edges 17\n",
      "prediction edges 12\n",
      "prediction edges 8\n",
      "prediction edges 18\n",
      "prediction edges 30\n",
      "prediction edges 18\n",
      "prediction edges 14\n"
     ]
    },
    {
     "name": "stderr",
     "output_type": "stream",
     "text": [
      "\n",
      "\n",
      "[demoing]: 243it [00:05, 42.99it/s]\u001b[A\u001b[A\n",
      "\n",
      "[demoing]: 248it [00:05, 43.05it/s]\u001b[A\u001b[A"
     ]
    },
    {
     "name": "stdout",
     "output_type": "stream",
     "text": [
      "prediction edges 23\n",
      "prediction edges 12\n",
      "prediction edges 21\n",
      "prediction edges 7\n",
      "prediction edges 14\n",
      "prediction edges 22\n",
      "prediction edges 21\n",
      "prediction edges 19\n",
      "prediction edges 7\n"
     ]
    },
    {
     "name": "stderr",
     "output_type": "stream",
     "text": [
      "\n",
      "\n",
      "[demoing]: 253it [00:05, 43.27it/s]\u001b[A\u001b[A\n",
      "\n",
      "[demoing]: 258it [00:06, 43.28it/s]\u001b[A\u001b[A"
     ]
    },
    {
     "name": "stdout",
     "output_type": "stream",
     "text": [
      "prediction edges 7\n",
      "prediction edges 14\n",
      "prediction edges 21\n",
      "prediction edges 27\n",
      "prediction edges 20\n",
      "prediction edges 3\n",
      "prediction edges 14\n",
      "prediction edges 19\n",
      "prediction edges 3\n"
     ]
    },
    {
     "name": "stderr",
     "output_type": "stream",
     "text": [
      "\n",
      "\n",
      "[demoing]: 263it [00:06, 43.11it/s]\u001b[A\u001b[A\n",
      "\n",
      "[demoing]: 268it [00:06, 42.99it/s]\u001b[A\u001b[A"
     ]
    },
    {
     "name": "stdout",
     "output_type": "stream",
     "text": [
      "prediction edges 6\n",
      "prediction edges 27\n",
      "prediction edges 7\n",
      "prediction edges 29\n",
      "prediction edges 22\n",
      "prediction edges 7\n",
      "prediction edges 13\n",
      "prediction edges 13\n",
      "prediction edges 30\n"
     ]
    },
    {
     "name": "stderr",
     "output_type": "stream",
     "text": [
      "\n",
      "\n",
      "[demoing]: 273it [00:06, 43.22it/s]\u001b[A\u001b[A"
     ]
    },
    {
     "name": "stdout",
     "output_type": "stream",
     "text": [
      "prediction edges 12\n",
      "prediction edges 20\n",
      "prediction edges 23\n",
      "prediction edges 9\n",
      "prediction edges 10\n",
      "prediction edges 8\n",
      "prediction edges 19\n",
      "prediction edges 14\n",
      "prediction edges 28\n"
     ]
    },
    {
     "name": "stderr",
     "output_type": "stream",
     "text": [
      "\n",
      "\n",
      "[demoing]: 278it [00:06, 42.19it/s]\u001b[A\u001b[A\n",
      "\n",
      "[demoing]: 283it [00:06, 42.28it/s]\u001b[A\u001b[A"
     ]
    },
    {
     "name": "stdout",
     "output_type": "stream",
     "text": [
      "prediction edges 39\n",
      "prediction edges 28\n",
      "prediction edges 5\n",
      "prediction edges 26\n",
      "prediction edges 7\n",
      "prediction edges 20\n",
      "prediction edges 3\n",
      "prediction edges 9\n",
      "prediction edges 18\n"
     ]
    },
    {
     "name": "stderr",
     "output_type": "stream",
     "text": [
      "\n",
      "\n",
      "[demoing]: 288it [00:06, 42.57it/s]\u001b[A\u001b[A\n",
      "\n",
      "[demoing]: 293it [00:06, 42.80it/s]\u001b[A\u001b[A"
     ]
    },
    {
     "name": "stdout",
     "output_type": "stream",
     "text": [
      "prediction edges 30\n",
      "prediction edges 23\n",
      "prediction edges 18\n",
      "prediction edges 9\n",
      "prediction edges 14\n",
      "prediction edges 21\n",
      "prediction edges 26\n",
      "prediction edges 20\n",
      "prediction edges 14\n"
     ]
    },
    {
     "name": "stderr",
     "output_type": "stream",
     "text": [
      "\n",
      "\n",
      "[demoing]: 298it [00:07, 42.95it/s]\u001b[A\u001b[A\n",
      "\n",
      "[demoing]: 303it [00:07, 43.06it/s]\u001b[A\u001b[A"
     ]
    },
    {
     "name": "stdout",
     "output_type": "stream",
     "text": [
      "prediction edges 13\n",
      "prediction edges 30\n",
      "prediction edges 16\n",
      "prediction edges 7\n",
      "prediction edges 5\n",
      "prediction edges 5\n",
      "prediction edges 22\n",
      "prediction edges 29\n",
      "prediction edges 21\n"
     ]
    },
    {
     "name": "stderr",
     "output_type": "stream",
     "text": [
      "\n",
      "\n",
      "[demoing]: 308it [00:07, 43.00it/s]\u001b[A\u001b[A\n",
      "\n",
      "[demoing]: 313it [00:07, 43.56it/s]\u001b[A\u001b[A"
     ]
    },
    {
     "name": "stdout",
     "output_type": "stream",
     "text": [
      "prediction edges 18\n",
      "prediction edges 21\n",
      "prediction edges 16\n",
      "prediction edges 15\n",
      "prediction edges 4\n",
      "prediction edges 7\n",
      "prediction edges 14\n",
      "prediction edges 20\n",
      "prediction edges 10\n"
     ]
    },
    {
     "name": "stderr",
     "output_type": "stream",
     "text": [
      "\n",
      "\n",
      "[demoing]: 318it [00:07, 43.81it/s]\u001b[A\u001b[A"
     ]
    },
    {
     "name": "stdout",
     "output_type": "stream",
     "text": [
      "prediction edges 17\n",
      "prediction edges 19\n",
      "prediction edges 6\n",
      "prediction edges 19\n",
      "prediction edges 14\n",
      "prediction edges 6\n",
      "prediction edges 22\n",
      "prediction edges 16\n",
      "prediction edges 12\n",
      "prediction edges 9"
     ]
    },
    {
     "name": "stderr",
     "output_type": "stream",
     "text": [
      "\n",
      "\n",
      "[demoing]: 323it [00:07, 44.11it/s]\u001b[A\u001b[A\n",
      "\n",
      "[demoing]: 328it [00:07, 44.36it/s]\u001b[A\u001b[A"
     ]
    },
    {
     "name": "stdout",
     "output_type": "stream",
     "text": [
      "\n",
      "prediction edges 4\n",
      "prediction edges 10\n",
      "prediction edges 12\n",
      "prediction edges 12\n",
      "prediction edges 21\n",
      "prediction edges 16\n",
      "prediction edges 20\n",
      "prediction edges 39\n"
     ]
    },
    {
     "name": "stderr",
     "output_type": "stream",
     "text": [
      "\n",
      "\n",
      "[demoing]: 333it [00:07, 43.48it/s]\u001b[A\u001b[A\n",
      "\n",
      "[demoing]: 338it [00:07, 43.03it/s]\u001b[A\u001b[A"
     ]
    },
    {
     "name": "stdout",
     "output_type": "stream",
     "text": [
      "prediction edges 17\n",
      "prediction edges 5\n",
      "prediction edges 2\n",
      "prediction edges 25\n",
      "prediction edges 31\n",
      "prediction edges 24\n",
      "prediction edges 11\n",
      "prediction edges 12\n",
      "prediction edges 3\n"
     ]
    },
    {
     "name": "stderr",
     "output_type": "stream",
     "text": [
      "\n",
      "\n",
      "[demoing]: 343it [00:08, 43.73it/s]\u001b[A\u001b[A\n",
      "\n",
      "[demoing]: 348it [00:08, 43.51it/s]\u001b[A\u001b[A"
     ]
    },
    {
     "name": "stdout",
     "output_type": "stream",
     "text": [
      "prediction edges 13\n",
      "prediction edges 5\n",
      "prediction edges 13\n",
      "prediction edges 18\n",
      "prediction edges 6\n",
      "prediction edges 12\n",
      "prediction edges 31\n",
      "prediction edges 22\n",
      "prediction edges 17\n"
     ]
    },
    {
     "name": "stderr",
     "output_type": "stream",
     "text": [
      "\n",
      "\n",
      "[demoing]: 353it [00:08, 43.42it/s]\u001b[A\u001b[A\n",
      "\n",
      "[demoing]: 358it [00:08, 43.17it/s]\u001b[A\u001b[A"
     ]
    },
    {
     "name": "stdout",
     "output_type": "stream",
     "text": [
      "prediction edges 27\n",
      "prediction edges 21\n",
      "prediction edges 9\n",
      "prediction edges 7\n",
      "prediction edges 25\n",
      "prediction edges 24\n",
      "prediction edges 26\n",
      "prediction edges 9\n",
      "prediction edges 6\n"
     ]
    },
    {
     "name": "stderr",
     "output_type": "stream",
     "text": [
      "\n",
      "\n",
      "[demoing]: 363it [00:08, 43.17it/s]\u001b[A\u001b[A"
     ]
    },
    {
     "name": "stdout",
     "output_type": "stream",
     "text": [
      "prediction edges 12\n",
      "prediction edges 15\n",
      "prediction edges 17\n",
      "prediction edges 7\n",
      "prediction edges 30\n",
      "prediction edges 14\n",
      "prediction edges 14\n",
      "prediction edges 13\n",
      "prediction edges 13\n"
     ]
    },
    {
     "name": "stderr",
     "output_type": "stream",
     "text": [
      "\n",
      "\n",
      "[demoing]: 368it [00:08, 43.68it/s]\u001b[A\u001b[A\n",
      "\n",
      "[demoing]: 373it [00:08, 42.91it/s]\u001b[A\u001b[A"
     ]
    },
    {
     "name": "stdout",
     "output_type": "stream",
     "text": [
      "prediction edges 12\n",
      "prediction edges 12\n",
      "prediction edges 30\n",
      "prediction edges 23\n",
      "prediction edges 21\n",
      "prediction edges 23\n",
      "prediction edges 21\n",
      "prediction edges 2\n",
      "prediction edges 11\n"
     ]
    },
    {
     "name": "stderr",
     "output_type": "stream",
     "text": [
      "\n",
      "\n",
      "[demoing]: 378it [00:08, 43.04it/s]\u001b[A\u001b[A\n",
      "\n",
      "[demoing]: 383it [00:08, 43.36it/s]\u001b[A\u001b[A"
     ]
    },
    {
     "name": "stdout",
     "output_type": "stream",
     "text": [
      "prediction edges 31\n",
      "prediction edges 18\n",
      "prediction edges 17\n",
      "prediction edges 23\n",
      "prediction edges 15\n",
      "prediction edges 12\n",
      "prediction edges 6\n",
      "prediction edges 3\n",
      "prediction edges 28\n"
     ]
    },
    {
     "name": "stderr",
     "output_type": "stream",
     "text": [
      "\n",
      "\n",
      "[demoing]: 388it [00:09, 43.28it/s]\u001b[A\u001b[A\n",
      "\n",
      "[demoing]: 393it [00:09, 43.04it/s]\u001b[A\u001b[A"
     ]
    },
    {
     "name": "stdout",
     "output_type": "stream",
     "text": [
      "prediction edges 7\n",
      "prediction edges 30\n",
      "prediction edges 7\n",
      "prediction edges 25\n",
      "prediction edges 23\n",
      "prediction edges 16\n",
      "prediction edges 11\n",
      "prediction edges 27\n",
      "prediction edges 25\n"
     ]
    },
    {
     "name": "stderr",
     "output_type": "stream",
     "text": [
      "\n",
      "\n",
      "[demoing]: 398it [00:09, 42.13it/s]\u001b[A\u001b[A\n",
      "\n",
      "[demoing]: 403it [00:09, 42.48it/s]\u001b[A\u001b[A"
     ]
    },
    {
     "name": "stdout",
     "output_type": "stream",
     "text": [
      "prediction edges 25\n",
      "prediction edges 30\n",
      "prediction edges 29\n",
      "prediction edges 14\n",
      "prediction edges 25\n",
      "prediction edges 12\n",
      "prediction edges 17\n",
      "prediction edges 1\n",
      "prediction edges 28\n"
     ]
    },
    {
     "name": "stderr",
     "output_type": "stream",
     "text": [
      "\n",
      "\n",
      "[demoing]: 408it [00:09, 42.24it/s]\u001b[A\u001b[A"
     ]
    },
    {
     "name": "stdout",
     "output_type": "stream",
     "text": [
      "prediction edges 17\n",
      "prediction edges 14\n",
      "prediction edges 17\n",
      "prediction edges 34\n",
      "prediction edges 17\n",
      "prediction edges 14\n",
      "prediction edges 6\n",
      "prediction edges 18\n",
      "prediction edges 12\n"
     ]
    },
    {
     "name": "stderr",
     "output_type": "stream",
     "text": [
      "\n",
      "\n",
      "[demoing]: 413it [00:09, 42.68it/s]\u001b[A\u001b[A\n",
      "\n",
      "[demoing]: 418it [00:09, 42.89it/s]\u001b[A\u001b[A"
     ]
    },
    {
     "name": "stdout",
     "output_type": "stream",
     "text": [
      "prediction edges 25\n",
      "prediction edges 3\n",
      "prediction edges 9\n",
      "prediction edges 18\n",
      "prediction edges 9\n",
      "prediction edges 25\n",
      "prediction edges 7\n",
      "prediction edges 15\n",
      "prediction edges 15\n"
     ]
    },
    {
     "name": "stderr",
     "output_type": "stream",
     "text": [
      "\n",
      "\n",
      "[demoing]: 423it [00:09, 42.94it/s]\u001b[A\u001b[A\n",
      "\n",
      "[demoing]: 428it [00:10, 43.42it/s]\u001b[A\u001b[A"
     ]
    },
    {
     "name": "stdout",
     "output_type": "stream",
     "text": [
      "prediction edges 15\n",
      "prediction edges 17\n",
      "prediction edges 9\n",
      "prediction edges 17\n",
      "prediction edges 12\n",
      "prediction edges 4\n",
      "prediction edges 19\n",
      "prediction edges 15\n",
      "prediction edges 9\n"
     ]
    },
    {
     "name": "stderr",
     "output_type": "stream",
     "text": [
      "\n",
      "\n",
      "[demoing]: 433it [00:10, 43.81it/s]\u001b[A\u001b[A\n",
      "\n",
      "[demoing]: 438it [00:10, 42.93it/s]\u001b[A\u001b[A"
     ]
    },
    {
     "name": "stdout",
     "output_type": "stream",
     "text": [
      "prediction edges 13\n",
      "prediction edges 9\n",
      "prediction edges 4\n",
      "prediction edges 34\n",
      "prediction edges 26\n",
      "prediction edges 13\n",
      "prediction edges 19\n",
      "prediction edges 15\n",
      "prediction edges 26\n"
     ]
    },
    {
     "name": "stderr",
     "output_type": "stream",
     "text": [
      "\n",
      "\n",
      "[demoing]: 443it [00:10, 42.63it/s]\u001b[A\u001b[A\n",
      "\n",
      "[demoing]: 448it [00:10, 43.17it/s]\u001b[A\u001b[A"
     ]
    },
    {
     "name": "stdout",
     "output_type": "stream",
     "text": [
      "prediction edges 11\n",
      "prediction edges 11\n",
      "prediction edges 11\n",
      "prediction edges 23\n",
      "prediction edges 12\n",
      "prediction edges 25\n",
      "prediction edges 16\n",
      "prediction edges 1\n",
      "prediction edges 5\n"
     ]
    },
    {
     "name": "stderr",
     "output_type": "stream",
     "text": [
      "\n",
      "\n",
      "[demoing]: 453it [00:10, 43.51it/s]\u001b[A\u001b[A"
     ]
    },
    {
     "name": "stdout",
     "output_type": "stream",
     "text": [
      "prediction edges 8\n",
      "prediction edges 11\n",
      "prediction edges 13\n",
      "prediction edges 8\n",
      "prediction edges 24\n",
      "prediction edges 25\n",
      "prediction edges 15\n",
      "prediction edges 7\n",
      "prediction edges 14\n"
     ]
    },
    {
     "name": "stderr",
     "output_type": "stream",
     "text": [
      "\n",
      "\n",
      "[demoing]: 458it [00:10, 43.36it/s]\u001b[A\u001b[A\n",
      "\n",
      "[demoing]: 463it [00:10, 43.64it/s]\u001b[A\u001b[A"
     ]
    },
    {
     "name": "stdout",
     "output_type": "stream",
     "text": [
      "prediction edges 16\n",
      "prediction edges 16\n",
      "prediction edges 18\n",
      "prediction edges 7\n",
      "prediction edges 20\n",
      "prediction edges 14\n",
      "prediction edges 14\n",
      "prediction edges 10\n",
      "prediction edges 17\n"
     ]
    },
    {
     "name": "stderr",
     "output_type": "stream",
     "text": [
      "\n",
      "\n",
      "[demoing]: 468it [00:10, 43.26it/s]\u001b[A\u001b[A\n",
      "\n",
      "[demoing]: 473it [00:11, 42.74it/s]\u001b[A\u001b[A"
     ]
    },
    {
     "name": "stdout",
     "output_type": "stream",
     "text": [
      "prediction edges 16\n",
      "prediction edges 23\n",
      "prediction edges 16\n",
      "prediction edges 24\n",
      "prediction edges 32\n",
      "prediction edges 22\n",
      "prediction edges 15\n",
      "prediction edges 35\n",
      "prediction edges 27\n"
     ]
    },
    {
     "name": "stderr",
     "output_type": "stream",
     "text": [
      "\n",
      "\n",
      "[demoing]: 478it [00:11, 41.99it/s]\u001b[A\u001b[A\n",
      "\n",
      "[demoing]: 483it [00:11, 42.47it/s]\u001b[A\u001b[A"
     ]
    },
    {
     "name": "stdout",
     "output_type": "stream",
     "text": [
      "prediction edges 15\n",
      "prediction edges 30\n",
      "prediction edges 10\n",
      "prediction edges 26\n",
      "prediction edges 16\n",
      "prediction edges 11\n",
      "prediction edges 15\n",
      "prediction edges 3\n",
      "prediction edges 13\n"
     ]
    },
    {
     "name": "stderr",
     "output_type": "stream",
     "text": [
      "\n",
      "\n",
      "[demoing]: 488it [00:11, 42.89it/s]\u001b[A\u001b[A\n",
      "\n",
      "[demoing]: 493it [00:11, 43.65it/s]\u001b[A\u001b[A"
     ]
    },
    {
     "name": "stdout",
     "output_type": "stream",
     "text": [
      "prediction edges 5\n",
      "prediction edges 14\n",
      "prediction edges 8\n",
      "prediction edges 7\n",
      "prediction edges 9\n",
      "prediction edges 12\n",
      "prediction edges 10\n",
      "prediction edges 7\n",
      "prediction edges 7\n",
      "prediction edges 8\n"
     ]
    },
    {
     "name": "stderr",
     "output_type": "stream",
     "text": [
      "\n",
      "\n",
      "[demoing]: 498it [00:11, 43.92it/s]\u001b[A\u001b[A\n",
      "\n",
      "[demoing]: 503it [00:11, 44.32it/s]\u001b[A\u001b[A"
     ]
    },
    {
     "name": "stdout",
     "output_type": "stream",
     "text": [
      "prediction edges 26\n",
      "prediction edges 25\n",
      "prediction edges 4\n",
      "prediction edges 5\n",
      "prediction edges 22\n",
      "prediction edges 12\n",
      "prediction edges 10\n",
      "prediction edges 13\n",
      "prediction edges 14\n"
     ]
    },
    {
     "name": "stderr",
     "output_type": "stream",
     "text": [
      "\n",
      "\n",
      "[demoing]: 508it [00:11, 44.05it/s]\u001b[A\u001b[A\n",
      "\n",
      "[demoing]: 513it [00:11, 43.31it/s]\u001b[A\u001b[A"
     ]
    },
    {
     "name": "stdout",
     "output_type": "stream",
     "text": [
      "prediction edges 20\n",
      "prediction edges 13\n",
      "prediction edges 18\n",
      "prediction edges 23\n",
      "prediction edges 17\n",
      "prediction edges 23\n",
      "prediction edges 22\n",
      "prediction edges 6\n",
      "prediction edges 19\n",
      "prediction edges 28\n"
     ]
    },
    {
     "name": "stderr",
     "output_type": "stream",
     "text": [
      "\n",
      "\n",
      "[demoing]: 518it [00:12, 43.55it/s]\u001b[A\u001b[A"
     ]
    },
    {
     "name": "stdout",
     "output_type": "stream",
     "text": [
      "prediction edges 17\n",
      "prediction edges 22\n",
      "prediction edges 21\n",
      "prediction edges 14\n",
      "prediction edges 19\n",
      "prediction edges 5\n",
      "prediction edges 3\n",
      "prediction edges 2\n",
      "prediction edges 28\n"
     ]
    },
    {
     "name": "stderr",
     "output_type": "stream",
     "text": [
      "\n",
      "\n",
      "[demoing]: 523it [00:12, 42.72it/s]\u001b[A\u001b[A\n",
      "\n",
      "[demoing]: 528it [00:12, 42.93it/s]\u001b[A\u001b[A"
     ]
    },
    {
     "name": "stdout",
     "output_type": "stream",
     "text": [
      "prediction edges 13\n",
      "prediction edges 17\n",
      "prediction edges 14\n",
      "prediction edges 28\n",
      "prediction edges 22\n",
      "prediction edges 11\n",
      "prediction edges 17\n",
      "prediction edges 21\n",
      "prediction edges 31\n"
     ]
    },
    {
     "name": "stderr",
     "output_type": "stream",
     "text": [
      "\n",
      "\n",
      "[demoing]: 533it [00:12, 43.05it/s]\u001b[A\u001b[A\n",
      "\n",
      "[demoing]: 538it [00:12, 43.73it/s]\u001b[A\u001b[A"
     ]
    },
    {
     "name": "stdout",
     "output_type": "stream",
     "text": [
      "prediction edges 12\n",
      "prediction edges 9\n",
      "prediction edges 19\n",
      "prediction edges 10\n",
      "prediction edges 12\n",
      "prediction edges 13\n",
      "prediction edges 14\n",
      "prediction edges 10\n",
      "prediction edges 42\n"
     ]
    },
    {
     "name": "stderr",
     "output_type": "stream",
     "text": [
      "\n",
      "\n",
      "[demoing]: 543it [00:12, 42.30it/s]\u001b[A\u001b[A\n",
      "\n",
      "[demoing]: 548it [00:12, 42.50it/s]\u001b[A\u001b[A"
     ]
    },
    {
     "name": "stdout",
     "output_type": "stream",
     "text": [
      "prediction edges 35\n",
      "prediction edges 28\n",
      "prediction edges 21\n",
      "prediction edges 28\n",
      "prediction edges 6\n",
      "prediction edges 17\n",
      "prediction edges 23\n",
      "prediction edges 15\n",
      "prediction edges 28\n"
     ]
    },
    {
     "name": "stderr",
     "output_type": "stream",
     "text": [
      "\n",
      "\n",
      "[demoing]: 553it [00:12, 42.99it/s]\u001b[A\u001b[A\n",
      "\n",
      "[demoing]: 558it [00:13, 42.94it/s]\u001b[A\u001b[A"
     ]
    },
    {
     "name": "stdout",
     "output_type": "stream",
     "text": [
      "prediction edges 13\n",
      "prediction edges 13\n",
      "prediction edges 14\n",
      "prediction edges 9\n",
      "prediction edges 11\n",
      "prediction edges 15\n",
      "prediction edges 6\n",
      "prediction edges 36\n",
      "prediction edges 21\n"
     ]
    },
    {
     "name": "stderr",
     "output_type": "stream",
     "text": [
      "\n",
      "\n",
      "[demoing]: 563it [00:13, 43.16it/s]\u001b[A\u001b[A"
     ]
    },
    {
     "name": "stdout",
     "output_type": "stream",
     "text": [
      "prediction edges 10\n",
      "prediction edges 36\n",
      "prediction edges 5\n",
      "prediction edges 11\n",
      "prediction edges 10\n",
      "prediction edges 17\n",
      "prediction edges 25\n",
      "prediction edges 12\n",
      "prediction edges 3\n"
     ]
    },
    {
     "name": "stderr",
     "output_type": "stream",
     "text": [
      "\n",
      "\n",
      "[demoing]: 568it [00:13, 43.70it/s]\u001b[A\u001b[A\n",
      "\n",
      "[demoing]: 573it [00:13, 43.00it/s]\u001b[A\u001b[A"
     ]
    },
    {
     "name": "stdout",
     "output_type": "stream",
     "text": [
      "prediction edges 17\n",
      "prediction edges 24\n",
      "prediction edges 16\n",
      "prediction edges 21\n",
      "prediction edges 29\n",
      "prediction edges 21\n",
      "prediction edges 37\n",
      "prediction edges 7\n",
      "prediction edges 18\n"
     ]
    },
    {
     "name": "stderr",
     "output_type": "stream",
     "text": [
      "\n",
      "\n",
      "[demoing]: 578it [00:13, 43.12it/s]\u001b[A\u001b[A\n",
      "\n",
      "[demoing]: 583it [00:13, 42.60it/s]\u001b[A\u001b[A"
     ]
    },
    {
     "name": "stdout",
     "output_type": "stream",
     "text": [
      "prediction edges 6\n",
      "prediction edges 5\n",
      "prediction edges 27\n",
      "prediction edges 9\n",
      "prediction edges 26\n",
      "prediction edges 27\n",
      "prediction edges 8\n",
      "prediction edges 7\n",
      "prediction edges 10\n"
     ]
    },
    {
     "name": "stderr",
     "output_type": "stream",
     "text": [
      "\n",
      "\n",
      "[demoing]: 588it [00:13, 43.39it/s]\u001b[A\u001b[A\n",
      "\n",
      "[demoing]: 593it [00:13, 43.52it/s]\u001b[A\u001b[A"
     ]
    },
    {
     "name": "stdout",
     "output_type": "stream",
     "text": [
      "prediction edges 8\n",
      "prediction edges 7\n",
      "prediction edges 14\n",
      "prediction edges 13\n",
      "prediction edges 23\n",
      "prediction edges 11\n",
      "prediction edges 17\n",
      "prediction edges 19\n",
      "prediction edges 19\n"
     ]
    },
    {
     "name": "stderr",
     "output_type": "stream",
     "text": [
      "\n",
      "\n",
      "[demoing]: 598it [00:13, 43.33it/s]\u001b[A\u001b[A\n",
      "\n",
      "[demoing]: 603it [00:14, 43.78it/s]\u001b[A\u001b[A"
     ]
    },
    {
     "name": "stdout",
     "output_type": "stream",
     "text": [
      "prediction edges 17\n",
      "prediction edges 11\n",
      "prediction edges 32\n",
      "prediction edges 3\n",
      "prediction edges 12\n",
      "prediction edges 5\n",
      "prediction edges 25\n",
      "prediction edges 9\n",
      "prediction edges 16\n"
     ]
    },
    {
     "name": "stderr",
     "output_type": "stream",
     "text": [
      "\n",
      "\n",
      "[demoing]: 608it [00:14, 44.41it/s]\u001b[A\u001b[A"
     ]
    },
    {
     "name": "stdout",
     "output_type": "stream",
     "text": [
      "prediction edges 9\n",
      "prediction edges 7\n",
      "prediction edges 9\n",
      "prediction edges 9\n",
      "prediction edges 6\n",
      "prediction edges 16\n",
      "prediction edges 5\n",
      "prediction edges 17\n",
      "prediction edges 32\n"
     ]
    },
    {
     "name": "stderr",
     "output_type": "stream",
     "text": [
      "\n",
      "\n",
      "[demoing]: 613it [00:14, 44.08it/s]\u001b[A\u001b[A\n",
      "\n",
      "[demoing]: 618it [00:14, 43.21it/s]\u001b[A\u001b[A"
     ]
    },
    {
     "name": "stdout",
     "output_type": "stream",
     "text": [
      "prediction edges 14\n",
      "prediction edges 20\n",
      "prediction edges 33\n",
      "prediction edges 35\n",
      "prediction edges 11\n",
      "prediction edges 20\n",
      "prediction edges 20\n",
      "prediction edges 21\n",
      "prediction edges 12\n"
     ]
    },
    {
     "name": "stderr",
     "output_type": "stream",
     "text": [
      "\n",
      "\n",
      "[demoing]: 623it [00:14, 42.78it/s]\u001b[A\u001b[A\n",
      "\n",
      "[demoing]: 628it [00:14, 43.42it/s]\u001b[A\u001b[A"
     ]
    },
    {
     "name": "stdout",
     "output_type": "stream",
     "text": [
      "prediction edges 37\n",
      "prediction edges 8\n",
      "prediction edges 22\n",
      "prediction edges 2\n",
      "prediction edges 24\n",
      "prediction edges 11\n",
      "prediction edges 8\n",
      "prediction edges 22\n",
      "prediction edges 16\n"
     ]
    },
    {
     "name": "stderr",
     "output_type": "stream",
     "text": [
      "\n",
      "\n",
      "[demoing]: 633it [00:14, 42.83it/s]\u001b[A\u001b[A\n",
      "\n",
      "[demoing]: 638it [00:14, 43.59it/s]\u001b[A\u001b[A"
     ]
    },
    {
     "name": "stdout",
     "output_type": "stream",
     "text": [
      "prediction edges 30\n",
      "prediction edges 23\n",
      "prediction edges 25\n",
      "prediction edges 12\n",
      "prediction edges 9\n",
      "prediction edges 9\n",
      "prediction edges 13\n",
      "prediction edges 16\n",
      "prediction edges 13\n"
     ]
    },
    {
     "name": "stderr",
     "output_type": "stream",
     "text": [
      "\n",
      "\n",
      "[demoing]: 643it [00:15, 43.12it/s]\u001b[A\u001b[A\n",
      "\n",
      "[demoing]: 648it [00:15, 43.75it/s]\u001b[A\u001b[A"
     ]
    },
    {
     "name": "stdout",
     "output_type": "stream",
     "text": [
      "prediction edges 21\n",
      "prediction edges 29\n",
      "prediction edges 10\n",
      "prediction edges 25\n",
      "prediction edges 4\n",
      "prediction edges 17\n",
      "prediction edges 10\n",
      "prediction edges 10\n",
      "prediction edges 19\n"
     ]
    },
    {
     "name": "stderr",
     "output_type": "stream",
     "text": [
      "\n",
      "\n",
      "[demoing]: 653it [00:15, 44.03it/s]\u001b[A\u001b[A"
     ]
    },
    {
     "name": "stdout",
     "output_type": "stream",
     "text": [
      "prediction edges 7\n",
      "prediction edges 9\n",
      "prediction edges 22\n",
      "prediction edges 19\n",
      "prediction edges 17\n",
      "prediction edges 5\n",
      "prediction edges 5\n",
      "prediction edges 14\n",
      "prediction edges 25\n"
     ]
    },
    {
     "name": "stderr",
     "output_type": "stream",
     "text": [
      "\n",
      "\n",
      "[demoing]: 658it [00:15, 44.17it/s]\u001b[A\u001b[A\n",
      "\n",
      "[demoing]: 663it [00:15, 44.90it/s]\u001b[A\u001b[A"
     ]
    },
    {
     "name": "stdout",
     "output_type": "stream",
     "text": [
      "prediction edges 17\n",
      "prediction edges 7\n",
      "prediction edges 2\n",
      "prediction edges 3\n",
      "prediction edges 3\n",
      "prediction edges 4\n",
      "prediction edges 2\n",
      "prediction edges 21\n",
      "prediction edges 16\n",
      "prediction edges 22\n"
     ]
    },
    {
     "name": "stderr",
     "output_type": "stream",
     "text": [
      "\n",
      "\n",
      "[demoing]: 668it [00:15, 44.43it/s]\u001b[A\u001b[A\n",
      "\n",
      "[demoing]: 673it [00:15, 43.88it/s]\u001b[A\u001b[A"
     ]
    },
    {
     "name": "stdout",
     "output_type": "stream",
     "text": [
      "prediction edges 25\n",
      "prediction edges 31\n",
      "prediction edges 7\n",
      "prediction edges 16\n",
      "prediction edges 15\n",
      "prediction edges 27\n",
      "prediction edges 10\n",
      "prediction edges 3\n",
      "prediction edges 11\n"
     ]
    },
    {
     "name": "stderr",
     "output_type": "stream",
     "text": [
      "\n",
      "\n",
      "[demoing]: 678it [00:15, 43.69it/s]\u001b[A\u001b[A\n",
      "\n",
      "[demoing]: 683it [00:15, 43.20it/s]\u001b[A\u001b[A"
     ]
    },
    {
     "name": "stdout",
     "output_type": "stream",
     "text": [
      "prediction edges 35\n",
      "prediction edges 19\n",
      "prediction edges 28\n",
      "prediction edges 5\n",
      "prediction edges 28\n",
      "prediction edges 4\n",
      "prediction edges 15\n",
      "prediction edges 13\n",
      "prediction edges 34\n"
     ]
    },
    {
     "name": "stderr",
     "output_type": "stream",
     "text": [
      "\n",
      "\n",
      "[demoing]: 688it [00:16, 42.77it/s]\u001b[A\u001b[A\n",
      "\n",
      "[demoing]: 693it [00:16, 43.36it/s]\u001b[A\u001b[A"
     ]
    },
    {
     "name": "stdout",
     "output_type": "stream",
     "text": [
      "prediction edges 15\n",
      "prediction edges 11\n",
      "prediction edges 23\n",
      "prediction edges 12\n",
      "prediction edges 14\n",
      "prediction edges 20\n",
      "prediction edges 12\n",
      "prediction edges 15\n",
      "prediction edges 4\n"
     ]
    },
    {
     "name": "stderr",
     "output_type": "stream",
     "text": [
      "\n",
      "\n",
      "[demoing]: 698it [00:16, 44.08it/s]\u001b[A\u001b[A\n",
      "\n",
      "[demoing]: 703it [00:16, 43.65it/s]\u001b[A\u001b[A"
     ]
    },
    {
     "name": "stdout",
     "output_type": "stream",
     "text": [
      "prediction edges 15\n",
      "prediction edges 2\n",
      "prediction edges 10\n",
      "prediction edges 10\n",
      "prediction edges 3\n",
      "prediction edges 4\n",
      "prediction edges 33\n",
      "prediction edges 13\n",
      "prediction edges 28\n"
     ]
    },
    {
     "name": "stderr",
     "output_type": "stream",
     "text": [
      "\n",
      "\n",
      "[demoing]: 708it [00:16, 43.05it/s]\u001b[A\u001b[A"
     ]
    },
    {
     "name": "stdout",
     "output_type": "stream",
     "text": [
      "prediction edges 24\n",
      "prediction edges 17\n",
      "prediction edges 16\n",
      "prediction edges 17\n",
      "prediction edges 36\n",
      "prediction edges 5\n",
      "prediction edges 14\n",
      "prediction edges 12\n",
      "prediction edges 12\n"
     ]
    },
    {
     "name": "stderr",
     "output_type": "stream",
     "text": [
      "\n",
      "\n",
      "[demoing]: 713it [00:16, 43.75it/s]\u001b[A\u001b[A\n",
      "\n",
      "[demoing]: 718it [00:16, 43.70it/s]\u001b[A\u001b[A"
     ]
    },
    {
     "name": "stdout",
     "output_type": "stream",
     "text": [
      "prediction edges 7\n",
      "prediction edges 29\n",
      "prediction edges 3\n",
      "prediction edges 12\n",
      "prediction edges 15\n",
      "prediction edges 19\n",
      "prediction edges 7\n",
      "prediction edges 7\n",
      "prediction edges 10\n"
     ]
    },
    {
     "name": "stderr",
     "output_type": "stream",
     "text": [
      "\n",
      "\n",
      "[demoing]: 723it [00:16, 44.18it/s]\u001b[A\u001b[A\n",
      "\n",
      "[demoing]: 728it [00:16, 43.73it/s]\u001b[A\u001b[A"
     ]
    },
    {
     "name": "stdout",
     "output_type": "stream",
     "text": [
      "prediction edges 4\n",
      "prediction edges 15\n",
      "prediction edges 32\n",
      "prediction edges 15\n",
      "prediction edges 12\n",
      "prediction edges 16\n",
      "prediction edges 24\n",
      "prediction edges 13\n",
      "prediction edges 25\n"
     ]
    },
    {
     "name": "stderr",
     "output_type": "stream",
     "text": [
      "\n",
      "\n",
      "[demoing]: 733it [00:17, 43.04it/s]\u001b[A\u001b[A\n",
      "\n",
      "[demoing]: 738it [00:17, 43.82it/s]\u001b[A\u001b[A"
     ]
    },
    {
     "name": "stdout",
     "output_type": "stream",
     "text": [
      "prediction edges 22\n",
      "prediction edges 30\n",
      "prediction edges 17\n",
      "prediction edges 5\n",
      "prediction edges 15\n",
      "prediction edges 4\n",
      "prediction edges 9\n",
      "prediction edges 16\n",
      "prediction edges 25\n"
     ]
    },
    {
     "name": "stderr",
     "output_type": "stream",
     "text": [
      "\n",
      "\n",
      "[demoing]: 743it [00:17, 43.56it/s]\u001b[A\u001b[A\n",
      "\n",
      "[demoing]: 748it [00:17, 42.75it/s]\u001b[A\u001b[A"
     ]
    },
    {
     "name": "stdout",
     "output_type": "stream",
     "text": [
      "prediction edges 19\n",
      "prediction edges 29\n",
      "prediction edges 13\n",
      "prediction edges 13\n",
      "prediction edges 15\n",
      "prediction edges 33\n",
      "prediction edges 27\n",
      "prediction edges 23\n",
      "prediction edges 19\n"
     ]
    },
    {
     "name": "stderr",
     "output_type": "stream",
     "text": [
      "\n",
      "\n",
      "[demoing]: 753it [00:17, 42.76it/s]\u001b[A\u001b[A"
     ]
    },
    {
     "name": "stdout",
     "output_type": "stream",
     "text": [
      "prediction edges 19\n",
      "prediction edges 21\n",
      "prediction edges 25\n",
      "prediction edges 11\n",
      "prediction edges 12\n",
      "prediction edges 34\n",
      "prediction edges 17\n",
      "prediction edges 13\n",
      "prediction edges 19\n"
     ]
    },
    {
     "name": "stderr",
     "output_type": "stream",
     "text": [
      "\n",
      "\n",
      "[demoing]: 758it [00:17, 42.45it/s]\u001b[A\u001b[A\n",
      "\n",
      "[demoing]: 763it [00:17, 43.15it/s]\u001b[A\u001b[A"
     ]
    },
    {
     "name": "stdout",
     "output_type": "stream",
     "text": [
      "prediction edges 26\n",
      "prediction edges 17\n",
      "prediction edges 7\n",
      "prediction edges 21\n",
      "prediction edges 9\n",
      "prediction edges 12\n",
      "prediction edges 13\n",
      "prediction edges 9\n",
      "prediction edges 24\n",
      "prediction edges 4\n"
     ]
    },
    {
     "name": "stderr",
     "output_type": "stream",
     "text": [
      "\n",
      "\n",
      "[demoing]: 768it [00:17, 43.30it/s]\u001b[A\u001b[A\n",
      "\n",
      "[demoing]: 773it [00:17, 42.67it/s]\u001b[A\u001b[A"
     ]
    },
    {
     "name": "stdout",
     "output_type": "stream",
     "text": [
      "prediction edges 27\n",
      "prediction edges 24\n",
      "prediction edges 16\n",
      "prediction edges 12\n",
      "prediction edges 23\n",
      "prediction edges 38\n",
      "prediction edges 8\n",
      "prediction edges 15\n",
      "prediction edges 23\n"
     ]
    },
    {
     "name": "stderr",
     "output_type": "stream",
     "text": [
      "\n",
      "\n",
      "[demoing]: 778it [00:18, 42.88it/s]\u001b[A\u001b[A\n",
      "\n",
      "[demoing]: 783it [00:18, 42.53it/s]\u001b[A\u001b[A"
     ]
    },
    {
     "name": "stdout",
     "output_type": "stream",
     "text": [
      "prediction edges 3\n",
      "prediction edges 19\n",
      "prediction edges 23\n",
      "prediction edges 9\n",
      "prediction edges 30\n",
      "prediction edges 11\n",
      "prediction edges 27\n",
      "prediction edges 22\n",
      "prediction edges 42\n"
     ]
    },
    {
     "name": "stderr",
     "output_type": "stream",
     "text": [
      "\n",
      "\n",
      "[demoing]: 788it [00:18, 41.95it/s]\u001b[A\u001b[A\n",
      "\n",
      "[demoing]: 793it [00:18, 42.93it/s]\u001b[A\u001b[A"
     ]
    },
    {
     "name": "stdout",
     "output_type": "stream",
     "text": [
      "prediction edges 11\n",
      "prediction edges 17\n",
      "prediction edges 20\n",
      "prediction edges 15\n",
      "prediction edges 14\n",
      "prediction edges 5\n",
      "prediction edges 7\n",
      "prediction edges 20\n",
      "prediction edges 11\n",
      "prediction edges 3\n"
     ]
    },
    {
     "name": "stderr",
     "output_type": "stream",
     "text": [
      "\n",
      "\n",
      "[demoing]: 798it [00:18, 43.20it/s]\u001b[A\u001b[A\n",
      "\n",
      "[demoing]: 803it [00:18, 42.74it/s]\u001b[A\u001b[A"
     ]
    },
    {
     "name": "stdout",
     "output_type": "stream",
     "text": [
      "prediction edges 19\n",
      "prediction edges 21\n",
      "prediction edges 7\n",
      "prediction edges 32\n",
      "prediction edges 27\n",
      "prediction edges 13\n",
      "prediction edges 13\n",
      "prediction edges 18\n",
      "prediction edges 45\n"
     ]
    },
    {
     "name": "stderr",
     "output_type": "stream",
     "text": [
      "\n",
      "\n",
      "[demoing]: 808it [00:18, 41.75it/s]\u001b[A\u001b[A\n",
      "\n",
      "[demoing]: 813it [00:18, 42.73it/s]\u001b[A\u001b[A"
     ]
    },
    {
     "name": "stdout",
     "output_type": "stream",
     "text": [
      "prediction edges 15\n",
      "prediction edges 25\n",
      "prediction edges 23\n",
      "prediction edges 15\n",
      "prediction edges 14\n",
      "prediction edges 13\n",
      "prediction edges 9\n",
      "prediction edges 11\n",
      "prediction edges 8\n"
     ]
    },
    {
     "name": "stderr",
     "output_type": "stream",
     "text": [
      "\n",
      "\n",
      "[demoing]: 818it [00:19, 43.52it/s]\u001b[A\u001b[A\n",
      "\n",
      "[demoing]: 823it [00:19, 43.82it/s]\u001b[A\u001b[A"
     ]
    },
    {
     "name": "stdout",
     "output_type": "stream",
     "text": [
      "prediction edges 5\n",
      "prediction edges 3\n",
      "prediction edges 20\n",
      "prediction edges 5\n",
      "prediction edges 14\n",
      "prediction edges 16\n",
      "prediction edges 9\n",
      "prediction edges 22\n",
      "prediction edges 18\n",
      "prediction edges 9\n"
     ]
    },
    {
     "name": "stderr",
     "output_type": "stream",
     "text": [
      "\n",
      "\n",
      "[demoing]: 828it [00:19, 43.30it/s]\u001b[A\u001b[A"
     ]
    },
    {
     "name": "stdout",
     "output_type": "stream",
     "text": [
      "prediction edges 21\n",
      "prediction edges 22\n",
      "prediction edges 17\n",
      "prediction edges 10\n",
      "prediction edges 29\n",
      "prediction edges 10\n",
      "prediction edges 9\n",
      "prediction edges 19\n",
      "prediction edges 31\n"
     ]
    },
    {
     "name": "stderr",
     "output_type": "stream",
     "text": [
      "\n",
      "\n",
      "[demoing]: 833it [00:19, 43.09it/s]\u001b[A\u001b[A\n",
      "\n",
      "[demoing]: 838it [00:19, 43.07it/s]\u001b[A\u001b[A"
     ]
    },
    {
     "name": "stdout",
     "output_type": "stream",
     "text": [
      "prediction edges 25\n",
      "prediction edges 12\n",
      "prediction edges 27\n",
      "prediction edges 19\n",
      "prediction edges 3\n",
      "prediction edges 26\n",
      "prediction edges 6\n",
      "prediction edges 7\n",
      "prediction edges 4\n"
     ]
    },
    {
     "name": "stderr",
     "output_type": "stream",
     "text": [
      "\n",
      "\n",
      "[demoing]: 843it [00:19, 43.36it/s]\u001b[A\u001b[A\n",
      "\n",
      "[demoing]: 848it [00:19, 42.80it/s]\u001b[A\u001b[A"
     ]
    },
    {
     "name": "stdout",
     "output_type": "stream",
     "text": [
      "prediction edges 27\n",
      "prediction edges 12\n",
      "prediction edges 22\n",
      "prediction edges 30\n",
      "prediction edges 24\n",
      "prediction edges 24\n",
      "prediction edges 8\n",
      "prediction edges 14\n",
      "prediction edges 18\n"
     ]
    },
    {
     "name": "stderr",
     "output_type": "stream",
     "text": [
      "\n",
      "\n",
      "[demoing]: 853it [00:19, 42.24it/s]\u001b[A\u001b[A\n",
      "\n",
      "[demoing]: 858it [00:19, 42.56it/s]\u001b[A\u001b[A"
     ]
    },
    {
     "name": "stdout",
     "output_type": "stream",
     "text": [
      "prediction edges 41\n",
      "prediction edges 22\n",
      "prediction edges 19\n",
      "prediction edges 5\n",
      "prediction edges 18\n",
      "prediction edges 20\n",
      "prediction edges 21\n",
      "prediction edges 14\n",
      "prediction edges 29\n"
     ]
    },
    {
     "name": "stderr",
     "output_type": "stream",
     "text": [
      "\n",
      "\n",
      "[demoing]: 863it [00:20, 41.87it/s]\u001b[A\u001b[A\n",
      "\n",
      "[demoing]: 868it [00:20, 42.51it/s]\u001b[A\u001b[A"
     ]
    },
    {
     "name": "stdout",
     "output_type": "stream",
     "text": [
      "prediction edges 26\n",
      "prediction edges 18\n",
      "prediction edges 35\n",
      "prediction edges 3\n",
      "prediction edges 20\n",
      "prediction edges 1\n",
      "prediction edges 6\n",
      "prediction edges 15\n",
      "prediction edges 22\n"
     ]
    },
    {
     "name": "stderr",
     "output_type": "stream",
     "text": [
      "\n",
      "\n",
      "[demoing]: 873it [00:20, 43.13it/s]\u001b[A\u001b[A"
     ]
    },
    {
     "name": "stdout",
     "output_type": "stream",
     "text": [
      "prediction edges 12\n",
      "prediction edges 19\n",
      "prediction edges 7\n",
      "prediction edges 13\n",
      "prediction edges 19\n",
      "prediction edges 27\n",
      "prediction edges 11\n",
      "prediction edges 9\n",
      "prediction edges 28\n"
     ]
    },
    {
     "name": "stderr",
     "output_type": "stream",
     "text": [
      "\n",
      "\n",
      "[demoing]: 878it [00:20, 42.92it/s]\u001b[A\u001b[A\n",
      "\n",
      "[demoing]: 883it [00:20, 43.24it/s]\u001b[A\u001b[A"
     ]
    },
    {
     "name": "stdout",
     "output_type": "stream",
     "text": [
      "prediction edges 18\n",
      "prediction edges 25\n",
      "prediction edges 7\n",
      "prediction edges 4\n",
      "prediction edges 15\n",
      "prediction edges 16\n",
      "prediction edges 9\n",
      "prediction edges 7\n",
      "prediction edges 7\n"
     ]
    },
    {
     "name": "stderr",
     "output_type": "stream",
     "text": [
      "\n",
      "\n",
      "[demoing]: 888it [00:20, 42.93it/s]\u001b[A\u001b[A\n",
      "\n",
      "[demoing]: 893it [00:20, 43.49it/s]\u001b[A\u001b[A"
     ]
    },
    {
     "name": "stdout",
     "output_type": "stream",
     "text": [
      "prediction edges 33\n",
      "prediction edges 26\n",
      "prediction edges 8\n",
      "prediction edges 23\n",
      "prediction edges 4\n",
      "prediction edges 4\n",
      "prediction edges 14\n",
      "prediction edges 18\n",
      "prediction edges 19\n"
     ]
    },
    {
     "name": "stderr",
     "output_type": "stream",
     "text": [
      "\n",
      "\n",
      "[demoing]: 898it [00:20, 43.84it/s]\u001b[A\u001b[A\n",
      "\n",
      "[demoing]: 903it [00:21, 43.47it/s]\u001b[A\u001b[A"
     ]
    },
    {
     "name": "stdout",
     "output_type": "stream",
     "text": [
      "prediction edges 18\n",
      "prediction edges 7\n",
      "prediction edges 4\n",
      "prediction edges 21\n",
      "prediction edges 33\n",
      "prediction edges 9\n",
      "prediction edges 18\n",
      "prediction edges 14\n",
      "prediction edges 10\n"
     ]
    },
    {
     "name": "stderr",
     "output_type": "stream",
     "text": [
      "\n",
      "\n",
      "[demoing]: 908it [00:21, 43.71it/s]\u001b[A\u001b[A\n",
      "\n",
      "[demoing]: 913it [00:21, 43.80it/s]\u001b[A\u001b[A"
     ]
    },
    {
     "name": "stdout",
     "output_type": "stream",
     "text": [
      "prediction edges 14\n",
      "prediction edges 12\n",
      "prediction edges 25\n",
      "prediction edges 9\n",
      "prediction edges 22\n",
      "prediction edges 18\n",
      "prediction edges 8\n",
      "prediction edges 4\n",
      "prediction edges 18\n"
     ]
    },
    {
     "name": "stderr",
     "output_type": "stream",
     "text": [
      "\n",
      "\n",
      "[demoing]: 918it [00:21, 44.02it/s]\u001b[A\u001b[A"
     ]
    },
    {
     "name": "stdout",
     "output_type": "stream",
     "text": [
      "prediction edges 20\n",
      "prediction edges 10\n",
      "prediction edges 6\n",
      "prediction edges 11\n",
      "prediction edges 8\n",
      "prediction edges 14\n",
      "prediction edges 23\n",
      "prediction edges 19\n",
      "prediction edges 30\n"
     ]
    },
    {
     "name": "stderr",
     "output_type": "stream",
     "text": [
      "\n",
      "\n",
      "[demoing]: 923it [00:21, 43.20it/s]\u001b[A\u001b[A\n",
      "\n",
      "[demoing]: 928it [00:21, 43.25it/s]\u001b[A\u001b[A"
     ]
    },
    {
     "name": "stdout",
     "output_type": "stream",
     "text": [
      "prediction edges 5\n",
      "prediction edges 14\n",
      "prediction edges 11\n",
      "prediction edges 24\n",
      "prediction edges 5\n",
      "prediction edges 27\n",
      "prediction edges 7\n",
      "prediction edges 4\n",
      "prediction edges 23\n"
     ]
    },
    {
     "name": "stderr",
     "output_type": "stream",
     "text": [
      "\n",
      "\n",
      "[demoing]: 933it [00:21, 43.69it/s]\u001b[A\u001b[A\n",
      "\n",
      "[demoing]: 938it [00:21, 43.75it/s]\u001b[A\u001b[A"
     ]
    },
    {
     "name": "stdout",
     "output_type": "stream",
     "text": [
      "prediction edges 3\n",
      "prediction edges 6\n",
      "prediction edges 13\n",
      "prediction edges 21\n",
      "prediction edges 9\n",
      "prediction edges 23\n",
      "prediction edges 13\n",
      "prediction edges 12\n",
      "prediction edges 3\n"
     ]
    },
    {
     "name": "stderr",
     "output_type": "stream",
     "text": [
      "\n",
      "\n",
      "[demoing]: 943it [00:21, 43.73it/s]\u001b[A\u001b[A\n",
      "\n",
      "[demoing]: 948it [00:22, 42.95it/s]\u001b[A\u001b[A"
     ]
    },
    {
     "name": "stdout",
     "output_type": "stream",
     "text": [
      "prediction edges 21\n",
      "prediction edges 10\n",
      "prediction edges 22\n",
      "prediction edges 29\n",
      "prediction edges 35\n",
      "prediction edges 11\n",
      "prediction edges 8\n",
      "prediction edges 17\n",
      "prediction edges 18\n"
     ]
    },
    {
     "name": "stderr",
     "output_type": "stream",
     "text": [
      "\n",
      "\n",
      "[demoing]: 953it [00:22, 42.64it/s]\u001b[A\u001b[A\n",
      "\n",
      "[demoing]: 958it [00:22, 42.96it/s]\u001b[A\u001b[A"
     ]
    },
    {
     "name": "stdout",
     "output_type": "stream",
     "text": [
      "prediction edges 28\n",
      "prediction edges 20\n",
      "prediction edges 29\n",
      "prediction edges 11\n",
      "prediction edges 4\n",
      "prediction edges 17\n",
      "prediction edges 25\n",
      "prediction edges 14\n",
      "prediction edges 12\n"
     ]
    },
    {
     "name": "stderr",
     "output_type": "stream",
     "text": [
      "\n",
      "\n",
      "[demoing]: 963it [00:22, 43.02it/s]\u001b[A\u001b[A"
     ]
    },
    {
     "name": "stdout",
     "output_type": "stream",
     "text": [
      "prediction edges 7\n",
      "prediction edges 13\n",
      "prediction edges 14\n",
      "prediction edges 29\n",
      "prediction edges 20\n",
      "prediction edges 18\n",
      "prediction edges 21\n",
      "prediction edges 24\n",
      "prediction edges 13\n"
     ]
    },
    {
     "name": "stderr",
     "output_type": "stream",
     "text": [
      "\n",
      "\n",
      "[demoing]: 968it [00:22, 42.64it/s]\u001b[A\u001b[A\n",
      "\n",
      "[demoing]: 973it [00:22, 42.51it/s]\u001b[A\u001b[A"
     ]
    },
    {
     "name": "stdout",
     "output_type": "stream",
     "text": [
      "prediction edges 27\n",
      "prediction edges 4\n",
      "prediction edges 11\n",
      "prediction edges 14\n",
      "prediction edges 33\n",
      "prediction edges 6\n",
      "prediction edges 17\n",
      "prediction edges 20\n",
      "prediction edges 26\n"
     ]
    },
    {
     "name": "stderr",
     "output_type": "stream",
     "text": [
      "\n",
      "\n",
      "[demoing]: 978it [00:22, 42.70it/s]\u001b[A\u001b[A\n",
      "\n",
      "[demoing]: 983it [00:22, 42.85it/s]\u001b[A\u001b[A"
     ]
    },
    {
     "name": "stdout",
     "output_type": "stream",
     "text": [
      "prediction edges 18\n",
      "prediction edges 6\n",
      "prediction edges 23\n",
      "prediction edges 28\n",
      "prediction edges 17\n",
      "prediction edges 13\n",
      "prediction edges 10\n",
      "prediction edges 19\n",
      "prediction edges 13\n"
     ]
    },
    {
     "name": "stderr",
     "output_type": "stream",
     "text": [
      "\n",
      "\n",
      "[demoing]: 988it [00:22, 42.90it/s]\u001b[A\u001b[A\n",
      "\n",
      "[demoing]: 993it [00:23, 42.70it/s]\u001b[A\u001b[A"
     ]
    },
    {
     "name": "stdout",
     "output_type": "stream",
     "text": [
      "prediction edges 14\n",
      "prediction edges 21\n",
      "prediction edges 17\n",
      "prediction edges 15\n",
      "prediction edges 22\n",
      "prediction edges 22\n",
      "prediction edges 21\n",
      "prediction edges 26\n",
      "prediction edges 11\n"
     ]
    },
    {
     "name": "stderr",
     "output_type": "stream",
     "text": [
      "\n",
      "\n",
      "[demoing]: 998it [00:23, 43.11it/s]\u001b[A\u001b[A\n",
      "\n",
      "[demoing]: 1003it [00:23, 43.40it/s]\u001b[A\u001b[A"
     ]
    },
    {
     "name": "stdout",
     "output_type": "stream",
     "text": [
      "prediction edges 21\n",
      "prediction edges 15\n",
      "prediction edges 6\n",
      "prediction edges 21\n",
      "prediction edges 15\n",
      "prediction edges 20\n",
      "prediction edges 14\n",
      "prediction edges 14\n",
      "prediction edges 10\n"
     ]
    },
    {
     "name": "stderr",
     "output_type": "stream",
     "text": [
      "\n",
      "\n",
      "[demoing]: 1008it [00:23, 43.21it/s]\u001b[A\u001b[A"
     ]
    },
    {
     "name": "stdout",
     "output_type": "stream",
     "text": [
      "prediction edges 21\n",
      "prediction edges 17\n",
      "prediction edges 10\n",
      "prediction edges 15\n",
      "prediction edges 19\n",
      "prediction edges 10\n",
      "prediction edges 34\n",
      "prediction edges 15\n",
      "prediction edges 21\n"
     ]
    },
    {
     "name": "stderr",
     "output_type": "stream",
     "text": [
      "\n",
      "\n",
      "[demoing]: 1013it [00:23, 42.55it/s]\u001b[A\u001b[A\n",
      "\n",
      "[demoing]: 1018it [00:23, 42.59it/s]\u001b[A\u001b[A"
     ]
    },
    {
     "name": "stdout",
     "output_type": "stream",
     "text": [
      "prediction edges 30\n",
      "prediction edges 8\n",
      "prediction edges 34\n",
      "prediction edges 19\n",
      "prediction edges 15\n",
      "prediction edges 17\n",
      "prediction edges 29\n",
      "prediction edges 19\n",
      "prediction edges 6\n"
     ]
    },
    {
     "name": "stderr",
     "output_type": "stream",
     "text": [
      "\n",
      "\n",
      "[demoing]: 1023it [00:23, 42.95it/s]\u001b[A\u001b[A\n",
      "\n",
      "[demoing]: 1028it [00:23, 42.94it/s]\u001b[A\u001b[A"
     ]
    },
    {
     "name": "stdout",
     "output_type": "stream",
     "text": [
      "prediction edges 11\n",
      "prediction edges 18\n",
      "prediction edges 26\n",
      "prediction edges 0\n",
      "prediction edges 1\n",
      "prediction edges 3\n",
      "prediction edges 20\n",
      "prediction edges 13\n",
      "prediction edges 18\n"
     ]
    },
    {
     "name": "stderr",
     "output_type": "stream",
     "text": [
      "\n",
      "\n",
      "[demoing]: 1033it [00:24, 43.02it/s]\u001b[A\u001b[A\n",
      "\n",
      "[demoing]: 1038it [00:24, 43.59it/s]\u001b[A\u001b[A"
     ]
    },
    {
     "name": "stdout",
     "output_type": "stream",
     "text": [
      "prediction edges 14\n",
      "prediction edges 18\n",
      "prediction edges 25\n",
      "prediction edges 22\n",
      "prediction edges 16\n",
      "prediction edges 10\n",
      "prediction edges 10\n",
      "prediction edges 3\n",
      "prediction edges 3\n"
     ]
    },
    {
     "name": "stderr",
     "output_type": "stream",
     "text": [
      "\n",
      "\n",
      "[demoing]: 1043it [00:24, 43.63it/s]\u001b[A\u001b[A\n",
      "\n",
      "[demoing]: 1048it [00:24, 43.59it/s]\u001b[A\u001b[A"
     ]
    },
    {
     "name": "stdout",
     "output_type": "stream",
     "text": [
      "prediction edges 7\n",
      "prediction edges 11\n",
      "prediction edges 10\n",
      "prediction edges 29\n",
      "prediction edges 31\n",
      "prediction edges 9\n",
      "prediction edges 14\n",
      "prediction edges 7\n",
      "prediction edges 15\n"
     ]
    },
    {
     "name": "stderr",
     "output_type": "stream",
     "text": [
      "\n",
      "\n",
      "[demoing]: 1053it [00:24, 43.66it/s]\u001b[A\u001b[A"
     ]
    },
    {
     "name": "stdout",
     "output_type": "stream",
     "text": [
      "prediction edges 5\n",
      "prediction edges 19\n",
      "prediction edges 28\n",
      "prediction edges 7\n",
      "prediction edges 4\n",
      "prediction edges 11\n",
      "prediction edges 28\n",
      "prediction edges 32\n",
      "prediction edges 12\n"
     ]
    },
    {
     "name": "stderr",
     "output_type": "stream",
     "text": [
      "\n",
      "\n",
      "[demoing]: 1058it [00:24, 43.13it/s]\u001b[A\u001b[A\n",
      "\n",
      "[demoing]: 1063it [00:24, 43.19it/s]\u001b[A\u001b[A"
     ]
    },
    {
     "name": "stdout",
     "output_type": "stream",
     "text": [
      "prediction edges 9\n",
      "prediction edges 21\n",
      "prediction edges 6\n",
      "prediction edges 25\n",
      "prediction edges 16\n",
      "prediction edges 17\n",
      "prediction edges 10\n",
      "prediction edges 4\n",
      "prediction edges 11\n"
     ]
    },
    {
     "name": "stderr",
     "output_type": "stream",
     "text": [
      "\n",
      "\n",
      "[demoing]: 1068it [00:24, 43.93it/s]\u001b[A\u001b[A\n",
      "\n",
      "[demoing]: 1073it [00:24, 42.73it/s]\u001b[A\u001b[A"
     ]
    },
    {
     "name": "stdout",
     "output_type": "stream",
     "text": [
      "prediction edges 6\n",
      "prediction edges 17\n",
      "prediction edges 3\n",
      "prediction edges 11\n",
      "prediction edges 32\n",
      "prediction edges 11\n",
      "prediction edges 42\n",
      "prediction edges 18\n",
      "prediction edges 14\n"
     ]
    },
    {
     "name": "stderr",
     "output_type": "stream",
     "text": [
      "\n",
      "\n",
      "[demoing]: 1078it [00:25, 43.43it/s]\u001b[A\u001b[A\n",
      "\n",
      "[demoing]: 1083it [00:25, 43.90it/s]\u001b[A\u001b[A"
     ]
    },
    {
     "name": "stdout",
     "output_type": "stream",
     "text": [
      "prediction edges 8\n",
      "prediction edges 13\n",
      "prediction edges 16\n",
      "prediction edges 18\n",
      "prediction edges 14\n",
      "prediction edges 8\n",
      "prediction edges 18\n",
      "prediction edges 4\n",
      "prediction edges 3\n",
      "prediction edges 8\n"
     ]
    },
    {
     "name": "stderr",
     "output_type": "stream",
     "text": [
      "\n",
      "\n",
      "[demoing]: 1088it [00:25, 44.08it/s]\u001b[A\u001b[A\n",
      "\n",
      "[demoing]: 1093it [00:25, 43.90it/s]\u001b[A\u001b[A"
     ]
    },
    {
     "name": "stdout",
     "output_type": "stream",
     "text": [
      "prediction edges 13\n",
      "prediction edges 22\n",
      "prediction edges 19\n",
      "prediction edges 27\n",
      "prediction edges 21\n",
      "prediction edges 19\n",
      "prediction edges 5\n",
      "prediction edges 21\n",
      "prediction edges 23\n"
     ]
    },
    {
     "name": "stderr",
     "output_type": "stream",
     "text": [
      "\n",
      "\n",
      "[demoing]: 1101it [00:25, 43.01it/s]\u001b[A\u001b[A"
     ]
    },
    {
     "name": "stdout",
     "output_type": "stream",
     "text": [
      "prediction edges 17\n",
      "prediction edges 20\n",
      "prediction edges 23\n",
      "prediction edges 28\n",
      "prediction edges 16\n",
      "prediction edges 21\n",
      "prediction edges 25\n"
     ]
    },
    {
     "name": "stderr",
     "output_type": "stream",
     "text": [
      "\n"
     ]
    }
   ],
   "source": [
    "import importlib\n",
    "importlib.reload(eval_probes_on_dataset)\n",
    "# this is paired with parse-distance\n",
    "pair_reporter = WordPairReporter(yaml_args) \n",
    "\n",
    "# this is paired with parse-depth\n",
    "reporter = WordReporter(yaml_args)\n",
    "\n",
    "word_dists, word_depths, predicted_edges = eval_probes_on_dataset.report_on_stdin(yaml_args, dev_sentiment)"
   ]
  },
  {
   "cell_type": "code",
   "execution_count": 48,
   "metadata": {},
   "outputs": [],
   "source": [
    "def earliest_root(a, b):\n",
    "    for i in range(min(len(a), len(b))):\n",
    "        if a[i] != b[i]:\n",
    "            return i\n",
    "    return -1\n",
    "\n",
    "def get_adj_matrix(cur_tree):\n",
    "    num_words = len(cur_tree.leaves())\n",
    "    all_paths = [cur_tree.leaf_treeposition(i) for i in range(num_words)]\n",
    "    matrix = [[0] * num_words for _ in range(num_words)]\n",
    "\n",
    "    for a_idx, a in enumerate(all_paths):\n",
    "        for b_idx, b in enumerate(all_paths):\n",
    "            if a_idx < b_idx:\n",
    "                root = earliest_root(a, b)\n",
    "                matrix[a_idx][b_idx] = len(a) + len(b) - 2 * root\n",
    "                matrix[b_idx][a_idx] = len(a) + len(b) - 2 * root\n",
    "    return matrix"
   ]
  },
  {
   "cell_type": "code",
   "execution_count": 56,
   "metadata": {},
   "outputs": [
    {
     "name": "stderr",
     "output_type": "stream",
     "text": [
      "\n",
      "\n",
      "[uuas,tikz]: 0it [00:00, ?it/s]\u001b[A\u001b[A\n",
      "\n",
      "[uuas,tikz]: 57it [00:00, 566.86it/s]\u001b[A\u001b[A\n",
      "\n",
      "[uuas,tikz]: 117it [00:00, 576.38it/s]\u001b[A\u001b[A\n",
      "\n",
      "[uuas,tikz]: 179it [00:00, 586.17it/s]\u001b[A\u001b[A\n",
      "\n",
      "[uuas,tikz]: 234it [00:00, 574.34it/s]\u001b[A\u001b[A\n",
      "\n",
      "[uuas,tikz]: 297it [00:00, 588.18it/s]\u001b[A\u001b[A\n",
      "\n",
      "[uuas,tikz]: 370it [00:00, 624.00it/s]\u001b[A\u001b[A\n",
      "\n",
      "[uuas,tikz]: 434it [00:00, 626.75it/s]\u001b[A\u001b[A\n",
      "\n",
      "[uuas,tikz]: 509it [00:00, 658.03it/s]\u001b[A\u001b[A\n",
      "\n",
      "[uuas,tikz]: 573it [00:00, 620.84it/s]\u001b[A\u001b[A\n",
      "\n",
      "[uuas,tikz]: 637it [00:01, 625.83it/s]\u001b[A\u001b[A\n",
      "\n",
      "[uuas,tikz]: 706it [00:01, 642.15it/s]\u001b[A\u001b[A\n",
      "\n",
      "[uuas,tikz]: 770it [00:01, 633.56it/s]\u001b[A\u001b[A\n",
      "\n",
      "[uuas,tikz]: 834it [00:01, 618.82it/s]\u001b[A\u001b[A\n",
      "\n",
      "[uuas,tikz]: 896it [00:01, 610.05it/s]\u001b[A\u001b[A\n",
      "\n",
      "[uuas,tikz]: 966it [00:01, 631.37it/s]\u001b[A\u001b[A\n",
      "\n",
      "[uuas,tikz]: 1030it [00:01, 628.97it/s]\u001b[A\u001b[A\n",
      "\n",
      "[uuas,tikz]: 1101it [00:01, 628.20it/s]\u001b[A\u001b[A"
     ]
    },
    {
     "name": "stdout",
     "output_type": "stream",
     "text": [
      "0.4618542972868002\n"
     ]
    },
    {
     "name": "stderr",
     "output_type": "stream",
     "text": [
      "\n"
     ]
    }
   ],
   "source": [
    "def report_uuas(predicted_edges, trees, split_name):\n",
    "    uspan_total = 0\n",
    "    uspan_correct = 0\n",
    "    total_sents = 0\n",
    "    for predicted_edge, gt_tree in tqdm(zip(predicted_edges, trees), desc='[uuas,tikz]'):\n",
    "        words = gt_tree.leaves()\n",
    "        poses = gt_tree.leaves()\n",
    "        gold_edges = get_adj_matrix(gt_tree)\n",
    "        gold_edges = prims_matrix_to_edges(gold_edges, words, poses)\n",
    "        pred_edges = predicted_edge\n",
    "#         pred_edges = prims_matrix_to_edges(prediction_batch, words, poses)\n",
    "\n",
    "#         if split_name != 'test' and total_sents < 20:\n",
    "#             self.print_tikz(pred_edges, gold_edges, words, split_name)\n",
    "\n",
    "#         print(total_sents)\n",
    "#         print(gold_edges)\n",
    "#         print(pred_edges)\n",
    "#         print()\n",
    "#         import pdb\n",
    "#         pdb.set_trace()\n",
    "        gold_span = set([tuple(sorted(x)) for x in gold_edges])\n",
    "        pred_span = set([tuple(sorted(x)) for x in pred_edges])\n",
    "        uspan_correct += len(gold_span.intersection(pred_span))\n",
    "        uspan_total += len(gold_edges)\n",
    "        total_sents += 1\n",
    "\n",
    "    uuas = uspan_correct / float(uspan_total)\n",
    "    return uuas\n",
    "\n",
    "print(report_uuas(predicted_edges, gt_dev_trees, 'dev'))"
   ]
  },
  {
   "cell_type": "code",
   "execution_count": null,
   "metadata": {},
   "outputs": [],
   "source": []
  }
 ],
 "metadata": {
  "kernelspec": {
   "display_name": "data-mining",
   "language": "python",
   "name": "data-mining"
  },
  "language_info": {
   "codemirror_mode": {
    "name": "ipython",
    "version": 3
   },
   "file_extension": ".py",
   "mimetype": "text/x-python",
   "name": "python",
   "nbconvert_exporter": "python",
   "pygments_lexer": "ipython3",
   "version": "3.6.10"
  }
 },
 "nbformat": 4,
 "nbformat_minor": 4
}
