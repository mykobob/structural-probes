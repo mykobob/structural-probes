{
 "cells": [
  {
   "cell_type": "code",
   "execution_count": 1,
   "metadata": {},
   "outputs": [
    {
     "name": "stdout",
     "output_type": "stream",
     "text": [
      "/home/mli/School/data_mining/CS391D_Final_Project/code/real_code/structural-probes\n"
     ]
    }
   ],
   "source": [
    "%cd .."
   ]
  },
  {
   "cell_type": "code",
   "execution_count": 12,
   "metadata": {},
   "outputs": [],
   "source": [
    "import sys\n",
    "sys.path.append('structural-probes')\n",
    "sys.path.append('finetuning')\n",
    "from pathlib import Path\n",
    "\n",
    "from run_experiment import setup_new_experiment_dir, execute_experiment\n",
    "import yaml\n",
    "import torch\n",
    "import pandas as pd\n",
    "import eval_probes_on_dataset\n",
    "import jupyter_slack\n",
    "\n",
    "from transformers import BertConfig, BertTokenizer, BertForSequenceClassification\n",
    "from sklearn.metrics import f1_score"
   ]
  },
  {
   "cell_type": "code",
   "execution_count": 3,
   "metadata": {},
   "outputs": [
    {
     "name": "stdout",
     "output_type": "stream",
     "text": [
      "Constructing new results directory at results/BERT-disk-parse-distance-2020-5-14-10-26-55-750665/\n"
     ]
    },
    {
     "name": "stderr",
     "output_type": "stream",
     "text": [
      "/home/mli/anaconda3/envs/data-mining/lib/python3.6/site-packages/ipykernel_launcher.py:16: YAMLLoadWarning: calling yaml.load() without Loader=... is deprecated, as the default Loader is unsafe. Please read https://msg.pyyaml.org/load for full details.\n",
      "  app.launch_new_instance()\n"
     ]
    }
   ],
   "source": [
    "def setup_args_and_folder(): \n",
    "    CONFIG_FILE = 'example/config/bert_base_distance_ptb3.yaml'\n",
    "    EXPERIMENT_NAME = ''\n",
    "    SEED = 123\n",
    "\n",
    "    class Object(object):\n",
    "        pass\n",
    "\n",
    "    cli_args = Object()\n",
    "    cli_args.experiment_config = CONFIG_FILE\n",
    "    cli_args.results_dir = EXPERIMENT_NAME\n",
    "    cli_args.train_probe = -1\n",
    "    cli_args.report_results = 1\n",
    "    cli_args.seed = SEED\n",
    "\n",
    "    yaml_args = yaml.load(open(cli_args.experiment_config))\n",
    "    setup_new_experiment_dir(cli_args, yaml_args, cli_args.results_dir)\n",
    "\n",
    "    device = torch.device(\"cuda:0\" if torch.cuda.is_available() else \"cpu\")\n",
    "    yaml_args['device'] = device\n",
    "    yaml_args['model_type'] = 'large'\n",
    "    return yaml_args\n",
    "\n",
    "yaml_args = setup_args_and_folder()"
   ]
  },
  {
   "cell_type": "markdown",
   "metadata": {},
   "source": [
    "# Requirements before running this code\n",
    "- Corpus (conllx, for BERT)\n",
    "    - Run `convert_splits_to_depparse.sh` (to get .conllx format)\n",
    "    - Run `convert_conll_to_raw.py` (to get into raw text) \n",
    "- BERT-layer embeddings (.bert-layers.hdf5)\n",
    "    - Run `convert_raw_to_bert.py` (Uses BERT to create bert-embeddings for ALL layers)\n",
    "- Depth & Distance Params Path\n",
    "    - Pretrained from data\n",
    "- Ground Truths\n",
    "    - Trees\n",
    "        - Run Stanford CoreNLP's `ReadSentimentDataset` to get the ground truth trees\n",
    "    - Sentiment\n",
    "        - Run `apply_splits.py` to average all phrases' sentiments in the sentences"
   ]
  },
  {
   "cell_type": "markdown",
   "metadata": {},
   "source": [
    "# Notes for generating the Tree data for SST\n",
    "- This is for reading in the Ground Truth trees that is already given to us in SST\n",
    "- We'll use Stanford's CoreNLP tools\n",
    "- Run the ReadSentimentDataset `java -mx4g edu.stanford.nlp.sentiment.ReadSentimentDataset -inputDir data/SST-2/original -outputDir tmp/`\n",
    "  - The ground truth already does subword partitions, so need to account for that"
   ]
  },
  {
   "cell_type": "code",
   "execution_count": 4,
   "metadata": {},
   "outputs": [],
   "source": [
    "from nltk.tree import Tree\n",
    "\n",
    "from reporter import WordPairReporter, WordReporter, prims_matrix_to_edges\n",
    "from tqdm import tqdm\n",
    "import copy"
   ]
  },
  {
   "cell_type": "code",
   "execution_count": 5,
   "metadata": {},
   "outputs": [],
   "source": [
    "def read_trees(path):\n",
    "    with open(path) as f:\n",
    "        tree_lines = f.readlines()\n",
    "        \n",
    "    trees = [Tree.fromstring(treeline) for treeline in tree_lines]\n",
    "    return trees\n",
    "\n",
    "def read_sentiment_sentences(path):\n",
    "    with open(path) as f:\n",
    "        all_sentences = f.readlines()\n",
    "        \n",
    "        sentences, labels = [], []\n",
    "        for pair in all_sentences:\n",
    "            sentence, label = pair.split('\\t')\n",
    "            sentences.append(sentence)\n",
    "            labels.append(label)\n",
    "        return sentences, labels"
   ]
  },
  {
   "cell_type": "code",
   "execution_count": 6,
   "metadata": {},
   "outputs": [],
   "source": [
    "data_base = Path('../../../data/SST-2')\n",
    "\n",
    "train_path = data_base / 'sentence_splits' / 'train_cat.tsv'\n",
    "dev_path = data_base / 'sentence_splits' / 'dev_cat.tsv'\n",
    "\n",
    "# read in SST dataset\n",
    "sst_trees_base = data_base / 'tree_format/'\n",
    "gt_tree_train_path = sst_trees_base / 'train.txt'\n",
    "gt_tree_dev_path = sst_trees_base / 'dev.txt'\n",
    "\n",
    "train_sentiment, train_labels = read_sentiment_sentences(train_path)\n",
    "dev_sentiment, dev_labels = read_sentiment_sentences(dev_path)\n",
    "\n",
    "# Read into NTLK Trees\n",
    "gt_train_trees = read_trees(gt_tree_train_path)\n",
    "gt_dev_trees = read_trees(gt_tree_dev_path)"
   ]
  },
  {
   "cell_type": "code",
   "execution_count": 8,
   "metadata": {
    "scrolled": true
   },
   "outputs": [
    {
     "name": "stderr",
     "output_type": "stream",
     "text": [
      "INFO:transformers.configuration_utils:loading configuration file https://s3.amazonaws.com/models.huggingface.co/bert/bert-base-cased-config.json from cache at /home/mli/.cache/torch/transformers/b945b69218e98b3e2c95acf911789741307dec43c698d35fad11c1ae28bda352.9da767be51e1327499df13488672789394e2ca38b877837e52618a67d7002391\n",
      "INFO:transformers.configuration_utils:Model config BertConfig {\n",
      "  \"_num_labels\": 2,\n",
      "  \"architectures\": [\n",
      "    \"BertForMaskedLM\"\n",
      "  ],\n",
      "  \"attention_probs_dropout_prob\": 0.1,\n",
      "  \"bad_words_ids\": null,\n",
      "  \"bos_token_id\": null,\n",
      "  \"decoder_start_token_id\": null,\n",
      "  \"do_sample\": false,\n",
      "  \"early_stopping\": false,\n",
      "  \"eos_token_id\": null,\n",
      "  \"finetuning_task\": null,\n",
      "  \"hidden_act\": \"gelu\",\n",
      "  \"hidden_dropout_prob\": 0.1,\n",
      "  \"hidden_size\": 768,\n",
      "  \"id2label\": {\n",
      "    \"0\": \"LABEL_0\",\n",
      "    \"1\": \"LABEL_1\"\n",
      "  },\n",
      "  \"initializer_range\": 0.02,\n",
      "  \"intermediate_size\": 3072,\n",
      "  \"is_decoder\": false,\n",
      "  \"is_encoder_decoder\": false,\n",
      "  \"label2id\": {\n",
      "    \"LABEL_0\": 0,\n",
      "    \"LABEL_1\": 1\n",
      "  },\n",
      "  \"layer_norm_eps\": 1e-12,\n",
      "  \"length_penalty\": 1.0,\n",
      "  \"max_length\": 20,\n",
      "  \"max_position_embeddings\": 512,\n",
      "  \"min_length\": 0,\n",
      "  \"model_type\": \"bert\",\n",
      "  \"no_repeat_ngram_size\": 0,\n",
      "  \"num_attention_heads\": 12,\n",
      "  \"num_beams\": 1,\n",
      "  \"num_hidden_layers\": 12,\n",
      "  \"num_return_sequences\": 1,\n",
      "  \"output_attentions\": false,\n",
      "  \"output_hidden_states\": false,\n",
      "  \"output_past\": true,\n",
      "  \"pad_token_id\": 0,\n",
      "  \"prefix\": null,\n",
      "  \"pruned_heads\": {},\n",
      "  \"repetition_penalty\": 1.0,\n",
      "  \"task_specific_params\": null,\n",
      "  \"temperature\": 1.0,\n",
      "  \"top_k\": 50,\n",
      "  \"top_p\": 1.0,\n",
      "  \"torchscript\": false,\n",
      "  \"type_vocab_size\": 2,\n",
      "  \"use_bfloat16\": false,\n",
      "  \"vocab_size\": 28996\n",
      "}\n",
      "\n",
      "INFO:transformers.configuration_utils:loading configuration file best_models/bert_base/config.json\n",
      "INFO:transformers.configuration_utils:Model config BertConfig {\n",
      "  \"_num_labels\": 1,\n",
      "  \"architectures\": [\n",
      "    \"BertForSequenceClassification\"\n",
      "  ],\n",
      "  \"attention_probs_dropout_prob\": 0.1,\n",
      "  \"bad_words_ids\": null,\n",
      "  \"bos_token_id\": null,\n",
      "  \"decoder_start_token_id\": null,\n",
      "  \"do_sample\": false,\n",
      "  \"early_stopping\": false,\n",
      "  \"eos_token_id\": null,\n",
      "  \"finetuning_task\": null,\n",
      "  \"hidden_act\": \"gelu\",\n",
      "  \"hidden_dropout_prob\": 0.1,\n",
      "  \"hidden_size\": 768,\n",
      "  \"id2label\": {\n",
      "    \"0\": \"LABEL_0\"\n",
      "  },\n",
      "  \"initializer_range\": 0.02,\n",
      "  \"intermediate_size\": 3072,\n",
      "  \"is_decoder\": false,\n",
      "  \"is_encoder_decoder\": false,\n",
      "  \"label2id\": {\n",
      "    \"LABEL_0\": 0\n",
      "  },\n",
      "  \"layer_norm_eps\": 1e-12,\n",
      "  \"length_penalty\": 1.0,\n",
      "  \"max_length\": 20,\n",
      "  \"max_position_embeddings\": 512,\n",
      "  \"min_length\": 0,\n",
      "  \"model_type\": \"bert\",\n",
      "  \"no_repeat_ngram_size\": 0,\n",
      "  \"num_attention_heads\": 12,\n",
      "  \"num_beams\": 1,\n",
      "  \"num_hidden_layers\": 12,\n",
      "  \"num_return_sequences\": 1,\n",
      "  \"output_attentions\": false,\n",
      "  \"output_hidden_states\": true,\n",
      "  \"output_past\": true,\n",
      "  \"pad_token_id\": 0,\n",
      "  \"prefix\": null,\n",
      "  \"pruned_heads\": {},\n",
      "  \"repetition_penalty\": 1.0,\n",
      "  \"task_specific_params\": null,\n",
      "  \"temperature\": 1.0,\n",
      "  \"top_k\": 50,\n",
      "  \"top_p\": 1.0,\n",
      "  \"torchscript\": false,\n",
      "  \"type_vocab_size\": 2,\n",
      "  \"use_bfloat16\": false,\n",
      "  \"vocab_size\": 28996\n",
      "}\n",
      "\n",
      "INFO:transformers.modeling_utils:loading weights file best_models/bert_base/pytorch_model.bin\n",
      "INFO:transformers.tokenization_utils:loading file https://s3.amazonaws.com/models.huggingface.co/bert/bert-base-cased-vocab.txt from cache at /home/mli/.cache/torch/transformers/5e8a2b4893d13790ed4150ca1906be5f7a03d6c4ddf62296c383f6db42814db2.e13dbb970cb325137104fb2e5f36fe865f27746c6b526f6352861b1980eb80b1\n"
     ]
    }
   ],
   "source": [
    "from finetune_bert_module import SST_Test\n",
    "\n",
    "\n",
    "config = BertConfig.from_pretrained('bert-base-cased')\n",
    "config.output_hidden_states=True\n",
    "config.num_labels = 1\n",
    "model = BertForSequenceClassification.from_pretrained('best_models/bert_base')\n",
    "# model = BertForSequenceClassification.from_pretrained('bert-large-cased', config=config)\n",
    "model = model.to(yaml_args['device'])\n",
    "model.eval()\n",
    "\n",
    "tokenizer = BertTokenizer.from_pretrained('bert-base-cased')"
   ]
  },
  {
   "cell_type": "code",
   "execution_count": 9,
   "metadata": {
    "scrolled": true
   },
   "outputs": [
    {
     "name": "stderr",
     "output_type": "stream",
     "text": [
      "[demoing]: 1it [00:00,  8.50it/s]"
     ]
    },
    {
     "name": "stdout",
     "output_type": "stream",
     "text": [
      "Constructing TwoWordPSDProbe\n",
      "Constructing OneWordPSDProbe\n"
     ]
    },
    {
     "name": "stderr",
     "output_type": "stream",
     "text": [
      "[demoing]: 1101it [00:15, 70.34it/s]\n"
     ]
    }
   ],
   "source": [
    "# Calculate distance between the two trees\n",
    "# one tree's format is from structural probes\n",
    "# other tree's format is from the dataset (gt_*_trees)\n",
    "# import importlib\n",
    "# importlib.reload(eval_probes_on_dataset)\n",
    "\n",
    "word_dists, word_depths, predicted_edges = eval_probes_on_dataset.use_probes(yaml_args, dev_sentiment, model, tokenizer)"
   ]
  },
  {
   "cell_type": "code",
   "execution_count": 15,
   "metadata": {},
   "outputs": [
    {
     "name": "stderr",
     "output_type": "stream",
     "text": [
      "Eval Dev Sentiment: 1101it [00:14, 75.83it/s]\n"
     ]
    }
   ],
   "source": [
    "# Calculate accuracy of the model\n",
    "sigmoid = torch.nn.Sigmoid()\n",
    "mse = 0\n",
    "preds = []\n",
    "labels = [] \n",
    "for idx, line in tqdm(enumerate(dev_sentiment), desc='Eval Dev Sentiment'):\n",
    "    _, tokens_tensor, segments_tensors = eval_probes_on_dataset.prepare_sentence_for_bert(line, tokenizer)\n",
    "    line_label = int(dev_labels[idx])\n",
    "\n",
    "    device = yaml_args['device']\n",
    "    tokens_tensor = tokens_tensor.unsqueeze(0).to(device)\n",
    "    segments_tensors = segments_tensors.unsqueeze(0).to(device)\n",
    "    with torch.no_grad():\n",
    "        logits, encoded_layers = model(tokens_tensor, segments_tensors)\n",
    "        probs = sigmoid(logits)\n",
    "        mse += (line_label - probs.item()) ** 2\n",
    "        preds.append(1 if probs.item() >= 0.5 else 0)\n",
    "    labels.append(line_label)        "
   ]
  },
  {
   "cell_type": "code",
   "execution_count": 16,
   "metadata": {},
   "outputs": [
    {
     "name": "stdout",
     "output_type": "stream",
     "text": [
      "Higher is bad 0.2627136037257443\n",
      "All 0 0.4904632152588556\n",
      "All 1 0.5095367847411444\n",
      "f1 0.0\n"
     ]
    }
   ],
   "source": [
    "print('Higher is bad', mse / len(dev_sentiment))\n",
    "print('All 0', guessing_0 / len(dev_sentiment))\n",
    "print('All 1', guessing_1 / len(dev_sentiment))\n",
    "print('f1', f1_score(labels, preds))"
   ]
  },
  {
   "cell_type": "code",
   "execution_count": 11,
   "metadata": {},
   "outputs": [],
   "source": [
    "def earliest_root(a, b):\n",
    "    for i in range(min(len(a), len(b))):\n",
    "        if a[i] != b[i]:\n",
    "            return i\n",
    "    return -1\n",
    "\n",
    "def get_adj_matrix(cur_tree):\n",
    "    num_words = len(cur_tree.leaves())\n",
    "    all_paths = [cur_tree.leaf_treeposition(i) for i in range(num_words)]\n",
    "    matrix = [[0] * num_words for _ in range(num_words)]\n",
    "\n",
    "    for a_idx, a in enumerate(all_paths):\n",
    "        for b_idx, b in enumerate(all_paths):\n",
    "            if a_idx < b_idx:\n",
    "                root = earliest_root(a, b)\n",
    "                matrix[a_idx][b_idx] = len(a) + len(b) - 2 * root\n",
    "                matrix[b_idx][a_idx] = len(a) + len(b) - 2 * root\n",
    "    return matrix"
   ]
  },
  {
   "cell_type": "code",
   "execution_count": null,
   "metadata": {},
   "outputs": [],
   "source": [
    "def report_uuas(predicted_edges, trees, split_name):\n",
    "    uspan_total = 0\n",
    "    uspan_correct = 0\n",
    "    total_sents = 0\n",
    "    for predicted_edge, gt_tree in tqdm(zip(predicted_edges, trees), desc='[uuas,tikz]'):\n",
    "        words = gt_tree.leaves()\n",
    "        poses = gt_tree.leaves()\n",
    "        gold_edges = get_adj_matrix(gt_tree)\n",
    "        gold_edges = prims_matrix_to_edges(gold_edges, words, poses)\n",
    "        pred_edges = predicted_edge\n",
    "\n",
    "        gold_span = set([tuple(sorted(x)) for x in gold_edges])\n",
    "        pred_span = set([tuple(sorted(x)) for x in pred_edges])\n",
    "        uspan_correct += len(gold_span.intersection(pred_span))\n",
    "        uspan_total += len(gold_edges)\n",
    "        total_sents += 1\n",
    "\n",
    "    uuas = uspan_correct / float(uspan_total)\n",
    "    return uuas\n",
    "\n",
    "uuas_score = report_uuas(predicted_edges, gt_dev_trees, 'dev')\n",
    "print(uuas_score)"
   ]
  },
  {
   "cell_type": "code",
   "execution_count": null,
   "metadata": {},
   "outputs": [],
   "source": [
    "def get_sentiments():\n",
    "    pass"
   ]
  },
  {
   "cell_type": "code",
   "execution_count": null,
   "metadata": {},
   "outputs": [],
   "source": [
    "%%notify \"result\"\n",
    "result = f\"Finished SST: {uuas_score:.4f}\"\n",
    "print(result)"
   ]
  },
  {
   "cell_type": "code",
   "execution_count": null,
   "metadata": {},
   "outputs": [],
   "source": []
  }
 ],
 "metadata": {
  "kernelspec": {
   "display_name": "data-mining",
   "language": "python",
   "name": "data-mining"
  },
  "language_info": {
   "codemirror_mode": {
    "name": "ipython",
    "version": 3
   },
   "file_extension": ".py",
   "mimetype": "text/x-python",
   "name": "python",
   "nbconvert_exporter": "python",
   "pygments_lexer": "ipython3",
   "version": "3.6.10"
  }
 },
 "nbformat": 4,
 "nbformat_minor": 4
}
