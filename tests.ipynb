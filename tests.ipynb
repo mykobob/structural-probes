{
 "cells": [
  {
   "cell_type": "code",
   "execution_count": 3,
   "metadata": {},
   "outputs": [],
   "source": [
    "import sys\n",
    "sys.path.append('structural-probes')"
   ]
  },
  {
   "cell_type": "code",
   "execution_count": 4,
   "metadata": {},
   "outputs": [],
   "source": [
    "from run_experiment import setup_new_experiment_dir, execute_experiment\n",
    "import yaml\n",
    "import torch"
   ]
  },
  {
   "cell_type": "code",
   "execution_count": 5,
   "metadata": {},
   "outputs": [
    {
     "name": "stdout",
     "output_type": "stream",
     "text": [
      "Constructing new results directory at example/results/BERT-disk-parse-distance-2020-4-16-11-17-33-998540/\n"
     ]
    }
   ],
   "source": [
    "CONFIG_FILE = 'example/config/bert_ptb3.yaml'\n",
    "EXPERIMENT_NAME = ''\n",
    "SEED = 123\n",
    "\n",
    "class Object(object):\n",
    "    pass\n",
    "\n",
    "cli_args = Object()\n",
    "cli_args.experiment_config = CONFIG_FILE\n",
    "cli_args.results_dir = EXPERIMENT_NAME\n",
    "cli_args.train_probe = -1\n",
    "cli_args.report_results = 1\n",
    "cli_args.seed = SEED\n",
    "\n",
    "yaml_args = yaml.load(open(cli_args.experiment_config), Loader=yaml.FullLoader)\n",
    "setup_new_experiment_dir(cli_args, yaml_args, cli_args.results_dir)\n",
    "\n",
    "device = torch.device('cuda:0' if torch.cuda.is_available() else 'cpu')\n",
    "yaml_args['device'] = device"
   ]
  },
  {
   "cell_type": "code",
   "execution_count": 6,
   "metadata": {},
   "outputs": [
    {
     "name": "stdout",
     "output_type": "stream",
     "text": [
      "Loading BERT Pretrained Embeddings from my_tests/ptb3-wsj-train.bert-layers.hdf5; using layer 11\n"
     ]
    },
    {
     "name": "stderr",
     "output_type": "stream",
     "text": [
      "The pre-trained model you are loading is a cased model but you have not set `do_lower_case` to False. We are setting `do_lower_case=False` for you but you may want to check this behavior.\n"
     ]
    },
    {
     "name": "stdout",
     "output_type": "stream",
     "text": [
      "Using BERT-base-cased tokenizer to align embeddings with PTB tokens\n"
     ]
    },
    {
     "name": "stderr",
     "output_type": "stream",
     "text": [
      "[aligning embeddings]: 100%|██████████| 3686/3686 [00:14<00:00, 257.88it/s]\n",
      "The pre-trained model you are loading is a cased model but you have not set `do_lower_case` to False. We are setting `do_lower_case=False` for you but you may want to check this behavior.\n"
     ]
    },
    {
     "name": "stdout",
     "output_type": "stream",
     "text": [
      "Loading BERT Pretrained Embeddings from my_tests/ptb3-wsj-dev.bert-layers.hdf5; using layer 11\n"
     ]
    },
    {
     "name": "stderr",
     "output_type": "stream",
     "text": [
      "[aligning embeddings]: 100%|██████████| 115/115 [00:00<00:00, 700.68it/s]\n",
      "The pre-trained model you are loading is a cased model but you have not set `do_lower_case` to False. We are setting `do_lower_case=False` for you but you may want to check this behavior.\n"
     ]
    },
    {
     "name": "stdout",
     "output_type": "stream",
     "text": [
      "Using BERT-base-cased tokenizer to align embeddings with PTB tokens\n",
      "Loading BERT Pretrained Embeddings from my_tests/ptb3-wsj-test.bert-layers.hdf5; using layer 11\n"
     ]
    },
    {
     "name": "stderr",
     "output_type": "stream",
     "text": [
      "\r",
      "[aligning embeddings]:   0%|          | 0/113 [00:00<?, ?it/s]"
     ]
    },
    {
     "name": "stdout",
     "output_type": "stream",
     "text": [
      "Using BERT-base-cased tokenizer to align embeddings with PTB tokens\n"
     ]
    },
    {
     "name": "stderr",
     "output_type": "stream",
     "text": [
      "[aligning embeddings]: 100%|██████████| 113/113 [00:00<00:00, 151.60it/s]\n",
      "[computing labels]: 100%|██████████| 3686/3686 [00:24<00:00, 153.00it/s]\n",
      "[computing labels]: 100%|██████████| 115/115 [00:00<00:00, 204.66it/s]\n",
      "[computing labels]: 100%|██████████| 113/113 [00:00<00:00, 187.05it/s]\n"
     ]
    },
    {
     "name": "stdout",
     "output_type": "stream",
     "text": [
      "Constructing TwoWordPSDProbe\n"
     ]
    },
    {
     "name": "stderr",
     "output_type": "stream",
     "text": [
      "[training]:   0%|          | 0/30 [00:00<?, ?it/s]\n",
      "[training batch]:   0%|          | 0/93 [00:00<?, ?it/s]\u001b[A\n",
      "[training batch]:  15%|█▌        | 14/93 [00:00<00:00, 133.46it/s]\u001b[A"
     ]
    },
    {
     "name": "stdout",
     "output_type": "stream",
     "text": [
      "Training probe...\n"
     ]
    },
    {
     "name": "stderr",
     "output_type": "stream",
     "text": [
      "\n",
      "[training batch]:  27%|██▋       | 25/93 [00:00<00:00, 123.29it/s]\u001b[A\n",
      "[training batch]:  37%|███▋      | 34/93 [00:00<00:00, 101.79it/s]\u001b[A\n",
      "[training batch]:  52%|█████▏    | 48/93 [00:00<00:00, 109.64it/s]\u001b[A\n",
      "[training batch]:  68%|██████▊   | 63/93 [00:00<00:00, 118.02it/s]\u001b[A\n",
      "[training batch]:  82%|████████▏ | 76/93 [00:00<00:00, 120.17it/s]\u001b[A\n",
      "[training batch]: 100%|██████████| 93/93 [00:00<00:00, 121.16it/s]\u001b[A\n",
      "\n",
      "[dev batch]: 100%|██████████| 3/3 [00:00<00:00, 202.71it/s]\n",
      "[training]:   3%|▎         | 1/30 [00:00<00:24,  1.19it/s]\n",
      "[training batch]:   0%|          | 0/93 [00:00<?, ?it/s]\u001b[A"
     ]
    },
    {
     "name": "stdout",
     "output_type": "stream",
     "text": [
      "[epoch 0] Train loss: 1.4036158074261504, Dev loss: 1.244388945206352\n",
      "Saving probe parameters\n"
     ]
    },
    {
     "name": "stderr",
     "output_type": "stream",
     "text": [
      "\n",
      "[training batch]:  13%|█▎        | 12/93 [00:00<00:01, 78.49it/s]\u001b[A\n",
      "[training batch]:  28%|██▊       | 26/93 [00:00<00:00, 89.68it/s]\u001b[A\n",
      "[training batch]:  43%|████▎     | 40/93 [00:00<00:00, 100.44it/s]\u001b[A\n",
      "[training batch]:  59%|█████▉    | 55/93 [00:00<00:00, 109.88it/s]\u001b[A\n",
      "[training batch]:  74%|███████▍  | 69/93 [00:00<00:00, 116.73it/s]\u001b[A\n",
      "[training batch]: 100%|██████████| 93/93 [00:00<00:00, 127.28it/s]\u001b[A\n",
      "\n",
      "[dev batch]: 100%|██████████| 3/3 [00:00<00:00, 195.17it/s]\n",
      "[training]:   7%|▋         | 2/30 [00:01<00:22,  1.23it/s]\n",
      "[training batch]:   0%|          | 0/93 [00:00<?, ?it/s]\u001b[A\n",
      "[training batch]:  15%|█▌        | 14/93 [00:00<00:00, 139.98it/s]\u001b[A"
     ]
    },
    {
     "name": "stdout",
     "output_type": "stream",
     "text": [
      "[epoch 1] Train loss: 1.0988906259065856, Dev loss: 1.1482141245966373\n",
      "Saving probe parameters\n"
     ]
    },
    {
     "name": "stderr",
     "output_type": "stream",
     "text": [
      "\n",
      "[training batch]:  31%|███       | 29/93 [00:00<00:00, 140.54it/s]\u001b[A\n",
      "[training batch]:  43%|████▎     | 40/93 [00:00<00:00, 110.13it/s]\u001b[A\n",
      "[training batch]:  58%|█████▊    | 54/93 [00:00<00:00, 116.80it/s]\u001b[A\n",
      "[training batch]:  72%|███████▏  | 67/93 [00:00<00:00, 118.62it/s]\u001b[A\n",
      "[training batch]: 100%|██████████| 93/93 [00:00<00:00, 125.41it/s]\u001b[A\n",
      "\n",
      "[dev batch]: 100%|██████████| 3/3 [00:00<00:00, 196.26it/s]\n",
      "[training]:  10%|█         | 3/30 [00:02<00:21,  1.25it/s]\n",
      "[training batch]:   0%|          | 0/93 [00:00<?, ?it/s]\u001b[A\n",
      "[training batch]:  14%|█▍        | 13/93 [00:00<00:00, 122.34it/s]\u001b[A"
     ]
    },
    {
     "name": "stdout",
     "output_type": "stream",
     "text": [
      "[epoch 2] Train loss: 1.0240336877136726, Dev loss: 1.1173618482506793\n",
      "Saving probe parameters\n"
     ]
    },
    {
     "name": "stderr",
     "output_type": "stream",
     "text": [
      "\n",
      "[training batch]:  29%|██▉       | 27/93 [00:00<00:00, 124.54it/s]\u001b[A\n",
      "[training batch]:  44%|████▍     | 41/93 [00:00<00:00, 127.24it/s]\u001b[A\n",
      "[training batch]:  59%|█████▉    | 55/93 [00:00<00:00, 130.04it/s]\u001b[A\n",
      "[training batch]:  71%|███████   | 66/93 [00:00<00:00, 107.98it/s]\u001b[A\n",
      "[training batch]: 100%|██████████| 93/93 [00:00<00:00, 125.21it/s]\u001b[A\n",
      "\n",
      "[dev batch]: 100%|██████████| 3/3 [00:00<00:00, 199.20it/s]\n",
      "[training]:  13%|█▎        | 4/30 [00:03<00:20,  1.27it/s]\n",
      "[training batch]:   0%|          | 0/93 [00:00<?, ?it/s]\u001b[A\n",
      "[training batch]:  14%|█▍        | 13/93 [00:00<00:00, 87.71it/s]\u001b[A"
     ]
    },
    {
     "name": "stdout",
     "output_type": "stream",
     "text": [
      "[epoch 3] Train loss: 0.9866325848786908, Dev loss: 1.093444193964419\n",
      "Saving probe parameters\n"
     ]
    },
    {
     "name": "stderr",
     "output_type": "stream",
     "text": [
      "\n",
      "[training batch]:  30%|███       | 28/93 [00:00<00:00, 99.06it/s]\u001b[A\n",
      "[training batch]:  46%|████▌     | 43/93 [00:00<00:00, 109.65it/s]\u001b[A\n",
      "[training batch]:  61%|██████▏   | 57/93 [00:00<00:00, 116.65it/s]\u001b[A\n",
      "[training batch]:  76%|███████▋  | 71/93 [00:00<00:00, 119.51it/s]\u001b[A\n",
      "[training batch]: 100%|██████████| 93/93 [00:00<00:00, 127.33it/s]\u001b[A\n",
      "\n",
      "[dev batch]: 100%|██████████| 3/3 [00:00<00:00, 199.45it/s]\n",
      "[training]:  17%|█▋        | 5/30 [00:03<00:19,  1.29it/s]\n",
      "[training batch]:   0%|          | 0/93 [00:00<?, ?it/s]\u001b[A\n",
      "[training batch]:  15%|█▌        | 14/93 [00:00<00:00, 138.93it/s]\u001b[A"
     ]
    },
    {
     "name": "stdout",
     "output_type": "stream",
     "text": [
      "[epoch 4] Train loss: 0.9602258751331563, Dev loss: 1.0812654909880266\n",
      "Saving probe parameters\n"
     ]
    },
    {
     "name": "stderr",
     "output_type": "stream",
     "text": [
      "\n",
      "[training batch]:  31%|███       | 29/93 [00:00<00:00, 137.23it/s]\u001b[A\n",
      "[training batch]:  41%|████      | 38/93 [00:00<00:00, 111.19it/s]\u001b[A\n",
      "[training batch]:  58%|█████▊    | 54/93 [00:00<00:00, 120.63it/s]\u001b[A\n",
      "[training batch]:  73%|███████▎  | 68/93 [00:00<00:00, 122.80it/s]\u001b[A\n",
      "[training batch]: 100%|██████████| 93/93 [00:00<00:00, 128.48it/s]\u001b[A\n",
      "\n",
      "[dev batch]: 100%|██████████| 3/3 [00:00<00:00, 199.34it/s]\n",
      "[training]:  20%|██        | 6/30 [00:04<00:18,  1.30it/s]\n",
      "[training batch]:   0%|          | 0/93 [00:00<?, ?it/s]\u001b[A\n",
      "[training batch]:  15%|█▌        | 14/93 [00:00<00:00, 132.69it/s]\u001b[A"
     ]
    },
    {
     "name": "stdout",
     "output_type": "stream",
     "text": [
      "[epoch 5] Train loss: 0.9439228293821984, Dev loss: 1.0787819572117017\n",
      "Saving probe parameters\n"
     ]
    },
    {
     "name": "stderr",
     "output_type": "stream",
     "text": [
      "\n",
      "[training batch]:  31%|███       | 29/93 [00:00<00:00, 134.79it/s]\u001b[A\n",
      "[training batch]:  46%|████▌     | 43/93 [00:00<00:00, 136.08it/s]\u001b[A\n",
      "[training batch]:  62%|██████▏   | 58/93 [00:00<00:00, 138.50it/s]\u001b[A\n",
      "[training batch]:  76%|███████▋  | 71/93 [00:00<00:00, 116.65it/s]\u001b[A\n",
      "[training batch]: 100%|██████████| 93/93 [00:00<00:00, 128.01it/s]\u001b[A\n",
      "\n",
      "[dev batch]: 100%|██████████| 3/3 [00:00<00:00, 203.77it/s]\n",
      "[training]:  23%|██▎       | 7/30 [00:05<00:17,  1.31it/s]\n",
      "[training batch]:   0%|          | 0/93 [00:00<?, ?it/s]\u001b[A\n",
      "[training batch]:   8%|▊         | 7/93 [00:00<00:01, 59.48it/s]\u001b[A"
     ]
    },
    {
     "name": "stdout",
     "output_type": "stream",
     "text": [
      "[epoch 6] Train loss: 0.9314479007710598, Dev loss: 1.0696621770444124\n",
      "Saving probe parameters\n"
     ]
    },
    {
     "name": "stderr",
     "output_type": "stream",
     "text": [
      "\n",
      "[training batch]:  22%|██▏       | 20/93 [00:00<00:01, 70.87it/s]\u001b[A\n",
      "[training batch]:  38%|███▊      | 35/93 [00:00<00:00, 83.68it/s]\u001b[A\n",
      "[training batch]:  54%|█████▍    | 50/93 [00:00<00:00, 95.99it/s]\u001b[A\n",
      "[training batch]:  70%|██████▉   | 65/93 [00:00<00:00, 106.55it/s]\u001b[A\n",
      "[training batch]:  84%|████████▍ | 78/93 [00:00<00:00, 111.85it/s]\u001b[A\n",
      "[training batch]: 100%|██████████| 93/93 [00:00<00:00, 126.28it/s]\u001b[A\n",
      "\n",
      "[dev batch]: 100%|██████████| 3/3 [00:00<00:00, 205.02it/s]\n",
      "[training]:  27%|██▋       | 8/30 [00:06<00:16,  1.32it/s]\n",
      "[training batch]:   0%|          | 0/93 [00:00<?, ?it/s]\u001b[A\n",
      "[training batch]:   8%|▊         | 7/93 [00:00<00:01, 63.38it/s]\u001b[A"
     ]
    },
    {
     "name": "stdout",
     "output_type": "stream",
     "text": [
      "[epoch 7] Train loss: 0.9211143541775898, Dev loss: 1.0609783338463825\n",
      "Saving probe parameters\n"
     ]
    },
    {
     "name": "stderr",
     "output_type": "stream",
     "text": [
      "\n",
      "[training batch]:  24%|██▎       | 22/93 [00:00<00:00, 76.05it/s]\u001b[A\n",
      "[training batch]:  39%|███▊      | 36/93 [00:00<00:00, 86.72it/s]\u001b[A\n",
      "[training batch]:  55%|█████▍    | 51/93 [00:00<00:00, 98.34it/s]\u001b[A\n",
      "[training batch]:  70%|██████▉   | 65/93 [00:00<00:00, 107.15it/s]\u001b[A\n",
      "[training batch]: 100%|██████████| 93/93 [00:00<00:00, 128.37it/s]\u001b[A\n",
      "\n",
      "[dev batch]: 100%|██████████| 3/3 [00:00<00:00, 196.18it/s]\n",
      "[training]:  30%|███       | 9/30 [00:06<00:15,  1.32it/s]\n",
      "[training batch]:   0%|          | 0/93 [00:00<?, ?it/s]\u001b[A\n",
      "[training batch]:  16%|█▌        | 15/93 [00:00<00:00, 144.54it/s]\u001b[A"
     ]
    },
    {
     "name": "stdout",
     "output_type": "stream",
     "text": [
      "[epoch 8] Train loss: 0.9157662513265129, Dev loss: 1.0641870249872623\n"
     ]
    },
    {
     "name": "stderr",
     "output_type": "stream",
     "text": [
      "\n",
      "[training batch]:  32%|███▏      | 30/93 [00:00<00:00, 144.57it/s]\u001b[A\n",
      "[training batch]:  48%|████▊     | 45/93 [00:00<00:00, 144.04it/s]\u001b[A\n",
      "[training batch]:  63%|██████▎   | 59/93 [00:00<00:00, 140.01it/s]\u001b[A\n",
      "[training batch]:  75%|███████▌  | 70/93 [00:00<00:00, 118.59it/s]\u001b[A\n",
      "[training batch]: 100%|██████████| 93/93 [00:00<00:00, 127.56it/s]\u001b[A\n",
      "\n",
      "[dev batch]: 100%|██████████| 3/3 [00:00<00:00, 190.92it/s]\n",
      "[training]:  33%|███▎      | 10/30 [00:07<00:15,  1.33it/s]\n",
      "[training batch]:   0%|          | 0/93 [00:00<?, ?it/s]\u001b[A\n",
      "[training batch]:  14%|█▍        | 13/93 [00:00<00:00, 125.63it/s]\u001b[A"
     ]
    },
    {
     "name": "stdout",
     "output_type": "stream",
     "text": [
      "[epoch 9] Train loss: 0.8801205299240833, Dev loss: 1.0479432147482166\n",
      "Saving probe parameters\n"
     ]
    },
    {
     "name": "stderr",
     "output_type": "stream",
     "text": [
      "\n",
      "[training batch]:  30%|███       | 28/93 [00:00<00:00, 130.16it/s]\u001b[A\n",
      "[training batch]:  46%|████▌     | 43/93 [00:00<00:00, 134.34it/s]\u001b[A\n",
      "[training batch]:  61%|██████▏   | 57/93 [00:00<00:00, 135.09it/s]\u001b[A\n",
      "[training batch]:  73%|███████▎  | 68/93 [00:00<00:00, 110.35it/s]\u001b[A\n",
      "[training batch]: 100%|██████████| 93/93 [00:00<00:00, 128.80it/s]\u001b[A\n",
      "\n",
      "[dev batch]: 100%|██████████| 3/3 [00:00<00:00, 199.24it/s]\n",
      "[training]:  37%|███▋      | 11/30 [00:08<00:14,  1.33it/s]\n",
      "[training batch]:   0%|          | 0/93 [00:00<?, ?it/s]\u001b[A\n",
      "[training batch]:  15%|█▌        | 14/93 [00:00<00:00, 132.18it/s]\u001b[A"
     ]
    },
    {
     "name": "stdout",
     "output_type": "stream",
     "text": [
      "[epoch 10] Train loss: 0.8712958143382246, Dev loss: 1.0449086396590523\n",
      "Saving probe parameters\n"
     ]
    },
    {
     "name": "stderr",
     "output_type": "stream",
     "text": [
      "\n",
      "[training batch]:  26%|██▌       | 24/93 [00:00<00:00, 109.25it/s]\u001b[A\n",
      "[training batch]:  41%|████      | 38/93 [00:00<00:00, 113.49it/s]\u001b[A\n",
      "[training batch]:  56%|█████▌    | 52/93 [00:00<00:00, 119.90it/s]\u001b[A\n",
      "[training batch]:  71%|███████   | 66/93 [00:00<00:00, 123.87it/s]\u001b[A\n",
      "[training batch]: 100%|██████████| 93/93 [00:00<00:00, 126.03it/s]\u001b[A\n",
      "\n",
      "[dev batch]: 100%|██████████| 3/3 [00:00<00:00, 194.35it/s]\n",
      "[training]:  40%|████      | 12/30 [00:09<00:13,  1.33it/s]\n",
      "[training batch]:   0%|          | 0/93 [00:00<?, ?it/s]\u001b[A\n",
      "[training batch]:  15%|█▌        | 14/93 [00:00<00:00, 132.68it/s]\u001b[A"
     ]
    },
    {
     "name": "stdout",
     "output_type": "stream",
     "text": [
      "[epoch 11] Train loss: 0.8684633656551963, Dev loss: 1.044360815960428\n",
      "Saving probe parameters\n"
     ]
    },
    {
     "name": "stderr",
     "output_type": "stream",
     "text": [
      "\n",
      "[training batch]:  32%|███▏      | 30/93 [00:00<00:00, 137.23it/s]\u001b[A\n",
      "[training batch]:  41%|████      | 38/93 [00:00<00:00, 102.96it/s]\u001b[A\n",
      "[training batch]:  55%|█████▍    | 51/93 [00:00<00:00, 109.01it/s]\u001b[A\n",
      "[training batch]:  71%|███████   | 66/93 [00:00<00:00, 117.54it/s]\u001b[A\n",
      "[training batch]: 100%|██████████| 93/93 [00:00<00:00, 128.01it/s]\u001b[A\n",
      "\n",
      "[dev batch]: 100%|██████████| 3/3 [00:00<00:00, 190.79it/s]\n",
      "[training]:  43%|████▎     | 13/30 [00:09<00:12,  1.33it/s]\n",
      "[training batch]:   0%|          | 0/93 [00:00<?, ?it/s]\u001b[A\n",
      "[training batch]:  10%|▉         | 9/93 [00:00<00:01, 78.30it/s]\u001b[A"
     ]
    },
    {
     "name": "stdout",
     "output_type": "stream",
     "text": [
      "[epoch 12] Train loss: 0.8668568946716259, Dev loss: 1.0445997155230977\n"
     ]
    },
    {
     "name": "stderr",
     "output_type": "stream",
     "text": [
      "\n",
      "[training batch]:  26%|██▌       | 24/93 [00:00<00:00, 90.99it/s]\u001b[A\n",
      "[training batch]:  40%|███▉      | 37/93 [00:00<00:00, 98.81it/s]\u001b[A\n",
      "[training batch]:  55%|█████▍    | 51/93 [00:00<00:00, 107.85it/s]\u001b[A\n",
      "[training batch]:  72%|███████▏  | 67/93 [00:00<00:00, 117.93it/s]\u001b[A\n",
      "[training batch]: 100%|██████████| 93/93 [00:00<00:00, 128.53it/s]\u001b[A\n",
      "\n",
      "[dev batch]: 100%|██████████| 3/3 [00:00<00:00, 204.31it/s]\n",
      "[training]:  47%|████▋     | 14/30 [00:10<00:11,  1.33it/s]\n",
      "[training batch]:   0%|          | 0/93 [00:00<?, ?it/s]\u001b[A\n",
      "[training batch]:  14%|█▍        | 13/93 [00:00<00:00, 122.79it/s]\u001b[A"
     ]
    },
    {
     "name": "stdout",
     "output_type": "stream",
     "text": [
      "[epoch 13] Train loss: 0.8619638596678064, Dev loss: 1.0439057723335599\n",
      "Saving probe parameters\n"
     ]
    },
    {
     "name": "stderr",
     "output_type": "stream",
     "text": [
      "\n",
      "[training batch]:  29%|██▉       | 27/93 [00:00<00:00, 126.10it/s]\u001b[A\n",
      "[training batch]:  42%|████▏     | 39/93 [00:00<00:00, 122.98it/s]\u001b[A\n",
      "[training batch]:  58%|█████▊    | 54/93 [00:00<00:00, 113.70it/s]\u001b[A\n",
      "[training batch]:  74%|███████▍  | 69/93 [00:00<00:00, 120.74it/s]\u001b[A\n",
      "[training batch]: 100%|██████████| 93/93 [00:00<00:00, 124.98it/s]\u001b[A\n",
      "\n",
      "[dev batch]: 100%|██████████| 3/3 [00:00<00:00, 192.04it/s]\n",
      "[training]:  50%|█████     | 15/30 [00:11<00:11,  1.33it/s]\n",
      "[training batch]:   0%|          | 0/93 [00:00<?, ?it/s]\u001b[A\n",
      "[training batch]:  16%|█▌        | 15/93 [00:00<00:00, 140.09it/s]\u001b[A"
     ]
    },
    {
     "name": "stdout",
     "output_type": "stream",
     "text": [
      "[epoch 14] Train loss: 0.861410226242347, Dev loss: 1.0437095310377038\n",
      "Saving probe parameters\n"
     ]
    },
    {
     "name": "stderr",
     "output_type": "stream",
     "text": [
      "\n",
      "[training batch]:  32%|███▏      | 30/93 [00:00<00:00, 142.22it/s]\u001b[A\n",
      "[training batch]:  48%|████▊     | 45/93 [00:00<00:00, 143.58it/s]\u001b[A\n",
      "[training batch]:  65%|██████▍   | 60/93 [00:00<00:00, 139.67it/s]\u001b[A\n",
      "[training batch]:  81%|████████  | 75/93 [00:00<00:00, 141.91it/s]\u001b[A\n",
      "[training batch]: 100%|██████████| 93/93 [00:00<00:00, 128.37it/s]\u001b[A\n",
      "\n",
      "[dev batch]: 100%|██████████| 3/3 [00:00<00:00, 192.32it/s]\n",
      "[training]:  53%|█████▎    | 16/30 [00:12<00:10,  1.33it/s]\n",
      "[training batch]:   0%|          | 0/93 [00:00<?, ?it/s]\u001b[A\n",
      "[training batch]:  13%|█▎        | 12/93 [00:00<00:00, 117.48it/s]\u001b[A"
     ]
    },
    {
     "name": "stdout",
     "output_type": "stream",
     "text": [
      "[epoch 15] Train loss: 0.8611941090499455, Dev loss: 1.043746218474015\n"
     ]
    },
    {
     "name": "stderr",
     "output_type": "stream",
     "text": [
      "\n",
      "[training batch]:  27%|██▋       | 25/93 [00:00<00:00, 119.47it/s]\u001b[A\n",
      "[training batch]:  42%|████▏     | 39/93 [00:00<00:00, 124.56it/s]\u001b[A\n",
      "[training batch]:  59%|█████▉    | 55/93 [00:00<00:00, 131.75it/s]\u001b[A\n",
      "[training batch]:  74%|███████▍  | 69/93 [00:00<00:00, 133.61it/s]\u001b[A\n",
      "[training batch]: 100%|██████████| 93/93 [00:00<00:00, 126.29it/s]\u001b[A\n",
      "\n",
      "[dev batch]: 100%|██████████| 3/3 [00:00<00:00, 201.59it/s]\n",
      "[training]:  57%|█████▋    | 17/30 [00:12<00:09,  1.33it/s]\n",
      "[training batch]:   0%|          | 0/93 [00:00<?, ?it/s]\u001b[A\n",
      "[training batch]:  16%|█▌        | 15/93 [00:00<00:00, 147.63it/s]\u001b[A"
     ]
    },
    {
     "name": "stdout",
     "output_type": "stream",
     "text": [
      "[epoch 16] Train loss: 0.8606039198338824, Dev loss: 1.043719084366508\n"
     ]
    },
    {
     "name": "stderr",
     "output_type": "stream",
     "text": [
      "\n",
      "[training batch]:  23%|██▎       | 21/93 [00:00<00:00, 101.76it/s]\u001b[A\n",
      "[training batch]:  39%|███▊      | 36/93 [00:00<00:00, 111.28it/s]\u001b[A\n",
      "[training batch]:  54%|█████▍    | 50/93 [00:00<00:00, 118.14it/s]\u001b[A\n",
      "[training batch]:  68%|██████▊   | 63/93 [00:00<00:00, 120.73it/s]\u001b[A\n",
      "[training batch]:  83%|████████▎ | 77/93 [00:00<00:00, 125.84it/s]\u001b[A\n",
      "[training batch]: 100%|██████████| 93/93 [00:00<00:00, 128.17it/s]\u001b[A\n",
      "\n",
      "[dev batch]: 100%|██████████| 3/3 [00:00<00:00, 199.78it/s]\n",
      "[training]:  60%|██████    | 18/30 [00:13<00:09,  1.33it/s]\n",
      "[training batch]:   0%|          | 0/93 [00:00<?, ?it/s]\u001b[A\n",
      "[training batch]:  13%|█▎        | 12/93 [00:00<00:00, 116.16it/s]\u001b[A"
     ]
    },
    {
     "name": "stdout",
     "output_type": "stream",
     "text": [
      "[epoch 17] Train loss: 0.8605360440178145, Dev loss: 1.0437183545983355\n"
     ]
    },
    {
     "name": "stderr",
     "output_type": "stream",
     "text": [
      "\n",
      "[training batch]:  28%|██▊       | 26/93 [00:00<00:00, 121.50it/s]\u001b[A\n",
      "[training batch]:  45%|████▌     | 42/93 [00:00<00:00, 128.98it/s]\u001b[A\n",
      "[training batch]:  57%|█████▋    | 53/93 [00:00<00:00, 112.11it/s]\u001b[A\n",
      "[training batch]:  72%|███████▏  | 67/93 [00:00<00:00, 119.15it/s]\u001b[A\n",
      "[training batch]: 100%|██████████| 93/93 [00:00<00:00, 127.60it/s]\u001b[A\n",
      "\n",
      "[dev batch]: 100%|██████████| 3/3 [00:00<00:00, 192.74it/s]\n",
      "[training]:  63%|██████▎   | 19/30 [00:14<00:08,  1.33it/s]\n",
      "[training batch]:   0%|          | 0/93 [00:00<?, ?it/s]\u001b[A\n",
      "[training batch]:  16%|█▌        | 15/93 [00:00<00:00, 144.12it/s]\u001b[A"
     ]
    },
    {
     "name": "stdout",
     "output_type": "stream",
     "text": [
      "[epoch 18] Train loss: 0.8605294812327161, Dev loss: 1.0437179897142492\n"
     ]
    },
    {
     "name": "stderr",
     "output_type": "stream",
     "text": [
      "\n",
      "[training batch]:  31%|███       | 29/93 [00:00<00:00, 140.19it/s]\u001b[A\n",
      "[training batch]:  44%|████▍     | 41/93 [00:00<00:00, 133.25it/s]\u001b[A\n",
      "[training batch]:  56%|█████▌    | 52/93 [00:00<00:00, 115.81it/s]\u001b[A\n",
      "[training batch]:  72%|███████▏  | 67/93 [00:00<00:00, 120.77it/s]\u001b[A\n",
      "[training batch]: 100%|██████████| 93/93 [00:00<00:00, 129.02it/s]\u001b[A\n",
      "\n",
      "[dev batch]: 100%|██████████| 3/3 [00:00<00:00, 200.89it/s]\n",
      "[training]:  63%|██████▎   | 19/30 [00:15<00:08,  1.33it/s]\n",
      "[predicting]: 100%|██████████| 3/3 [00:00<00:00, 201.80it/s]\n",
      "[training]:  63%|██████▎   | 19/30 [00:15<00:08,  1.33it/s]"
     ]
    },
    {
     "name": "stdout",
     "output_type": "stream",
     "text": [
      "[epoch 19] Train loss: 0.8605292367340105, Dev loss: 1.0437180228855298\n",
      "Early stopping\n",
      "Reporting results of trained probe...\n",
      "Reporting spearmanr on split dev\n"
     ]
    },
    {
     "name": "stderr",
     "output_type": "stream",
     "text": [
      "[training]:  63%|██████▎   | 19/30 [00:16<00:08,  1.33it/s]\n",
      "[uuas,tikz]: 0it [00:00, ?it/s]\u001b[A"
     ]
    },
    {
     "name": "stdout",
     "output_type": "stream",
     "text": [
      "Reporting uuas on split dev\n"
     ]
    },
    {
     "name": "stderr",
     "output_type": "stream",
     "text": [
      "\n",
      "[uuas,tikz]: 1it [00:00,  3.52it/s]\u001b[A\n",
      "[uuas,tikz]: 2it [00:00,  3.87it/s]\u001b[A\n",
      "[uuas,tikz]: 3it [00:00,  4.53it/s]\u001b[A\n"
     ]
    }
   ],
   "source": [
    "execute_experiment(yaml_args, train_probe=cli_args.train_probe, report_results=cli_args.report_results)"
   ]
  },
  {
   "cell_type": "markdown",
   "metadata": {},
   "source": [
    "# List all of the tasks we want to evaluate on"
   ]
  },
  {
   "cell_type": "code",
   "execution_count": null,
   "metadata": {},
   "outputs": [],
   "source": []
  }
 ],
 "metadata": {
  "kernelspec": {
   "display_name": "Python 3",
   "language": "python",
   "name": "python3"
  },
  "language_info": {
   "codemirror_mode": {
    "name": "ipython",
    "version": 3
   },
   "file_extension": ".py",
   "mimetype": "text/x-python",
   "name": "python",
   "nbconvert_exporter": "python",
   "pygments_lexer": "ipython3",
   "version": "3.7.5"
  }
 },
 "nbformat": 4,
 "nbformat_minor": 4
}
