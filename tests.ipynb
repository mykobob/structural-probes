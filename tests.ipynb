{
 "cells": [
  {
   "cell_type": "code",
   "execution_count": 1,
   "metadata": {},
   "outputs": [],
   "source": [
    "from run_experiment import setup_new_experiment_dir, execute_experiment\n",
    "import yaml\n",
    "import torch"
   ]
  },
  {
   "cell_type": "code",
   "execution_count": 2,
   "metadata": {},
   "outputs": [
    {
     "name": "stdout",
     "output_type": "stream",
     "text": [
      "Constructing new results directory at example/results/BERT-disk-parse-distance-2020-4-15-13-56-50-980354/\n"
     ]
    }
   ],
   "source": [
    "CONFIG_FILE = 'example/config/bert_ptb3.yaml'\n",
    "EXPERIMENT_NAME = ''\n",
    "SEED = 123\n",
    "\n",
    "class Object(object):\n",
    "    pass\n",
    "\n",
    "cli_args = Object()\n",
    "cli_args.experiment_config = CONFIG_FILE\n",
    "cli_args.results_dir = EXPERIMENT_NAME\n",
    "cli_args.train_probe = -1\n",
    "cli_args.report_results = 1\n",
    "cli_args.seed = SEED\n",
    "\n",
    "yaml_args = yaml.load(open(cli_args.experiment_config), Loader=yaml.FullLoader)\n",
    "setup_new_experiment_dir(cli_args, yaml_args, cli_args.results_dir)\n",
    "\n",
    "device = torch.device('cuda:0' if torch.cuda.is_available() else 'cpu')\n",
    "yaml_args['device'] = device"
   ]
  },
  {
   "cell_type": "code",
   "execution_count": 3,
   "metadata": {},
   "outputs": [
    {
     "name": "stderr",
     "output_type": "stream",
     "text": [
      "The pre-trained model you are loading is a cased model but you have not set `do_lower_case` to False. We are setting `do_lower_case=False` for you but you may want to check this behavior.\n"
     ]
    },
    {
     "name": "stdout",
     "output_type": "stream",
     "text": [
      "Loading BERT Pretrained Embeddings from my_tests/ptb3-wsj-train.bert-layers.hdf5; using layer 10\n"
     ]
    },
    {
     "name": "stderr",
     "output_type": "stream",
     "text": [
      "[aligning embeddings]:   2%|▏         | 63/3686 [00:00<00:05, 623.92it/s]"
     ]
    },
    {
     "name": "stdout",
     "output_type": "stream",
     "text": [
      "Using BERT-base-cased tokenizer to align embeddings with PTB tokens\n"
     ]
    },
    {
     "name": "stderr",
     "output_type": "stream",
     "text": [
      "[aligning embeddings]: 100%|██████████| 3686/3686 [00:05<00:00, 673.95it/s]\n",
      "The pre-trained model you are loading is a cased model but you have not set `do_lower_case` to False. We are setting `do_lower_case=False` for you but you may want to check this behavior.\n"
     ]
    },
    {
     "name": "stdout",
     "output_type": "stream",
     "text": [
      "Loading BERT Pretrained Embeddings from my_tests/ptb3-wsj-dev.bert-layers.hdf5; using layer 10\n"
     ]
    },
    {
     "name": "stderr",
     "output_type": "stream",
     "text": [
      "[aligning embeddings]: 100%|██████████| 115/115 [00:00<00:00, 667.23it/s]\n",
      "The pre-trained model you are loading is a cased model but you have not set `do_lower_case` to False. We are setting `do_lower_case=False` for you but you may want to check this behavior.\n"
     ]
    },
    {
     "name": "stdout",
     "output_type": "stream",
     "text": [
      "Using BERT-base-cased tokenizer to align embeddings with PTB tokens\n",
      "Loading BERT Pretrained Embeddings from my_tests/ptb3-wsj-test.bert-layers.hdf5; using layer 10\n"
     ]
    },
    {
     "name": "stderr",
     "output_type": "stream",
     "text": [
      "[aligning embeddings]: 100%|██████████| 113/113 [00:00<00:00, 639.83it/s]\n",
      "[computing labels]:   0%|          | 0/3686 [00:00<?, ?it/s]"
     ]
    },
    {
     "name": "stdout",
     "output_type": "stream",
     "text": [
      "Using BERT-base-cased tokenizer to align embeddings with PTB tokens\n"
     ]
    },
    {
     "name": "stderr",
     "output_type": "stream",
     "text": [
      "[computing labels]: 100%|██████████| 3686/3686 [00:21<00:00, 169.69it/s]\n",
      "[computing labels]: 100%|██████████| 115/115 [00:00<00:00, 223.61it/s]\n",
      "[computing labels]: 100%|██████████| 113/113 [00:00<00:00, 198.02it/s]\n"
     ]
    },
    {
     "name": "stdout",
     "output_type": "stream",
     "text": [
      "Constructing TwoWordPSDProbe\n"
     ]
    },
    {
     "name": "stderr",
     "output_type": "stream",
     "text": [
      "[training]:   0%|          | 0/30 [00:00<?, ?it/s]\n",
      "[training batch]:   0%|          | 0/93 [00:00<?, ?it/s]\u001b[A\n",
      "[training batch]:  15%|█▌        | 14/93 [00:00<00:00, 135.05it/s]\u001b[A"
     ]
    },
    {
     "name": "stdout",
     "output_type": "stream",
     "text": [
      "Training probe...\n"
     ]
    },
    {
     "name": "stderr",
     "output_type": "stream",
     "text": [
      "\n",
      "[training batch]:  29%|██▉       | 27/93 [00:00<00:00, 132.26it/s]\u001b[A\n",
      "[training batch]:  43%|████▎     | 40/93 [00:00<00:00, 131.49it/s]\u001b[A\n",
      "[training batch]:  58%|█████▊    | 54/93 [00:00<00:00, 132.38it/s]\u001b[A\n",
      "[training batch]:  74%|███████▍  | 69/93 [00:00<00:00, 135.94it/s]\u001b[A\n",
      "[training batch]: 100%|██████████| 93/93 [00:00<00:00, 126.33it/s]\u001b[A\n",
      "\n",
      "[dev batch]: 100%|██████████| 3/3 [00:00<00:00, 199.07it/s]\n",
      "[training]:   3%|▎         | 1/30 [00:00<00:23,  1.24it/s]\n",
      "[training batch]:   0%|          | 0/93 [00:00<?, ?it/s]\u001b[A\n",
      "[training batch]:  15%|█▌        | 14/93 [00:00<00:00, 137.19it/s]\u001b[A"
     ]
    },
    {
     "name": "stdout",
     "output_type": "stream",
     "text": [
      "[epoch 0] Train loss: 2.078560821400734, Dev loss: 1.24605248492697\n",
      "Saving probe parameters\n"
     ]
    },
    {
     "name": "stderr",
     "output_type": "stream",
     "text": [
      "\n",
      "[training batch]:  30%|███       | 28/93 [00:00<00:00, 135.68it/s]\u001b[A\n",
      "[training batch]:  45%|████▌     | 42/93 [00:00<00:00, 135.52it/s]\u001b[A\n",
      "[training batch]:  61%|██████▏   | 57/93 [00:00<00:00, 137.44it/s]\u001b[A\n",
      "[training batch]:  77%|███████▋  | 72/93 [00:00<00:00, 139.95it/s]\u001b[A\n",
      "[training batch]: 100%|██████████| 93/93 [00:00<00:00, 131.74it/s]\u001b[A\n",
      "\n",
      "[dev batch]: 100%|██████████| 3/3 [00:00<00:00, 207.86it/s]\n",
      "[training]:   7%|▋         | 2/30 [00:01<00:21,  1.28it/s]\n",
      "[training batch]:   0%|          | 0/93 [00:00<?, ?it/s]\u001b[A\n",
      "[training batch]:  14%|█▍        | 13/93 [00:00<00:00, 125.24it/s]\u001b[A"
     ]
    },
    {
     "name": "stdout",
     "output_type": "stream",
     "text": [
      "[epoch 1] Train loss: 1.072543921576721, Dev loss: 1.0970101729683255\n",
      "Saving probe parameters\n"
     ]
    },
    {
     "name": "stderr",
     "output_type": "stream",
     "text": [
      "\n",
      "[training batch]:  29%|██▉       | 27/93 [00:00<00:00, 129.15it/s]\u001b[A\n",
      "[training batch]:  41%|████      | 38/93 [00:00<00:00, 109.44it/s]\u001b[A\n",
      "[training batch]:  57%|█████▋    | 53/93 [00:00<00:00, 118.68it/s]\u001b[A\n",
      "[training batch]:  72%|███████▏  | 67/93 [00:00<00:00, 123.98it/s]\u001b[A\n",
      "[training batch]: 100%|██████████| 93/93 [00:00<00:00, 130.71it/s]\u001b[A\n",
      "\n",
      "[dev batch]: 100%|██████████| 3/3 [00:00<00:00, 192.17it/s]\n",
      "[training]:  10%|█         | 3/30 [00:02<00:20,  1.30it/s]\n",
      "[training batch]:   0%|          | 0/93 [00:00<?, ?it/s]\u001b[A\n",
      "[training batch]:  15%|█▌        | 14/93 [00:00<00:00, 137.54it/s]\u001b[A"
     ]
    },
    {
     "name": "stdout",
     "output_type": "stream",
     "text": [
      "[epoch 2] Train loss: 0.9789652569553998, Dev loss: 1.0634372877038043\n",
      "Saving probe parameters\n"
     ]
    },
    {
     "name": "stderr",
     "output_type": "stream",
     "text": [
      "\n",
      "[training batch]:  29%|██▉       | 27/93 [00:00<00:00, 133.16it/s]\u001b[A\n",
      "[training batch]:  44%|████▍     | 41/93 [00:00<00:00, 134.59it/s]\u001b[A\n",
      "[training batch]:  60%|██████    | 56/93 [00:00<00:00, 138.18it/s]\u001b[A\n",
      "[training batch]:  72%|███████▏  | 67/93 [00:00<00:00, 115.69it/s]\u001b[A\n",
      "[training batch]: 100%|██████████| 93/93 [00:00<00:00, 129.32it/s]\u001b[A\n",
      "\n",
      "[dev batch]: 100%|██████████| 3/3 [00:00<00:00, 201.18it/s]\n",
      "[training]:  13%|█▎        | 4/30 [00:03<00:19,  1.32it/s]\n",
      "[training batch]:   0%|          | 0/93 [00:00<?, ?it/s]\u001b[A\n",
      "[training batch]:  15%|█▌        | 14/93 [00:00<00:00, 138.58it/s]\u001b[A"
     ]
    },
    {
     "name": "stdout",
     "output_type": "stream",
     "text": [
      "[epoch 3] Train loss: 0.9424366976861649, Dev loss: 1.0563466611115828\n",
      "Saving probe parameters\n"
     ]
    },
    {
     "name": "stderr",
     "output_type": "stream",
     "text": [
      "\n",
      "[training batch]:  31%|███       | 29/93 [00:00<00:00, 139.49it/s]\u001b[A\n",
      "[training batch]:  47%|████▋     | 44/93 [00:00<00:00, 142.02it/s]\u001b[A\n",
      "[training batch]:  62%|██████▏   | 58/93 [00:00<00:00, 141.02it/s]\u001b[A\n",
      "[training batch]:  74%|███████▍  | 69/93 [00:00<00:00, 115.05it/s]\u001b[A\n",
      "[training batch]: 100%|██████████| 93/93 [00:00<00:00, 130.80it/s]\u001b[A\n",
      "\n",
      "[dev batch]: 100%|██████████| 3/3 [00:00<00:00, 205.59it/s]\n",
      "[training]:  17%|█▋        | 5/30 [00:03<00:18,  1.33it/s]\n",
      "[training batch]:   0%|          | 0/93 [00:00<?, ?it/s]\u001b[A\n",
      "[training batch]:  15%|█▌        | 14/93 [00:00<00:00, 137.07it/s]\u001b[A"
     ]
    },
    {
     "name": "stdout",
     "output_type": "stream",
     "text": [
      "[epoch 4] Train loss: 0.9170356381541028, Dev loss: 1.0304324606190558\n",
      "Saving probe parameters\n"
     ]
    },
    {
     "name": "stderr",
     "output_type": "stream",
     "text": [
      "\n",
      "[training batch]:  32%|███▏      | 30/93 [00:00<00:00, 140.24it/s]\u001b[A\n",
      "[training batch]:  48%|████▊     | 45/93 [00:00<00:00, 141.73it/s]\u001b[A\n",
      "[training batch]:  65%|██████▍   | 60/93 [00:00<00:00, 142.94it/s]\u001b[A\n",
      "[training batch]:  78%|███████▊  | 73/93 [00:00<00:00, 137.32it/s]\u001b[A\n",
      "[training batch]: 100%|██████████| 93/93 [00:00<00:00, 130.66it/s]\u001b[A\n",
      "\n",
      "[dev batch]: 100%|██████████| 3/3 [00:00<00:00, 197.92it/s]\n",
      "[training]:  20%|██        | 6/30 [00:04<00:17,  1.34it/s]\n",
      "[training batch]:   0%|          | 0/93 [00:00<?, ?it/s]\u001b[A\n",
      "[training batch]:  16%|█▌        | 15/93 [00:00<00:00, 142.25it/s]\u001b[A"
     ]
    },
    {
     "name": "stdout",
     "output_type": "stream",
     "text": [
      "[epoch 5] Train loss: 0.9052392881458632, Dev loss: 1.0355146325152853\n"
     ]
    },
    {
     "name": "stderr",
     "output_type": "stream",
     "text": [
      "\n",
      "[training batch]:  32%|███▏      | 30/93 [00:00<00:00, 142.65it/s]\u001b[A\n",
      "[training batch]:  41%|████      | 38/93 [00:00<00:00, 108.27it/s]\u001b[A\n",
      "[training batch]:  57%|█████▋    | 53/93 [00:00<00:00, 118.12it/s]\u001b[A\n",
      "[training batch]:  71%|███████   | 66/93 [00:00<00:00, 120.00it/s]\u001b[A\n",
      "[training batch]: 100%|██████████| 93/93 [00:00<00:00, 126.70it/s]\u001b[A\n",
      "\n",
      "[dev batch]: 100%|██████████| 3/3 [00:00<00:00, 166.32it/s]\n",
      "[training]:  23%|██▎       | 7/30 [00:05<00:17,  1.34it/s]\n",
      "[training batch]:   0%|          | 0/93 [00:00<?, ?it/s]\u001b[A\n",
      "[training batch]:  14%|█▍        | 13/93 [00:00<00:00, 84.99it/s]\u001b[A"
     ]
    },
    {
     "name": "stdout",
     "output_type": "stream",
     "text": [
      "[epoch 6] Train loss: 0.851673398662118, Dev loss: 1.0097203130307404\n",
      "Saving probe parameters\n"
     ]
    },
    {
     "name": "stderr",
     "output_type": "stream",
     "text": [
      "\n",
      "[training batch]:  30%|███       | 28/93 [00:00<00:00, 96.97it/s]\u001b[A\n",
      "[training batch]:  45%|████▌     | 42/93 [00:00<00:00, 104.18it/s]\u001b[A\n",
      "[training batch]:  60%|██████    | 56/93 [00:00<00:00, 111.93it/s]\u001b[A\n",
      "[training batch]:  74%|███████▍  | 69/93 [00:00<00:00, 116.68it/s]\u001b[A\n",
      "[training batch]: 100%|██████████| 93/93 [00:00<00:00, 121.62it/s]\u001b[A\n",
      "\n",
      "[dev batch]: 100%|██████████| 3/3 [00:00<00:00, 204.81it/s]\n",
      "[training]:  27%|██▋       | 8/30 [00:06<00:16,  1.32it/s]\n",
      "[training batch]:   0%|          | 0/93 [00:00<?, ?it/s]\u001b[A\n",
      "[training batch]:  14%|█▍        | 13/93 [00:00<00:00, 122.86it/s]\u001b[A"
     ]
    },
    {
     "name": "stdout",
     "output_type": "stream",
     "text": [
      "[epoch 7] Train loss: 0.8376142639733499, Dev loss: 1.0075156502101732\n",
      "Saving probe parameters\n"
     ]
    },
    {
     "name": "stderr",
     "output_type": "stream",
     "text": [
      "\n",
      "[training batch]:  30%|███       | 28/93 [00:00<00:00, 128.36it/s]\u001b[A\n",
      "[training batch]:  44%|████▍     | 41/93 [00:00<00:00, 128.58it/s]\u001b[A\n",
      "[training batch]:  57%|█████▋    | 53/93 [00:00<00:00, 125.64it/s]\u001b[A\n",
      "[training batch]:  71%|███████   | 66/93 [00:00<00:00, 124.94it/s]\u001b[A\n",
      "[training batch]:  83%|████████▎ | 77/93 [00:00<00:00, 106.55it/s]\u001b[A\n",
      "[training batch]: 100%|██████████| 93/93 [00:00<00:00, 118.66it/s]\u001b[A\n",
      "\n",
      "[dev batch]: 100%|██████████| 3/3 [00:00<00:00, 111.42it/s]\n",
      "[training]:  30%|███       | 9/30 [00:06<00:16,  1.29it/s]\n",
      "[training batch]:   0%|          | 0/93 [00:00<?, ?it/s]\u001b[A\n",
      "[training batch]:  14%|█▍        | 13/93 [00:00<00:00, 123.60it/s]\u001b[A"
     ]
    },
    {
     "name": "stdout",
     "output_type": "stream",
     "text": [
      "[epoch 8] Train loss: 0.8328506065592194, Dev loss: 1.0063865329908288\n",
      "Saving probe parameters\n"
     ]
    },
    {
     "name": "stderr",
     "output_type": "stream",
     "text": [
      "\n",
      "[training batch]:  28%|██▊       | 26/93 [00:00<00:00, 108.42it/s]\u001b[A\n",
      "[training batch]:  42%|████▏     | 39/93 [00:00<00:00, 112.21it/s]\u001b[A\n",
      "[training batch]:  54%|█████▍    | 50/93 [00:00<00:00, 111.26it/s]\u001b[A\n",
      "[training batch]:  68%|██████▊   | 63/93 [00:00<00:00, 115.98it/s]\u001b[A\n",
      "[training batch]:  83%|████████▎ | 77/93 [00:00<00:00, 121.49it/s]\u001b[A\n",
      "[training batch]: 100%|██████████| 93/93 [00:00<00:00, 118.51it/s]\u001b[A\n",
      "\n",
      "[dev batch]: 100%|██████████| 3/3 [00:00<00:00, 192.96it/s]\n",
      "[training]:  33%|███▎      | 10/30 [00:07<00:15,  1.27it/s]\n",
      "[training batch]:   0%|          | 0/93 [00:00<?, ?it/s]\u001b[A\n",
      "[training batch]:  14%|█▍        | 13/93 [00:00<00:00, 128.43it/s]\u001b[A"
     ]
    },
    {
     "name": "stdout",
     "output_type": "stream",
     "text": [
      "[epoch 9] Train loss: 0.8305993112480259, Dev loss: 1.0057429769764776\n",
      "Saving probe parameters\n"
     ]
    },
    {
     "name": "stderr",
     "output_type": "stream",
     "text": [
      "\n",
      "[training batch]:  28%|██▊       | 26/93 [00:00<00:00, 127.44it/s]\u001b[A\n",
      "[training batch]:  41%|████      | 38/93 [00:00<00:00, 123.15it/s]\u001b[A\n",
      "[training batch]:  57%|█████▋    | 53/93 [00:00<00:00, 129.03it/s]\u001b[A\n",
      "[training batch]:  68%|██████▊   | 63/93 [00:00<00:00, 105.32it/s]\u001b[A\n",
      "[training batch]:  84%|████████▍ | 78/93 [00:00<00:00, 114.65it/s]\u001b[A\n",
      "[training batch]: 100%|██████████| 93/93 [00:00<00:00, 119.25it/s]\u001b[A\n",
      "\n",
      "[dev batch]: 100%|██████████| 3/3 [00:00<00:00, 173.18it/s]\n",
      "[training]:  37%|███▋      | 11/30 [00:08<00:15,  1.26it/s]\n",
      "[training batch]:   0%|          | 0/93 [00:00<?, ?it/s]\u001b[A\n",
      "[training batch]:  14%|█▍        | 13/93 [00:00<00:00, 124.49it/s]\u001b[A"
     ]
    },
    {
     "name": "stdout",
     "output_type": "stream",
     "text": [
      "[epoch 10] Train loss: 0.828599126974138, Dev loss: 1.004040991741678\n",
      "Saving probe parameters\n"
     ]
    },
    {
     "name": "stderr",
     "output_type": "stream",
     "text": [
      "\n",
      "[training batch]:  30%|███       | 28/93 [00:00<00:00, 129.25it/s]\u001b[A\n",
      "[training batch]:  45%|████▌     | 42/93 [00:00<00:00, 129.75it/s]\u001b[A\n",
      "[training batch]:  58%|█████▊    | 54/93 [00:00<00:00, 126.03it/s]\u001b[A\n",
      "[training batch]:  71%|███████   | 66/93 [00:00<00:00, 122.58it/s]\u001b[A\n",
      "[training batch]:  83%|████████▎ | 77/93 [00:00<00:00, 100.83it/s]\u001b[A\n",
      "[training batch]: 100%|██████████| 93/93 [00:00<00:00, 116.19it/s]\u001b[A\n",
      "\n",
      "[dev batch]: 100%|██████████| 3/3 [00:00<00:00, 182.10it/s]\n",
      "[training]:  40%|████      | 12/30 [00:09<00:14,  1.25it/s]\n",
      "[training batch]:   0%|          | 0/93 [00:00<?, ?it/s]\u001b[A\n",
      "[training batch]:  14%|█▍        | 13/93 [00:00<00:00, 119.26it/s]\u001b[A"
     ]
    },
    {
     "name": "stdout",
     "output_type": "stream",
     "text": [
      "[epoch 11] Train loss: 0.827280315703435, Dev loss: 1.004059468144956\n"
     ]
    },
    {
     "name": "stderr",
     "output_type": "stream",
     "text": [
      "\n",
      "[training batch]:  29%|██▉       | 27/93 [00:00<00:00, 124.25it/s]\u001b[A\n",
      "[training batch]:  37%|███▋      | 34/93 [00:00<00:00, 96.04it/s] \u001b[A\n",
      "[training batch]:  51%|█████     | 47/93 [00:00<00:00, 103.90it/s]\u001b[A\n",
      "[training batch]:  66%|██████▌   | 61/93 [00:00<00:00, 111.84it/s]\u001b[A\n",
      "[training batch]:  78%|███████▊  | 73/93 [00:00<00:00, 113.50it/s]\u001b[A\n",
      "[training batch]: 100%|██████████| 93/93 [00:00<00:00, 117.00it/s]\u001b[A\n",
      "\n",
      "[dev batch]: 100%|██████████| 3/3 [00:00<00:00, 196.42it/s]\n",
      "[training]:  43%|████▎     | 13/30 [00:10<00:13,  1.24it/s]\n",
      "[training batch]:   0%|          | 0/93 [00:00<?, ?it/s]\u001b[A\n",
      "[training batch]:  16%|█▌        | 15/93 [00:00<00:00, 149.14it/s]\u001b[A"
     ]
    },
    {
     "name": "stdout",
     "output_type": "stream",
     "text": [
      "[epoch 12] Train loss: 0.8193607129807454, Dev loss: 1.0032212298849355\n",
      "Saving probe parameters\n"
     ]
    },
    {
     "name": "stderr",
     "output_type": "stream",
     "text": [
      "\n",
      "[training batch]:  32%|███▏      | 30/93 [00:00<00:00, 146.99it/s]\u001b[A\n",
      "[training batch]:  45%|████▌     | 42/93 [00:00<00:00, 135.13it/s]\u001b[A\n",
      "[training batch]:  55%|█████▍    | 51/93 [00:00<00:00, 102.93it/s]\u001b[A\n",
      "[training batch]:  69%|██████▉   | 64/93 [00:00<00:00, 108.50it/s]\u001b[A\n",
      "[training batch]: 100%|██████████| 93/93 [00:00<00:00, 125.36it/s]\u001b[A\n",
      "\n",
      "[dev batch]: 100%|██████████| 3/3 [00:00<00:00, 170.23it/s]\n",
      "[training]:  47%|████▋     | 14/30 [00:10<00:12,  1.26it/s]\n",
      "[training batch]:   0%|          | 0/93 [00:00<?, ?it/s]\u001b[A\n",
      "[training batch]:  15%|█▌        | 14/93 [00:00<00:00, 135.10it/s]\u001b[A"
     ]
    },
    {
     "name": "stdout",
     "output_type": "stream",
     "text": [
      "[epoch 13] Train loss: 0.8186676856686225, Dev loss: 1.0027068428371264\n",
      "Saving probe parameters\n"
     ]
    },
    {
     "name": "stderr",
     "output_type": "stream",
     "text": [
      "\n",
      "[training batch]:  28%|██▊       | 26/93 [00:00<00:00, 117.16it/s]\u001b[A\n",
      "[training batch]:  41%|████      | 38/93 [00:00<00:00, 117.45it/s]\u001b[A\n",
      "[training batch]:  57%|█████▋    | 53/93 [00:00<00:00, 125.32it/s]\u001b[A\n",
      "[training batch]:  72%|███████▏  | 67/93 [00:00<00:00, 127.46it/s]\u001b[A\n",
      "[training batch]: 100%|██████████| 93/93 [00:00<00:00, 128.61it/s]\u001b[A\n",
      "\n",
      "[dev batch]: 100%|██████████| 3/3 [00:00<00:00, 197.97it/s]\n",
      "[training]:  50%|█████     | 15/30 [00:11<00:11,  1.29it/s]\n",
      "[training batch]:   0%|          | 0/93 [00:00<?, ?it/s]\u001b[A\n",
      "[training batch]:  14%|█▍        | 13/93 [00:00<00:00, 121.72it/s]\u001b[A"
     ]
    },
    {
     "name": "stdout",
     "output_type": "stream",
     "text": [
      "[epoch 14] Train loss: 0.8183547346991685, Dev loss: 1.0026549297830334\n"
     ]
    },
    {
     "name": "stderr",
     "output_type": "stream",
     "text": [
      "\n",
      "[training batch]:  27%|██▋       | 25/93 [00:00<00:00, 102.85it/s]\u001b[A\n",
      "[training batch]:  40%|███▉      | 37/93 [00:00<00:00, 106.71it/s]\u001b[A\n",
      "[training batch]:  55%|█████▍    | 51/93 [00:00<00:00, 113.80it/s]\u001b[A\n",
      "[training batch]:  71%|███████   | 66/93 [00:00<00:00, 121.18it/s]\u001b[A\n",
      "[training batch]: 100%|██████████| 93/93 [00:00<00:00, 122.74it/s]\u001b[A\n",
      "\n",
      "[dev batch]: 100%|██████████| 3/3 [00:00<00:00, 177.27it/s]\n",
      "[training]:  53%|█████▎    | 16/30 [00:12<00:10,  1.28it/s]\n",
      "[training batch]:   0%|          | 0/93 [00:00<?, ?it/s]\u001b[A\n",
      "[training batch]:  15%|█▌        | 14/93 [00:00<00:00, 133.56it/s]\u001b[A"
     ]
    },
    {
     "name": "stdout",
     "output_type": "stream",
     "text": [
      "[epoch 15] Train loss: 0.8173798366014684, Dev loss: 1.0026326718537704\n"
     ]
    },
    {
     "name": "stderr",
     "output_type": "stream",
     "text": [
      "\n",
      "[training batch]:  29%|██▉       | 27/93 [00:00<00:00, 130.11it/s]\u001b[A\n",
      "[training batch]:  44%|████▍     | 41/93 [00:00<00:00, 130.51it/s]\u001b[A\n",
      "[training batch]:  58%|█████▊    | 54/93 [00:00<00:00, 127.54it/s]\u001b[A\n",
      "[training batch]:  73%|███████▎  | 68/93 [00:00<00:00, 130.15it/s]\u001b[A\n",
      "[training batch]: 100%|██████████| 93/93 [00:00<00:00, 123.02it/s]\u001b[A\n",
      "\n",
      "[dev batch]: 100%|██████████| 3/3 [00:00<00:00, 190.17it/s]\n",
      "[training]:  57%|█████▋    | 17/30 [00:13<00:10,  1.29it/s]\n",
      "[training batch]:   0%|          | 0/93 [00:00<?, ?it/s]\u001b[A\n",
      "[training batch]:  15%|█▌        | 14/93 [00:00<00:00, 135.16it/s]\u001b[A"
     ]
    },
    {
     "name": "stdout",
     "output_type": "stream",
     "text": [
      "[epoch 16] Train loss: 0.8172795279674148, Dev loss: 1.0026298191236414\n"
     ]
    },
    {
     "name": "stderr",
     "output_type": "stream",
     "text": [
      "\n",
      "[training batch]:  22%|██▏       | 20/93 [00:00<00:00, 97.49it/s] \u001b[A\n",
      "[training batch]:  38%|███▊      | 35/93 [00:00<00:00, 108.18it/s]\u001b[A\n",
      "[training batch]:  53%|█████▎    | 49/93 [00:00<00:00, 115.94it/s]\u001b[A\n",
      "[training batch]:  69%|██████▉   | 64/93 [00:00<00:00, 123.67it/s]\u001b[A\n",
      "[training batch]:  86%|████████▌ | 80/93 [00:00<00:00, 130.28it/s]\u001b[A\n",
      "[training batch]: 100%|██████████| 93/93 [00:00<00:00, 128.50it/s]\u001b[A\n",
      "\n",
      "[dev batch]: 100%|██████████| 3/3 [00:00<00:00, 202.92it/s]\n",
      "[training]:  60%|██████    | 18/30 [00:13<00:09,  1.30it/s]\n",
      "[training batch]:   0%|          | 0/93 [00:00<?, ?it/s]\u001b[A\n",
      "[training batch]:  14%|█▍        | 13/93 [00:00<00:00, 129.21it/s]\u001b[A"
     ]
    },
    {
     "name": "stdout",
     "output_type": "stream",
     "text": [
      "[epoch 17] Train loss: 0.8172692888402706, Dev loss: 1.0026295869246773\n"
     ]
    },
    {
     "name": "stderr",
     "output_type": "stream",
     "text": [
      "\n",
      "[training batch]:  31%|███       | 29/93 [00:00<00:00, 135.12it/s]\u001b[A\n",
      "[training batch]:  46%|████▌     | 43/93 [00:00<00:00, 136.15it/s]\u001b[A\n",
      "[training batch]:  60%|██████    | 56/93 [00:00<00:00, 114.04it/s]\u001b[A\n",
      "[training batch]:  77%|███████▋  | 72/93 [00:00<00:00, 123.28it/s]\u001b[A\n",
      "[training batch]: 100%|██████████| 93/93 [00:00<00:00, 131.63it/s]\u001b[A\n",
      "\n",
      "[dev batch]: 100%|██████████| 3/3 [00:00<00:00, 199.05it/s]\n",
      "[training]:  60%|██████    | 18/30 [00:14<00:09,  1.30it/s]\n",
      "[predicting]: 100%|██████████| 3/3 [00:00<00:00, 174.77it/s]\n",
      "[training]:  60%|██████    | 18/30 [00:14<00:09,  1.30it/s]"
     ]
    },
    {
     "name": "stdout",
     "output_type": "stream",
     "text": [
      "[epoch 18] Train loss: 0.8172689850279901, Dev loss: 1.0026297196097995\n",
      "Early stopping\n",
      "Reporting results of trained probe...\n",
      "Reporting spearmanr on split dev\n"
     ]
    },
    {
     "name": "stderr",
     "output_type": "stream",
     "text": [
      "[training]:  60%|██████    | 18/30 [00:15<00:09,  1.30it/s]\n",
      "[uuas,tikz]: 0it [00:00, ?it/s]\u001b[A"
     ]
    },
    {
     "name": "stdout",
     "output_type": "stream",
     "text": [
      "Reporting uuas on split dev\n"
     ]
    },
    {
     "name": "stderr",
     "output_type": "stream",
     "text": [
      "\n",
      "[uuas,tikz]: 1it [00:00,  4.63it/s]\u001b[A\n",
      "[uuas,tikz]: 2it [00:00,  4.87it/s]\u001b[A\n",
      "[uuas,tikz]: 3it [00:00,  5.30it/s]\u001b[A\n"
     ]
    }
   ],
   "source": [
    "execute_experiment(yaml_args, train_probe=cli_args.train_probe, report_results=cli_args.report_results)"
   ]
  },
  {
   "cell_type": "markdown",
   "metadata": {},
   "source": [
    "# List all of the tasks we want to evaluate on"
   ]
  },
  {
   "cell_type": "code",
   "execution_count": null,
   "metadata": {},
   "outputs": [],
   "source": []
  }
 ],
 "metadata": {
  "kernelspec": {
   "display_name": "Python 3",
   "language": "python",
   "name": "python3"
  },
  "language_info": {
   "codemirror_mode": {
    "name": "ipython",
    "version": 3
   },
   "file_extension": ".py",
   "mimetype": "text/x-python",
   "name": "python",
   "nbconvert_exporter": "python",
   "pygments_lexer": "ipython3",
   "version": "3.7.5"
  }
 },
 "nbformat": 4,
 "nbformat_minor": 4
}
